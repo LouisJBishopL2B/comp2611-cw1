{
 "cells": [
  {
   "cell_type": "markdown",
   "metadata": {},
   "source": [
    "# Results (10 iterations)\n",
    "## Small Puzzle \n",
    "| Test   | #max     | #gen   | #inQ   | Time s     | Termination     |\n",
    "|--------|----------|--------|--------|------------|-----------------|\n",
    "| DF     | 10000.00 | 55.14  | 7.51   | 0.00267265 | GOAL_STATE_FOUND|\n",
    "| BF     | 10000.00 | 145.90 | 0.12   | 0.00509633 | GOAL_STATE_FOUND|\n",
    "| Best_M | 10000.00 | 71.22  | 3.50   | 0.00297123 | GOAL_STATE_FOUND|\n",
    "| Best_E | 10000.00 | 71.43  | 3.39   | 0.00309559 | GOAL_STATE_FOUND|\n",
    "| Best_C | 10000.00 | 63.54  | 7.11   | 0.00290144 | GOAL_STATE_FOUND|\n",
    "| A*_M   | 10000.00 | 143.86 | 0.47   | 0.00509538 | GOAL_STATE_FOUND|\n",
    "| A*_E   | 10000.00 | 143.92 | 0.44   | 0.00409531 | GOAL_STATE_FOUND|\n",
    "| A*_C   | 10000.00 | 144.18 | 0.39   | 0.00451889 | GOAL_STATE_FOUND|\n",
    "## Complex Puzzle\n",
    "| Test   | #max     | #gen     | #inQ     | Time s     | Termination        |\n",
    "|--------|----------|----------|----------|------------|--------------------|\n",
    "| DF     | 10000.00 | 12000.86 | 2749.90  | 3.18645618 | GOAL_STATE_FOUND   |\n",
    "| BF     | 10000.00 | 20773.58 | 2362.43  | 1.11909319 | NODE_LIMIT_EXCEEDED|\n",
    "| Best_M | 10000.00 | 2687.41  | 387.51   | 0.06509680 | GOAL_STATE_FOUND   |\n",
    "| Best_E | 10000.00 | 3258.01  | 470.90   | 0.07123859 | GOAL_STATE_FOUND   |\n",
    "| Best_C | 10000.00 | 3089.36  | 465.17   | 0.06880961 | GOAL_STATE_FOUND   |\n",
    "| A*_M   | 10000.00 | 20792.71 | 2248.72  | 0.48534707 | NODE_LIMIT_EXCEEDED|\n",
    "| A*_E   | 10000.00 | 20681.45 | 2305.76  | 0.47397148 | NODE_LIMIT_EXCEEDED|\n",
    "| A*_C   | 10000.00 | 20569.59 | 2344.28  | 0.48794469 | NODE_LIMIT_EXCEEDED|\n",
    "## Big Puzzle\n",
    "| Test   | #max     | #gen     | #inQ     | Time s     | Termination        |\n",
    "|--------|----------|----------|----------|------------|--------------------|\n",
    "| DF     | 10000.00 | 3525.15  | 2748.29  | 0.33593955 | GOAL_STATE_FOUND   |\n",
    "| BF     | 10000.00 | 64055.00 | 6046.74  | 2.12907546 | NODE_LIMIT_EXCEEDED|\n",
    "| Best_M | 10000.00 | 1376.19  | 1032.30  | 0.21004550 | GOAL_STATE_FOUND   |\n",
    "| Best_E | 10000.00 | 12110.38 | 9017.32  | 2.27687766 | NODE_LIMIT_EXCEEDED|\n",
    "| Best_C | 10000.00 | 9713.64  | 7249.67  | 3.40060413 | GOAL_STATE_FOUND   |\n",
    "| A*_M   | 10000.00 | 18245.75 | 2839.34  | 2.46787132 | GOAL_STATE_FOUND   |\n",
    "| A*_E   | 10000.00 | 57057.71 | 6448.78  | 1.89211232 | NODE_LIMIT_EXCEEDED|\n",
    "| A*_C   | 10000.00 | 52271.35 | 6788.93  | 1.82942189 | NODE_LIMIT_EXCEEDED|"
   ]
  }
 ],
 "metadata": {
  "language_info": {
   "name": "python"
  }
 },
 "nbformat": 4,
 "nbformat_minor": 2
}
