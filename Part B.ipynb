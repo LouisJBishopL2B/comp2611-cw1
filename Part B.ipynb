{
  "cells": [
    {
      "cell_type": "code",
      "execution_count": null,
      "metadata": {
        "colab": {
          "base_uri": "https://localhost:8080/"
        },
        "id": "RnR9_Heq5nG_",
        "outputId": "0ed20914-994a-4b12-8ad9-4b27851729cb"
      },
      "outputs": [],
      "source": [
        "!mkdir -p bbmodcache\n",
        "!curl http://bb-ai.net.s3.amazonaws.com/bb-python-modules/bbSearch.py > bbmodcache/bbSearch.py\n",
        "from bbmodcache.bbSearch import SearchProblem, search"
      ]
    },
    {
      "cell_type": "code",
      "execution_count": null,
      "metadata": {
        "id": "ngXq3qU75nHG"
      },
      "outputs": [],
      "source": [
        "class Robot:\n",
        "    def __init__(self, location, carried_items, strength):\n",
        "        self.location      = location\n",
        "        self.carried_items = carried_items\n",
        "        self.strength      = strength\n",
        "\n",
        "    def weight_carried(self):\n",
        "        return sum([ITEM_WEIGHT[i] for i in self.carried_items])\n",
        "\n",
        "    ## Define unique string representation for the state of the robot object\n",
        "    def __repr__(self):\n",
        "        return str( ( self.location,\n",
        "                      self.carried_items,\n",
        "                      self.strength ) )\n",
        "\n",
        "class Door:\n",
        "    def __init__(self, roomA, roomB, doorkey=None, locked=False):\n",
        "        self.goes_between = {roomA, roomB}\n",
        "        self.doorkey      = doorkey\n",
        "        self.locked       = locked\n",
        "        # Define handy dictionary to get room on other side of a door\n",
        "        self.other_loc = {roomA:roomB, roomB:roomA}\n",
        "\n",
        "    ## Define a unique string representation for a door object\n",
        "    def __repr__(self):\n",
        "        return str( (\"door\", self.goes_between, self.doorkey, self.locked) )"
      ]
    },
    {
      "cell_type": "code",
      "execution_count": null,
      "metadata": {
        "id": "YAPNtW105nHJ"
      },
      "outputs": [],
      "source": [
        "class State:\n",
        "    def __init__( self, robot, doors, room_contents ):\n",
        "        self.robot = robot\n",
        "        self.doors = doors\n",
        "        self.room_contents = room_contents\n",
        "\n",
        "    ## Define a string representation that will be uniquely identify the state.\n",
        "    ## An easy way is to form a tuple of representations of the components of\n",
        "    ## the state, then form a string from that:\n",
        "    def __repr__(self):\n",
        "        return str( ( self.robot.__repr__(),\n",
        "                      [d.__repr__() for d in self.doors],\n",
        "                      self.room_contents ) )\n"
      ]
    },
    {
      "cell_type": "code",
      "execution_count": null,
      "metadata": {
        "id": "5k_U8vNi5nHM"
      },
      "outputs": [],
      "source": [
        "ROOM_CONTENTS = {\n",
        "    'cemetery of ash'     : {'coiled sword'},\n",
        "    'firelink shrine'     : {'estus flask'},\n",
        "    'locked tower'        : {'uchiagatana'},\n",
        "    'high wall of lothric': {'cell key', 'lothric banner'},\n",
        "    'farron keep'         : {'soul of the blood of the wolf'},\n",
        "}\n",
        "\n",
        "ITEM_WEIGHT = {\n",
        "                 'coiled sword' : 5,\n",
        "                  'estus flask' : 4,\n",
        "                  'uchiagatana' : 4,\n",
        "                     'cell key' : 2,\n",
        "'soul of the blood of the wolf' : 5,\n",
        "               'lothric banner' : 5\n",
        "}\n",
        "\n",
        "DOORS = [\n",
        "    Door( 'cemetery of ash', 'firelink shrine' ),\n",
        "    Door( 'firelink shrine', 'high wall of lothric' ),\n",
        "    Door( 'firelink shrine', 'locked tower', doorkey='cell key', locked=True ),\n",
        "    Door( 'high wall of lothric', 'farron keep', doorkey='lothric banner', locked=True ),\n",
        "]\n"
      ]
    },
    {
      "cell_type": "code",
      "execution_count": null,
      "metadata": {
        "id": "cGVcn1h35nHP"
      },
      "outputs": [],
      "source": [
        "from copy import deepcopy\n",
        "\n",
        "class RobotWorker( SearchProblem ):\n",
        "\n",
        "    def __init__( self, state, goal_item_locations ):\n",
        "        self.initial_state = state\n",
        "        self.goal_item_locations = goal_item_locations\n",
        "\n",
        "    def possible_actions( self, state ):\n",
        "\n",
        "        robot_location = state.robot.location\n",
        "        strength       = state.robot.strength\n",
        "        weight_carried = state.robot.weight_carried()\n",
        "\n",
        "        actions = []\n",
        "        # Can put down any carried item\n",
        "        for i in state.robot.carried_items:\n",
        "            actions.append( (\"put down\", i) )\n",
        "\n",
        "        # Can pick up any item in room if strong enough\n",
        "        for i in state.room_contents[robot_location]:\n",
        "            if strength >= weight_carried + ITEM_WEIGHT[i]:\n",
        "                actions.append( (\"pick up\", i))\n",
        "\n",
        "        # If there is an unlocked door between robot location and\n",
        "        # another location can move to that location\n",
        "        for door in state.doors:\n",
        "            if  door.locked==False and robot_location in door.goes_between:\n",
        "                actions.append( (\"move to\", door.other_loc[robot_location]) )\n",
        "            elif door.locked==True and robot_location in door.goes_between:\n",
        "                if door.doorkey in state.robot.carried_items:\n",
        "                    actions.append( (\"move to\", door.other_loc[robot_location]) )\n",
        "\n",
        "        # Now the actions list should contain all possible actions\n",
        "        return actions\n",
        "\n",
        "    def successor( self, state, action):\n",
        "        next_state = deepcopy(state)\n",
        "        act, target = action\n",
        "        if act== \"put down\":\n",
        "            next_state.robot.carried_items.remove(target)\n",
        "            next_state.room_contents[state.robot.location].add(target)\n",
        "\n",
        "        if act == \"pick up\":\n",
        "            next_state.robot.carried_items.append(target)\n",
        "            next_state.room_contents[state.robot.location].remove(target)\n",
        "\n",
        "        if act == \"move to\":\n",
        "            next_state.robot.location = target\n",
        "\n",
        "        return next_state\n",
        "\n",
        "    def goal_test(self, state):\n",
        "        #print(state.room_contents)\n",
        "        for room, contents in self.goal_item_locations.items():\n",
        "            for i in contents:\n",
        "                if not i in state.room_contents[room]:\n",
        "                    return False\n",
        "        return True\n",
        "\n",
        "    def display_state(self,state):\n",
        "        print(\"Robot location:\", state.robot.location)\n",
        "        print(\"Robot carrying:\", state.robot.carried_items)\n",
        "        print(\"Room contents:\", state.room_contents)"
      ]
    },
    {
      "cell_type": "code",
      "execution_count": null,
      "metadata": {},
      "outputs": [],
      "source": [
        "def cost(path, state):\n",
        "    \"\"\"\n",
        "    This is an optional method that you only need to define if you are using\n",
        "    a cost based algorithm such as \"uniform cost\" or \"A*\". It should return\n",
        "    the cost of reaching a given state via a given path.\n",
        "    If this is not re-defined, it will is assumed that each action costs one unit\n",
        "    of effort to perform, so it returns the length of the path.\n",
        "    \"\"\"\n",
        "    return len(path)"
      ]
    },
    {
      "cell_type": "code",
      "execution_count": null,
      "metadata": {
        "id": "GhVuYfAF5nHS"
      },
      "outputs": [],
      "source": [
        "rob = Robot('cemetery of ash', [], 10 )\n",
        "\n",
        "state = State(rob, DOORS, ROOM_CONTENTS)\n",
        "\n",
        "goal_item_locations =  {\"firelink shrine\":{\"soul of the blood of the wolf\", \"coiled sword\"},\n",
        "                        \"farron keep\":{\"uchiagatana\", \"estus flask\"}}\n",
        "\n",
        "RW_PROBLEM_1 = RobotWorker( state, goal_item_locations )"
      ]
    },
    {
      "cell_type": "code",
      "execution_count": null,
      "metadata": {
        "colab": {
          "base_uri": "https://localhost:8080/"
        },
        "id": "cwWnFLy65nHU",
        "outputId": "23cf2b73-83f4-4a97-abdd-65ac0dc63805"
      },
      "outputs": [],
      "source": [
        "poss_acts = RW_PROBLEM_1.possible_actions( RW_PROBLEM_1.initial_state )\n",
        "poss_acts"
      ]
    },
    {
      "cell_type": "code",
      "execution_count": null,
      "metadata": {
        "colab": {
          "base_uri": "https://localhost:8080/"
        },
        "id": "oNag3W0A5nHW",
        "outputId": "0fafa893-68f5-48a2-e807-c16b026c76ff"
      },
      "outputs": [],
      "source": [
        "for act in poss_acts:\n",
        "    print(\"Action\", act, \"leads to the following state:\")\n",
        "    next_state = RW_PROBLEM_1.successor( RW_PROBLEM_1.initial_state, act )\n",
        "    RW_PROBLEM_1.display_state(next_state)\n",
        "    print()"
      ]
    },
    {
      "cell_type": "code",
      "execution_count": null,
      "metadata": {},
      "outputs": [],
      "source": [
        "def goal_items_heuristic(state):\n",
        "    items_needed = 0\n",
        "    for room, contents in goal_item_locations.items():\n",
        "        for i in contents:\n",
        "            if not i in state.room_contents[room]:\n",
        "                items_needed += 1\n",
        "    return items_needed\n",
        "\n",
        "def minimize_visits_heuristic(state):\n",
        "    visits_needed = 0\n",
        "    for room, contents in goal_item_locations.items():\n",
        "        items_needed = contents - state.room_contents[room]\n",
        "        visits_needed += len(items_needed)\n",
        "    return visits_needed\n",
        "\n",
        "def keys_carried_heuristic(state):\n",
        "    keys_needed = 0\n",
        "    for door in state.doors:\n",
        "        if door.locked and not door.doorkey in state.robot.carried_items:\n",
        "            keys_needed += 1\n",
        "    return keys_needed"
      ]
    },
    {
      "cell_type": "code",
      "execution_count": null,
      "metadata": {
        "colab": {
          "base_uri": "https://localhost:8080/",
          "height": 680
        },
        "id": "kSbvvWPA5nHY",
        "outputId": "7933c83c-f5c4-4d95-ebfc-689d729ea775"
      },
      "outputs": [],
      "source": [
        "import pandas as pd\n",
        "\n",
        "# Initialize lists to store results\n",
        "heuristics = [None, keys_carried_heuristic, minimize_visits_heuristic, goal_items_heuristic]\n",
        "costs = [None, cost]\n",
        "average_runtimes = []\n",
        "average_path_lengths = []\n",
        "average_nodes_generated = []\n",
        "method_heuristic_pairs = []\n",
        "\n",
        "# Initialize dictionaries to store results\n",
        "method_runtimes = {}\n",
        "method_path_lengths = {}\n",
        "method_nodes_generated = {}\n",
        "method_exit_conditions = {}\n",
        "\n",
        "# Run 10 iterations\n",
        "for _ in range(1):\n",
        "    # Run 'BF/FIFO' method with no heuristic\n",
        "    method_key = ('BF/FIFO', 'None')\n",
        "    result = search(RW_PROBLEM_1, 'BF/FIFO', 200000, loop_check=True, randomise=True, heuristic=None, return_info=True)\n",
        "    method_runtimes.setdefault(method_key, []).append(result['search_stats']['time_taken'])\n",
        "    path_length = result['result']['path_length']\n",
        "    if path_length is not None:\n",
        "        method_path_lengths.setdefault(method_key, []).append(path_length)\n",
        "    method_nodes_generated.setdefault(method_key, []).append(result['search_stats']['nodes_generated'])\n",
        "    method_exit_conditions.setdefault(method_key, []).append(result['result']['termination_condition'])\n",
        "\n",
        "    # Run 'DF/LIFO' method with each heuristic\n",
        "    for cost in costs:\n",
        "        for heuristic in heuristics:\n",
        "            method_key = ('DF/LIFO', heuristic.__name__ if heuristic else 'None', cost.__name__ if cost else 'None')\n",
        "            result = search(RW_PROBLEM_1, 'DF/LIFO', 200000, loop_check=True, randomise=True, cost=cost, heuristic=heuristic, return_info=True)\n",
        "            method_runtimes.setdefault(method_key, []).append(result['search_stats']['time_taken'])\n",
        "            path_length = result['result']['path_length']\n",
        "            if path_length is not None:\n",
        "                method_path_lengths.setdefault(method_key, []).append(path_length)\n",
        "            method_nodes_generated.setdefault(method_key, []).append(result['search_stats']['nodes_generated'])\n",
        "            method_exit_conditions.setdefault(method_key, []).append(result['result']['termination_condition'])\n",
        "\n",
        "# Calculate averages and determine exit conditions\n",
        "average_runtimes = {k: sum(v) / len(v) for k, v in method_runtimes.items()}\n",
        "average_path_lengths = {k: sum(v) / len(v) if v else None for k, v in method_path_lengths.items()}\n",
        "average_nodes_generated = {k: sum(v) / len(v) for k, v in method_nodes_generated.items()}\n",
        "exit_conditions = {k: 'GOAL_STATE_FOUND' if 'NODE_LIMIT_EXCEEDED' not in v else 'NODE_LIMIT_EXCEEDED' for k, v in method_exit_conditions.items()}\n",
        "\n",
        "# Create a DataFrame to store the results\n",
        "df = pd.DataFrame({\n",
        "    'Method and Heuristic': list(average_runtimes.keys()),\n",
        "    'Average Runtime (s)': list(average_runtimes.values()),\n",
        "    'Average Path Length': list(average_path_lengths.values()),\n",
        "    'Average Nodes Generated' : list(average_nodes_generated.values()),\n",
        "    'Exit Condition' : list(exit_conditions.values())\n",
        "})\n",
        "\n",
        "# Display the DataFrame\n",
        "print(df)"
      ]
    }
  ],
  "metadata": {
    "colab": {
      "provenance": []
    },
    "kernelspec": {
      "display_name": "Python 3",
      "language": "python",
      "name": "python3"
    },
    "language_info": {
      "codemirror_mode": {
        "name": "ipython",
        "version": 3
      },
      "file_extension": ".py",
      "mimetype": "text/x-python",
      "name": "python",
      "nbconvert_exporter": "python",
      "pygments_lexer": "ipython3",
      "version": "3.12.0"
    }
  },
  "nbformat": 4,
  "nbformat_minor": 0
}
