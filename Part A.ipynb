{
 "cells": [
  {
   "cell_type": "code",
   "execution_count": 127,
   "metadata": {},
   "outputs": [
    {
     "name": "stdout",
     "output_type": "stream",
     "text": [
      "Installing bbSearch module from web ...\n"
     ]
    },
    {
     "name": "stdout",
     "output_type": "stream",
     "text": [
      "creating bbmodcache subfolder\n"
     ]
    },
    {
     "name": "stderr",
     "output_type": "stream",
     "text": [
      "A subdirectory or file -p already exists.\n",
      "Error occurred while processing: -p.\n",
      "A subdirectory or file bbmodcache already exists.\n",
      "Error occurred while processing: bbmodcache.\n"
     ]
    },
    {
     "name": "stdout",
     "output_type": "stream",
     "text": [
      "downloading bbSearch module\n"
     ]
    },
    {
     "name": "stderr",
     "output_type": "stream",
     "text": [
      "  % Total    % Received % Xferd  Average Speed   Time    Time     Time  Current\n",
      "                                 Dload  Upload   Total   Spent    Left  Speed\n",
      "\n",
      "  0     0    0     0    0     0      0      0 --:--:-- --:--:-- --:--:--     0\n",
      "100 18767  100 18767    0     0   192k      0 --:--:-- --:--:-- --:--:--  194k\n"
     ]
    }
   ],
   "source": [
    "!echo Installing bbSearch module from web ...\n",
    "!echo creating bbmodcache subfolder\n",
    "!mkdir -p bbmodcache\n",
    "!echo downloading bbSearch module\n",
    "!curl http://bb-ai.net.s3.amazonaws.com/bb-python-modules/bbSearch.py > bbmodcache/bbSearch.py\n",
    "\n",
    "from bbmodcache.bbSearch import SearchProblem, search"
   ]
  },
  {
   "cell_type": "code",
   "execution_count": 128,
   "metadata": {},
   "outputs": [],
   "source": [
    "import matplotlib.pyplot as plt\n",
    "import matplotlib.patches as patches\n",
    "from copy import deepcopy\n",
    "\n",
    "plt.ioff()  ## Turn off immediate display of plots\n",
    "\n",
    "COLORS = [\"lightgray\", \"red\", \"blue\", \"green\", \"yellow\",\n",
    "          \"orange\", \"purple\", \"pink\", \"brown\"]\n",
    "\n",
    "class BlockState:\n",
    "\n",
    "      # Specify mapping from directions to grid coordinate offsets:\n",
    "      neighbour_offset = {\"left\": (0,-1), \"right\": (0,+1), \"down\":(+1,0), \"up\":(-1,0)}\n",
    "\n",
    "      def __init__( self, blockstate, colors=COLORS ):\n",
    "        self.blockstate = blockstate\n",
    "        self.nrows = len(blockstate)\n",
    "        self.ncols = len(blockstate[0])\n",
    "        self.blocknums = set().union(*[set(row) for row in blockstate])\n",
    "        self.blocknums = self.blocknums - {0}\n",
    "        self.blocknumlist = list(self.blocknums)\n",
    "        self.colors = colors\n",
    "\n",
    "      def __repr__(self):\n",
    "        return( str( self.blockstate ))\n",
    "\n",
    "      # Find the cells occupied by a given number\n",
    "      def blockcells( self, blocknum ):\n",
    "          blockcells = []\n",
    "          for row in range(self.nrows):\n",
    "            for col in range(self.ncols):\n",
    "              if self.blockstate[row][col] == blocknum:\n",
    "                blockcells.append((row,col))\n",
    "          return blockcells\n",
    "\n",
    "      # Test if a cell is free (unblocked) in a given direction\n",
    "      # Free if not blocked by edge of grid or by a cell of different colour\n",
    "      def free_cell( self, direction, cell ):\n",
    "        row, col = cell\n",
    "        offrow, offcol = BlockState.neighbour_offset[direction]\n",
    "        neighrow, neighcol = (row + offrow, col + offcol)\n",
    "        if not (0 <= neighrow < self.nrows): return False #at top or bottom\n",
    "        if not (0 <= neighcol < self.ncols): return False #at left or right\n",
    "        neighval = self.blockstate[neighrow][neighcol]\n",
    "        # Neighboring cell must be empty or part of the same coloured block\n",
    "        return  (neighval==0 or neighval==self.blockstate[row][col])\n",
    "\n",
    "      def free_block( self, direction, blockn ):\n",
    "          blockcells = self.blockcells(blockn)\n",
    "          for cell in blockcells:\n",
    "            if not self.free_cell(direction, cell):\n",
    "              return False\n",
    "          return True\n",
    "\n",
    "      def possible_moves(self):\n",
    "        moves = []\n",
    "        for blocknum in self.blocknumlist:\n",
    "          for direction in [\"left\", \"right\", \"down\", \"up\"]:\n",
    "              if self.free_block(direction, blocknum):\n",
    "                  moves.append((blocknum, direction))\n",
    "        return moves\n",
    "\n",
    "      def next_state(self, move):\n",
    "          next_blockstate = deepcopy(self.blockstate)\n",
    "          blockno, direction = move\n",
    "          cells = self.blockcells(blockno)\n",
    "          ## first clear all cells of the block (set to 0)\n",
    "          for cell in cells:\n",
    "            row, col = cell\n",
    "            next_blockstate[row][col] = 0\n",
    "          rowoff, coloff = BlockState.neighbour_offset[direction]\n",
    "          ## now set all neighbour cells (in move direction) to be\n",
    "          ## cells with the blocknumber\n",
    "          for cell in cells:\n",
    "            row, col = cell\n",
    "            next_blockstate[row+rowoff][col+coloff] = blockno\n",
    "          return BlockState(next_blockstate)\n",
    "\n",
    "      def color_key(self):\n",
    "          return {b:self.colors[b] for b in self.blocknumlist}\n",
    "\n",
    "      def figure(self, scale=0.5):\n",
    "          nrows = self.nrows\n",
    "          ncols = self.ncols\n",
    "          fig, ax = plt.subplots(figsize=(ncols*scale+0.1,nrows*scale+0.1))\n",
    "          plt.close(fig)\n",
    "          ax.set_axis_off() # Don't show border lines and coordinate values\n",
    "\n",
    "          frame = patches.Rectangle((0,0),1,1, linewidth=5, edgecolor='k', facecolor='w')\n",
    "          ax.add_patch(frame)\n",
    "\n",
    "          for row in range(nrows):\n",
    "            for col in range(ncols):\n",
    "                greyrect = patches.Rectangle( (((col*0.9)/ncols)+0.05,\n",
    "                                               (((nrows-row-1)*0.9)/nrows)+0.05 ),\n",
    "                                            0.9/ncols, 0.9/nrows,\n",
    "                                            linewidth=1, edgecolor=\"gray\", facecolor=\"lightgray\")\n",
    "                ax.add_patch(greyrect)\n",
    "\n",
    "          for row in range(nrows):\n",
    "            for col in range(ncols):\n",
    "                cellval = self.blockstate[row][col]\n",
    "                if cellval > 0:\n",
    "                  cellcol = COLORS[cellval]\n",
    "                  rect = patches.Rectangle( (((col*0.9)/ncols)+0.05,\n",
    "                                             (((nrows-row-1)*0.9)/nrows)+0.05 ),\n",
    "                                            0.9/ncols, 0.9/nrows,\n",
    "                                            linewidth=0, edgecolor=cellcol, facecolor=cellcol)\n",
    "                  ax.add_patch(rect)\n",
    "          return fig\n",
    "\n",
    "      def display(self):\n",
    "          display(self.figure())"
   ]
  },
  {
   "cell_type": "code",
   "execution_count": 129,
   "metadata": {},
   "outputs": [],
   "source": [
    "state = [[1,3,0,0,0,0,6],\n",
    "         [1,3,4,4,0,0,0],\n",
    "         [3,3,4,0,0,0,0],\n",
    "         [0,4,4,2,0,0,0],\n",
    "         [0,0,2,2,5,5,5]]\n",
    "\n",
    "bs = BlockState(state)\n",
    "# bs.display()"
   ]
  },
  {
   "cell_type": "code",
   "execution_count": 130,
   "metadata": {},
   "outputs": [],
   "source": [
    "from copy import deepcopy\n",
    "class SlidingBlocksPuzzle( SearchProblem ):\n",
    "\n",
    "    def __init__( self, initial_state, goal, colors=COLORS ):\n",
    "        \"\"\"\n",
    "        The __init__ method must set the initial state for the search.\n",
    "        Arguments could be added to __init__ and used to configure the\n",
    "        initial state and/or other aspects of a problem instance.\n",
    "        \"\"\"\n",
    "        self.initial_state = BlockState(initial_state, colors=colors)\n",
    "        self.colors = colors\n",
    "        self.goal = BlockState(goal)\n",
    "\n",
    "    def info(self):\n",
    "        print(\"Solve the following sliding blocks problem.\")\n",
    "        print(\"Get from this initial state:\")\n",
    "        self.initial_state.display()\n",
    "        print(\"To a state incorporating the following block position(s):\")\n",
    "        self.goal.display()\n",
    "        #print(\"You need to slide the red block to cover the bottom right square.\")\n",
    "\n",
    "    def possible_actions(self, state):\n",
    "        return state.possible_moves()\n",
    "\n",
    "    def successor(self, state, action):\n",
    "        \"\"\"\n",
    "        This takes a state and an action and returns the new state resulting\n",
    "        from doing that action in that state. You can assume that the given\n",
    "        action is in the list of 'possible_actions' for that state.\n",
    "        \"\"\"\n",
    "        return state.next_state(action)\n",
    "\n",
    "    def goal_test(self, state):\n",
    "        \"\"\"\n",
    "        For the sliding blocks puzzles, the goal condition is reached when\n",
    "        all block possitions specified in the given goal state are satisfied by\n",
    "        the current state. But empty positions (ie 0s) in the goal are ignored,\n",
    "        so can be occupied by blocks in the current sate.\n",
    "        \"\"\"\n",
    "        for row in range(state.nrows):\n",
    "          for col in range(state.ncols):\n",
    "            goalnum = self.goal.blockstate[row][col]\n",
    "            if goalnum==0:\n",
    "              continue\n",
    "            if goalnum != state.blockstate[row][col]:\n",
    "              return False\n",
    "        return True\n",
    "\n",
    "\n",
    "    def cost(self, path, state):\n",
    "        \"\"\"\n",
    "        This is an optional method that you only need to define if you are using\n",
    "        a cost based algorithm such as \"uniform cost\" or \"A*\". It should return\n",
    "        the cost of reaching a given state via a given path.\n",
    "        If this is not re-defined, it will is assumed that each action costs one unit\n",
    "        of effort to perform, so it returns the length of the path.\n",
    "        \"\"\"\n",
    "        return len(path)\n",
    "\n",
    "    def display_action(self, action):\n",
    "        \"\"\"\n",
    "        You can set the way an action will be displayed in outputs.\n",
    "        \"\"\"\n",
    "        print((self.colors[action[0]], action[1]))\n",
    "\n",
    "    def display_state(self, state):\n",
    "        \"\"\"\n",
    "        You can set the way a state will be displayed in outputs.\n",
    "        \"\"\"\n",
    "        state.display()\n",
    "\n",
    "    def display_state_path( self, actions ):\n",
    "        \"\"\"\n",
    "        This defines output of a solution path when a list of actions\n",
    "        is applied to the initial state. It assumes it is a valid path\n",
    "        with all actions being possible in the preceeding state.\n",
    "        You probably don't need to override this.\n",
    "        \"\"\"\n",
    "        s = self.initial_state\n",
    "        self.display_state(s)\n",
    "        for a in actions:\n",
    "            self.display_action(a)\n",
    "            s = self.successor(s,a)\n",
    "            self.display_state(s)"
   ]
  },
  {
   "cell_type": "code",
   "execution_count": 131,
   "metadata": {},
   "outputs": [],
   "source": [
    "import numpy as np\n",
    "\n",
    "big_initial = [[0,0,4,4,0,0,2,2],\n",
    "               [0,0,0,0,0,0,0,2],\n",
    "               [3,3,3,0,0,0,0,2],\n",
    "               [3,0,0,1,0,0,0,0],\n",
    "               [0,0,0,1,0,5,5,5],\n",
    "               [6,6,0,1,0,0,5,5],\n",
    "               [0,6,0,0,0,0,0,0],\n",
    "               [0,6,0,0,7,7,7,0]]\n",
    "\n",
    "big_goal = [[0,0,0,0,0,0,0,1],\n",
    "            [0,0,0,0,0,0,0,1],\n",
    "            [0,0,0,0,0,0,0,1],\n",
    "            [0,0,0,0,0,0,0,0],\n",
    "            [0,0,0,0,0,0,0,0],\n",
    "            [0,0,0,0,0,0,0,0],\n",
    "            [0,0,0,0,0,0,0,0],\n",
    "            [0,0,0,0,0,0,0,0]]\n",
    "\n",
    "small_initial = [[0,0,1,1],\n",
    "                 [4,4,1,0],\n",
    "                 [0,2,6,0],\n",
    "                 [2,2,6,0]]\n",
    "\n",
    "small_goal    = [[0,0,0,0],\n",
    "                 [0,0,0,0],\n",
    "                 [0,0,1,1],\n",
    "                 [0,0,1,0]]\n",
    "\n",
    "complex_initial = [[0,1,2],\n",
    "                   [3,4,5],\n",
    "                   [6,7,8]]\n",
    "\n",
    "complex_goal = [[8,7,6],\n",
    "                [5,4,3],\n",
    "                [2,1,0]]\n",
    "\n",
    "random_initial = np.random.randint(0, 9, size=(100,100))\n",
    "\n",
    "random_goal = random_initial\n",
    "\n",
    "small_puzzle =  SlidingBlocksPuzzle( small_initial, small_goal )\n",
    "complex_puzzle = SlidingBlocksPuzzle( complex_initial, complex_goal )\n",
    "big_puzzle = SlidingBlocksPuzzle( big_initial, big_goal )"
   ]
  },
  {
   "cell_type": "code",
   "execution_count": 132,
   "metadata": {},
   "outputs": [],
   "source": [
    "# Heuristics\n",
    "def find_goal_position(goal, value):\n",
    "    for i in range(len(goal)):\n",
    "        for j in range(len(goal[i])):\n",
    "            if goal[i][j] == value:\n",
    "                return i, j\n",
    "    return -1, -1  # Value not found in goal\n",
    "\n",
    "def manhatten_heuristic(state):\n",
    "    # Determine the goal position\n",
    "    goal_i, goal_j = find_goal_position(small_goal, 1)\n",
    "\n",
    "    # Find the position of the red block\n",
    "    for i in range(len(state.blockstate)):\n",
    "        for j in range(len(state.blockstate[i])):\n",
    "            if state.blockstate[i][j] == 1:\n",
    "                # Return the Manhattan distance from the red block to the goal position\n",
    "                return abs(i - goal_i) + abs(j - goal_j)\n",
    "\n",
    "    # If the red block is not found, return a large distance\n",
    "    return float('inf')\n",
    "\n",
    "import math\n",
    "def euclidean_heuristic(state):\n",
    "    # Determine the goal position\n",
    "    goal_i, goal_j = find_goal_position(small_goal, 1)\n",
    "\n",
    "    # Find the position of the red block\n",
    "    for i in range(len(state.blockstate)):\n",
    "        for j in range(len(state.blockstate[i])):\n",
    "            if state.blockstate[i][j] == 1:\n",
    "                # Return the Euclidean distance from the red block to the goal position\n",
    "                return math.sqrt((i - goal_i)**2 + (j - goal_j)**2)\n",
    "\n",
    "    # If the red block is not found, return a large distance\n",
    "    return float('inf')\n",
    "\n",
    "def chebyshev_heuristic(state):\n",
    "    # Determine the goal position\n",
    "    goal_i, goal_j = find_goal_position(small_goal, 1)\n",
    "\n",
    "    # Find the position of the red block\n",
    "    for i in range(len(state.blockstate)):\n",
    "        for j in range(len(state.blockstate[i])):\n",
    "            if state.blockstate[i][j] == 1:\n",
    "                # Return the Chebyshev distance from the red block to the goal position\n",
    "                return max(abs(i - goal_i), abs(j - goal_j))\n",
    "\n",
    "    # If the red block is not found, return a large distance\n",
    "    return float('inf')"
   ]
  },
  {
   "cell_type": "code",
   "execution_count": 133,
   "metadata": {},
   "outputs": [],
   "source": [
    "# small_search_df = search( small_puzzle, 'DF', 100000, loop_check=True, randomise=True, show_state_path=False, \n",
    "#                         return_info=True, show_path=False, heuristic=None)\n",
    "\n",
    "# small_search_bf = search( small_puzzle, 'BF', 100000, loop_check=True, randomise=True, show_state_path=False, \n",
    "#                         return_info=True, show_path=False, heuristic=None)\n",
    "\n",
    "# small_search_best_m_heuristic = search( small_puzzle, 'DF', 100000, loop_check=True, randomise=True, show_state_path=False,\n",
    "#                         return_info=True, show_path=False, heuristic=manhatten_heuristic)\n",
    "\n",
    "# small_search_best_e_heuristic = search( small_puzzle, 'DF', 100000, loop_check=True, randomise=True, show_state_path=False,\n",
    "#                         return_info=True, show_path=False, heuristic=euclidean_heuristic)\n",
    "\n",
    "# small_search_best_c_heuristic = search( small_puzzle, 'DF', 100000, loop_check=True, randomise=True, show_state_path=False,\n",
    "#                         return_info=True, show_path=False, heuristic=chebyshev_heuristic)\n",
    "\n",
    "# small_search_astar_m_heuristic = search( small_puzzle, 'DF', 100000, loop_check=True, randomise=True, cost=small_puzzle.cost, show_state_path=False,\n",
    "#                         return_info=True, show_path=False, heuristic=manhatten_heuristic)\n",
    "\n",
    "# small_search_astar_e_heuristic = search( small_puzzle, 'DF', 100000, loop_check=True, randomise=True, cost=small_puzzle.cost, show_state_path=False,\n",
    "#                         return_info=True, show_path=False, heuristic=euclidean_heuristic)\n",
    "\n",
    "# small_search_astar_c_heuristic = search( small_puzzle, 'DF', 100000, loop_check=True, randomise=True, cost=small_puzzle.cost, show_state_path=False,\n",
    "#                         return_info=True, show_path=False, heuristic=chebyshev_heuristic)\n",
    "\n",
    "\n",
    "\n",
    "\n",
    "# TEST_RESULTS =[small_search_df, small_search_bf, small_search_best_m_heuristic, small_search_best_e_heuristic, small_search_best_c_heuristic, small_search_astar_m_heuristic, small_search_astar_e_heuristic, small_search_astar_c_heuristic]\n",
    "\n",
    "# # Specify symbols for termination conditions:\n",
    "# short_tc = {\"GOAL_STATE_FOUND\"     : \"Y\",\n",
    "#             \"NODE_LIMIT_EXCEEDED\"  : \"!\",\n",
    "#             \"SEARH-SPACE_EXHAUSTED\": \"x\"}\n",
    "\n",
    "# print(\"\\n                **TESTS SUMMARY**\\n\")\n",
    "\n",
    "# print(\"Test    #max   Result   #gen     #inQ    Time s\")\n",
    "# for i, test in enumerate(TEST_RESULTS):\n",
    "#     max  = test['args']['max_nodes']\n",
    "#     tc  = test['result']['termination_condition']\n",
    "#     stc = short_tc[tc]\n",
    "\n",
    "#     ng  = test['search_stats']['nodes_generated']\n",
    "#     nq  = test['search_stats']['nodes_left_in_queue']\n",
    "#     time = round( test['search_stats']['time_taken'], 2 )\n",
    "#     print( f\"{i:>3}: {max:>8}    {stc}  {ng:>8} {nq:>8}     {time} \")"
   ]
  },
  {
   "cell_type": "code",
   "execution_count": 134,
   "metadata": {},
   "outputs": [
    {
     "name": "stdout",
     "output_type": "stream",
     "text": [
      "Solve the following sliding blocks problem.\n",
      "Get from this initial state:\n"
     ]
    },
    {
     "data": {
      "image/png": "[encoded data removed]",
      "text/plain": [
       "<Figure size 210x210 with 1 Axes>"
      ]
     },
     "metadata": {},
     "output_type": "display_data"
    },
    {
     "name": "stdout",
     "output_type": "stream",
     "text": [
      "To a state incorporating the following block position(s):\n"
     ]
    },
    {
     "data": {
      "image/png": "[encoded data removed]",
      "text/plain": [
       "<Figure size 210x210 with 1 Axes>"
      ]
     },
     "metadata": {},
     "output_type": "display_data"
    },
    {
     "name": "stdout",
     "output_type": "stream",
     "text": [
      "\n",
      "** Running Brandon's Search Algorithm **\n",
      "Strategy: mode=DF, cost=None, heuristic=None\n",
      "Max search nodes: 100000  (max number added to queue)\n",
      "Searching (will output '.' each 1000 goal_tests)\n",
      "\n",
      ":-)) *SUCCESS* ((-:\n",
      "\n",
      "Path length = 71\n",
      "Goal state is:\n"
     ]
    },
    {
     "data": {
      "image/png": "[encoded data removed]",
      "text/plain": [
       "<Figure size 210x210 with 1 Axes>"
      ]
     },
     "metadata": {},
     "output_type": "display_data"
    },
    {
     "name": "stdout",
     "output_type": "stream",
     "text": [
      "\n",
      "SEARCH SPACE STATS:\n",
      "Total nodes generated          =      376  (includes start)\n",
      "Nodes discarded by loop_check  =      194  (182 distinct states added to queue)\n",
      "Nodes tested (by goal_test)    =      105  (104 expanded + 1 goal)\n",
      "Nodes left in queue            =       77\n",
      "\n",
      "Time taken = 0.0243 seconds\n",
      "\n",
      "Solve the following sliding blocks problem.\n",
      "Get from this initial state:\n"
     ]
    },
    {
     "data": {
      "image/png": "[encoded data removed]",
      "text/plain": [
       "<Figure size 210x210 with 1 Axes>"
      ]
     },
     "metadata": {},
     "output_type": "display_data"
    },
    {
     "name": "stdout",
     "output_type": "stream",
     "text": [
      "To a state incorporating the following block position(s):\n"
     ]
    },
    {
     "data": {
      "image/png": "[encoded data removed]",
      "text/plain": [
       "<Figure size 210x210 with 1 Axes>"
      ]
     },
     "metadata": {},
     "output_type": "display_data"
    },
    {
     "name": "stdout",
     "output_type": "stream",
     "text": [
      "\n",
      "** Running Brandon's Search Algorithm **\n",
      "Strategy: mode=BF, cost=None, heuristic=None\n",
      "Max search nodes: 100000  (max number added to queue)\n",
      "Searching (will output '.' each 1000 goal_tests)\n",
      "\n",
      ":-)) *SUCCESS* ((-:\n",
      "\n",
      "Path length = 41\n",
      "Goal state is:\n"
     ]
    },
    {
     "data": {
      "image/png": "[encoded data removed]",
      "text/plain": [
       "<Figure size 210x210 with 1 Axes>"
      ]
     },
     "metadata": {},
     "output_type": "display_data"
    },
    {
     "name": "stdout",
     "output_type": "stream",
     "text": [
      "\n",
      "SEARCH SPACE STATS:\n",
      "Total nodes generated          =     1460  (includes start)\n",
      "Nodes discarded by loop_check  =     1071  (389 distinct states added to queue)\n",
      "Nodes tested (by goal_test)    =      388  (387 expanded + 1 goal)\n",
      "Nodes left in queue            =        1\n",
      "\n",
      "Time taken = 0.0602 seconds\n",
      "\n",
      "Solve the following sliding blocks problem.\n",
      "Get from this initial state:\n"
     ]
    },
    {
     "data": {
      "image/png": "[encoded data removed]",
      "text/plain": [
       "<Figure size 210x210 with 1 Axes>"
      ]
     },
     "metadata": {},
     "output_type": "display_data"
    },
    {
     "name": "stdout",
     "output_type": "stream",
     "text": [
      "To a state incorporating the following block position(s):\n"
     ]
    },
    {
     "data": {
      "image/png": "[encoded data removed]",
      "text/plain": [
       "<Figure size 210x210 with 1 Axes>"
      ]
     },
     "metadata": {},
     "output_type": "display_data"
    },
    {
     "name": "stdout",
     "output_type": "stream",
     "text": [
      "\n",
      "** Running Brandon's Search Algorithm **\n",
      "Strategy: mode=DF, cost=None, heuristic=manhatten_heuristic\n",
      "Max search nodes: 100000  (max number added to queue)\n",
      "Searching (will output '.' each 1000 goal_tests)\n",
      "\n",
      ":-)) *SUCCESS* ((-:\n",
      "\n",
      "Path length = 61\n",
      "Goal state is:\n"
     ]
    },
    {
     "data": {
      "image/png": "[encoded data removed]",
      "text/plain": [
       "<Figure size 210x210 with 1 Axes>"
      ]
     },
     "metadata": {},
     "output_type": "display_data"
    },
    {
     "name": "stdout",
     "output_type": "stream",
     "text": [
      "\n",
      "SEARCH SPACE STATS:\n",
      "Total nodes generated          =      744  (includes start)\n",
      "Nodes discarded by loop_check  =      509  (235 distinct states added to queue)\n",
      "Nodes tested (by goal_test)    =      201  (200 expanded + 1 goal)\n",
      "Nodes left in queue            =       34\n",
      "\n",
      "Time taken = 0.0293 seconds\n",
      "\n",
      "Solve the following sliding blocks problem.\n",
      "Get from this initial state:\n"
     ]
    },
    {
     "data": {
      "image/png": "[encoded data removed]",
      "text/plain": [
       "<Figure size 210x210 with 1 Axes>"
      ]
     },
     "metadata": {},
     "output_type": "display_data"
    },
    {
     "name": "stdout",
     "output_type": "stream",
     "text": [
      "To a state incorporating the following block position(s):\n"
     ]
    },
    {
     "data": {
      "image/png": "[encoded data removed]",
      "text/plain": [
       "<Figure size 210x210 with 1 Axes>"
      ]
     },
     "metadata": {},
     "output_type": "display_data"
    },
    {
     "name": "stdout",
     "output_type": "stream",
     "text": [
      "\n",
      "** Running Brandon's Search Algorithm **\n",
      "Strategy: mode=DF, cost=None, heuristic=euclidean_heuristic\n",
      "Max search nodes: 100000  (max number added to queue)\n",
      "Searching (will output '.' each 1000 goal_tests)\n",
      "\n",
      ":-)) *SUCCESS* ((-:\n",
      "\n",
      "Path length = 61\n",
      "Goal state is:\n"
     ]
    },
    {
     "data": {
      "image/png": "[encoded data removed]",
      "text/plain": [
       "<Figure size 210x210 with 1 Axes>"
      ]
     },
     "metadata": {},
     "output_type": "display_data"
    },
    {
     "name": "stdout",
     "output_type": "stream",
     "text": [
      "\n",
      "SEARCH SPACE STATS:\n",
      "Total nodes generated          =      718  (includes start)\n",
      "Nodes discarded by loop_check  =      484  (234 distinct states added to queue)\n",
      "Nodes tested (by goal_test)    =      196  (195 expanded + 1 goal)\n",
      "Nodes left in queue            =       38\n",
      "\n",
      "Time taken = 0.03 seconds\n",
      "\n",
      "Solve the following sliding blocks problem.\n",
      "Get from this initial state:\n"
     ]
    },
    {
     "data": {
      "image/png": "[encoded data removed]",
      "text/plain": [
       "<Figure size 210x210 with 1 Axes>"
      ]
     },
     "metadata": {},
     "output_type": "display_data"
    },
    {
     "name": "stdout",
     "output_type": "stream",
     "text": [
      "To a state incorporating the following block position(s):\n"
     ]
    },
    {
     "data": {
      "image/png": "[encoded data removed]",
      "text/plain": [
       "<Figure size 210x210 with 1 Axes>"
      ]
     },
     "metadata": {},
     "output_type": "display_data"
    },
    {
     "name": "stdout",
     "output_type": "stream",
     "text": [
      "\n",
      "** Running Brandon's Search Algorithm **\n",
      "Strategy: mode=DF, cost=None, heuristic=chebyshev_heuristic\n",
      "Max search nodes: 100000  (max number added to queue)\n",
      "Searching (will output '.' each 1000 goal_tests)\n",
      "\n",
      ":-)) *SUCCESS* ((-:\n",
      "\n",
      "Path length = 81\n",
      "Goal state is:\n"
     ]
    },
    {
     "data": {
      "image/png": "[encoded data removed]",
      "text/plain": [
       "<Figure size 210x210 with 1 Axes>"
      ]
     },
     "metadata": {},
     "output_type": "display_data"
    },
    {
     "name": "stdout",
     "output_type": "stream",
     "text": [
      "\n",
      "SEARCH SPACE STATS:\n",
      "Total nodes generated          =      528  (includes start)\n",
      "Nodes discarded by loop_check  =      296  (232 distinct states added to queue)\n",
      "Nodes tested (by goal_test)    =      154  (153 expanded + 1 goal)\n",
      "Nodes left in queue            =       78\n",
      "\n",
      "Time taken = 0.0269 seconds\n",
      "\n",
      "Solve the following sliding blocks problem.\n",
      "Get from this initial state:\n"
     ]
    },
    {
     "data": {
      "image/png": "[encoded data removed]",
      "text/plain": [
       "<Figure size 210x210 with 1 Axes>"
      ]
     },
     "metadata": {},
     "output_type": "display_data"
    },
    {
     "name": "stdout",
     "output_type": "stream",
     "text": [
      "To a state incorporating the following block position(s):\n"
     ]
    },
    {
     "data": {
      "image/png": "[encoded data removed]",
      "text/plain": [
       "<Figure size 210x210 with 1 Axes>"
      ]
     },
     "metadata": {},
     "output_type": "display_data"
    },
    {
     "name": "stdout",
     "output_type": "stream",
     "text": [
      "\n",
      "** Running Brandon's Search Algorithm **\n",
      "Strategy: mode=DF, cost=cost, heuristic=manhatten_heuristic\n",
      "Max search nodes: 100000  (max number added to queue)\n",
      "Searching (will output '.' each 1000 goal_tests)\n",
      "\n",
      ":-)) *SUCCESS* ((-:\n",
      "\n",
      "Path length = 41\n",
      "Goal state is:\n"
     ]
    },
    {
     "data": {
      "image/png": "[encoded data removed]",
      "text/plain": [
       "<Figure size 210x210 with 1 Axes>"
      ]
     },
     "metadata": {},
     "output_type": "display_data"
    },
    {
     "name": "stdout",
     "output_type": "stream",
     "text": [
      "Cost of reaching goal: 41\n",
      "\n",
      "SEARCH SPACE STATS:\n",
      "Total nodes generated          =     1438  (includes start)\n",
      "Nodes discarded by loop_check  =     1053  (385 distinct states added to queue)\n",
      "Nodes tested (by goal_test)    =      380  (379 expanded + 1 goal)\n",
      "Nodes left in queue            =        5\n",
      "\n",
      "Time taken = 0.0412 seconds\n",
      "\n",
      "Solve the following sliding blocks problem.\n",
      "Get from this initial state:\n"
     ]
    },
    {
     "data": {
      "image/png": "[encoded data removed]",
      "text/plain": [
       "<Figure size 210x210 with 1 Axes>"
      ]
     },
     "metadata": {},
     "output_type": "display_data"
    },
    {
     "name": "stdout",
     "output_type": "stream",
     "text": [
      "To a state incorporating the following block position(s):\n"
     ]
    },
    {
     "data": {
      "image/png": "[encoded data removed]",
      "text/plain": [
       "<Figure size 210x210 with 1 Axes>"
      ]
     },
     "metadata": {},
     "output_type": "display_data"
    },
    {
     "name": "stdout",
     "output_type": "stream",
     "text": [
      "\n",
      "** Running Brandon's Search Algorithm **\n",
      "Strategy: mode=DF, cost=cost, heuristic=euclidean_heuristic\n",
      "Max search nodes: 100000  (max number added to queue)\n",
      "Searching (will output '.' each 1000 goal_tests)\n",
      "\n",
      ":-)) *SUCCESS* ((-:\n",
      "\n",
      "Path length = 41\n",
      "Goal state is:\n"
     ]
    },
    {
     "data": {
      "image/png": "[encoded data removed]",
      "text/plain": [
       "<Figure size 210x210 with 1 Axes>"
      ]
     },
     "metadata": {},
     "output_type": "display_data"
    },
    {
     "name": "stdout",
     "output_type": "stream",
     "text": [
      "Cost of reaching goal: 41\n",
      "\n",
      "SEARCH SPACE STATS:\n",
      "Total nodes generated          =     1440  (includes start)\n",
      "Nodes discarded by loop_check  =     1055  (385 distinct states added to queue)\n",
      "Nodes tested (by goal_test)    =      381  (380 expanded + 1 goal)\n",
      "Nodes left in queue            =        4\n",
      "\n",
      "Time taken = 0.0396 seconds\n",
      "\n",
      "Solve the following sliding blocks problem.\n",
      "Get from this initial state:\n"
     ]
    },
    {
     "data": {
      "image/png": "[encoded data removed]",
      "text/plain": [
       "<Figure size 210x210 with 1 Axes>"
      ]
     },
     "metadata": {},
     "output_type": "display_data"
    },
    {
     "name": "stdout",
     "output_type": "stream",
     "text": [
      "To a state incorporating the following block position(s):\n"
     ]
    },
    {
     "data": {
      "image/png": "[encoded data removed]",
      "text/plain": [
       "<Figure size 210x210 with 1 Axes>"
      ]
     },
     "metadata": {},
     "output_type": "display_data"
    },
    {
     "name": "stdout",
     "output_type": "stream",
     "text": [
      "\n",
      "** Running Brandon's Search Algorithm **\n",
      "Strategy: mode=DF, cost=cost, heuristic=chebyshev_heuristic\n",
      "Max search nodes: 100000  (max number added to queue)\n",
      "Searching (will output '.' each 1000 goal_tests)\n",
      "\n",
      ":-)) *SUCCESS* ((-:\n",
      "\n",
      "Path length = 41\n",
      "Goal state is:\n"
     ]
    },
    {
     "data": {
      "image/png": "[encoded data removed]",
      "text/plain": [
       "<Figure size 210x210 with 1 Axes>"
      ]
     },
     "metadata": {},
     "output_type": "display_data"
    },
    {
     "name": "stdout",
     "output_type": "stream",
     "text": [
      "Cost of reaching goal: 41\n",
      "\n",
      "SEARCH SPACE STATS:\n",
      "Total nodes generated          =     1452  (includes start)\n",
      "Nodes discarded by loop_check  =     1065  (387 distinct states added to queue)\n",
      "Nodes tested (by goal_test)    =      385  (384 expanded + 1 goal)\n",
      "Nodes left in queue            =        2\n",
      "\n",
      "Time taken = 0.0383 seconds\n",
      "\n"
     ]
    }
   ],
   "source": [
    "iterations = 1\n",
    "puzzle = small_puzzle\n",
    "\n",
    "# Specify symbols for termination conditions:\n",
    "short_tc = {\"GOAL_STATE_FOUND\"     : \"Y\",\n",
    "            \"NODE_LIMIT_EXCEEDED\"  : \"!\",\n",
    "            \"SEARH-SPACE_EXHAUSTED\": \"x\"}\n",
    "\n",
    "# Define the search types and their corresponding parameters\n",
    "search_types = {\n",
    "    'DF': {'search_type': 'DF', 'heuristic': None, 'cost': None},\n",
    "    'BF': {'search_type': 'BF', 'heuristic': None, 'cost': None},\n",
    "    'Best_M': {'search_type': 'DF', 'heuristic': manhatten_heuristic, 'cost': None},\n",
    "    'Best_E': {'search_type': 'DF', 'heuristic': euclidean_heuristic, 'cost': None},\n",
    "    'Best_C': {'search_type': 'DF', 'heuristic': chebyshev_heuristic, 'cost': None},\n",
    "    'A*_M': {'search_type': 'DF', 'heuristic': manhatten_heuristic, 'cost': puzzle.cost},\n",
    "    'A*_E': {'search_type': 'DF', 'heuristic': euclidean_heuristic, 'cost': puzzle.cost},\n",
    "    'A*_C': {'search_type': 'DF', 'heuristic': chebyshev_heuristic, 'cost': puzzle.cost}\n",
    "}\n",
    "\n",
    "# Initialize accumulators for each search\n",
    "search_stats = {search_type: {'max_nodes': 0, 'ng': 0, 'nq': 0, 'time': 0} for search_type in search_types}\n",
    "\n",
    "for _ in range(iterations):\n",
    "    for search_type, params in search_types.items():\n",
    "        # Perform the search\n",
    "        search_result = search(puzzle, params['search_type'], 100000, loop_check=True, randomise=True, show_state_path=False, return_info=True, show_path=False, heuristic=params['heuristic'], cost=params['cost'])\n",
    "\n",
    "        # Update the stats\n",
    "        search_stats[search_type]['max_nodes'] += search_result['args']['max_nodes']\n",
    "        search_stats[search_type]['ng'] += search_result['search_stats']['nodes_generated']\n",
    "        search_stats[search_type]['nq'] += search_result['search_stats']['nodes_left_in_queue']\n",
    "        search_stats[search_type]['time'] += round(search_result['search_stats']['time_taken'], 8)\n",
    "\n",
    "# Calculate averages\n",
    "for search_type in search_types:\n",
    "    search_stats[search_type]['max_nodes'] /= iterations\n",
    "    search_stats[search_type]['ng'] /= iterations\n",
    "    search_stats[search_type]['nq'] /= iterations\n",
    "    search_stats[search_type]['time'] /= iterations"
   ]
  },
  {
   "cell_type": "code",
   "execution_count": 135,
   "metadata": {},
   "outputs": [
    {
     "name": "stdout",
     "output_type": "stream",
     "text": [
      "\n",
      "                **AVERAGES**\n",
      "\n",
      "Test       #max       Result               #gen       #inQ       Time s    \n",
      "DF         100000.00  GOAL_STATE_FOUND     376.00     77.00      0.0243109 \n",
      "BF         100000.00  GOAL_STATE_FOUND     1460.00    1.00       0.0602434 \n",
      "Best_M     100000.00  GOAL_STATE_FOUND     744.00     34.00      0.0293354 \n",
      "Best_E     100000.00  GOAL_STATE_FOUND     718.00     38.00      0.0299656 \n",
      "Best_C     100000.00  GOAL_STATE_FOUND     528.00     78.00      0.0268571 \n",
      "A*_M       100000.00  GOAL_STATE_FOUND     1438.00    5.00       0.0411828 \n",
      "A*_E       100000.00  GOAL_STATE_FOUND     1440.00    4.00       0.0396184 \n",
      "A*_C       100000.00  GOAL_STATE_FOUND     1452.00    2.00       0.0382671 \n"
     ]
    }
   ],
   "source": [
    "# Print the header\n",
    "print(\"\\n                **AVERAGES**\\n\")\n",
    "print(f\"{'Test':<10} {'#max':<10} {'Result':<20} {'#gen':<10} {'#inQ':<10} {'Time s':<10}\")\n",
    "\n",
    "# Print the data\n",
    "for search_type, stats in search_stats.items():\n",
    "    print(f\"{search_type:<10} {stats['max_nodes']:<10.2f} {search_result['result']['termination_condition']:<20} {stats['ng']:<10.2f} {stats['nq']:<10.2f} {stats['time']:<10.7f}\")"
   ]
  },
  {
   "cell_type": "code",
   "execution_count": 136,
   "metadata": {},
   "outputs": [
    {
     "data": {
      "text/plain": [
       "'heuristicNoneTime = 0\\nheuristicTime = 0\\nheuristicNonePathLength = 0\\nheuristicPathLength = 0\\n\\nfor _ in range(1):\\n    small_search = search( big_puzzle, \\'DF\\', 100000, loop_check=True, randomise=True, show_state_path=False, \\n                        return_info=True, show_path=False, heuristic=None)\\n    heuristicNoneTime += small_search[\"search_stats\"][\"time_taken\"]\\n\\n    if type(small_search[\"result\"][\"path_length\"]) is int:\\n        heuristicNonePathLength += small_search[\"result\"][\"path_length\"]\\n\\n    small_search_heuristic = search( big_puzzle, \\'DF\\', 100000, loop_check=True, randomise=True, show_state_path=False,\\n                        return_info=True, show_path=False, heuristic=euclidean_heuristic)\\n    heuristicTime += small_search_heuristic[\"search_stats\"][\"time_taken\"]\\n    \\n    if type(small_search_heuristic[\"result\"][\"path_length\"]) is int:\\n        heuristicPathLength += small_search_heuristic[\"result\"][\"path_length\"]\\n\\nprint(\"No Heuristic: \", heuristicNoneTime/1)\\nprint(\"Heuristic: \", heuristicTime/1)\\nprint(\"Path length: \", heuristicNonePathLength/1)\\nprint(\"Path length: \", heuristicPathLength/1)'"
      ]
     },
     "execution_count": 136,
     "metadata": {},
     "output_type": "execute_result"
    }
   ],
   "source": [
    "'''heuristicNoneTime = 0\n",
    "heuristicTime = 0\n",
    "heuristicNonePathLength = 0\n",
    "heuristicPathLength = 0\n",
    "\n",
    "for _ in range(1):\n",
    "    small_search = search( big_puzzle, 'DF', 100000, loop_check=True, randomise=True, show_state_path=False, \n",
    "                        return_info=True, show_path=False, heuristic=None)\n",
    "    heuristicNoneTime += small_search[\"search_stats\"][\"time_taken\"]\n",
    "\n",
    "    if type(small_search[\"result\"][\"path_length\"]) is int:\n",
    "        heuristicNonePathLength += small_search[\"result\"][\"path_length\"]\n",
    "\n",
    "    small_search_heuristic = search( big_puzzle, 'DF', 100000, loop_check=True, randomise=True, show_state_path=False,\n",
    "                        return_info=True, show_path=False, heuristic=euclidean_heuristic)\n",
    "    heuristicTime += small_search_heuristic[\"search_stats\"][\"time_taken\"]\n",
    "    \n",
    "    if type(small_search_heuristic[\"result\"][\"path_length\"]) is int:\n",
    "        heuristicPathLength += small_search_heuristic[\"result\"][\"path_length\"]\n",
    "\n",
    "print(\"No Heuristic: \", heuristicNoneTime/1)\n",
    "print(\"Heuristic: \", heuristicTime/1)\n",
    "print(\"Path length: \", heuristicNonePathLength/1)\n",
    "print(\"Path length: \", heuristicPathLength/1)'''"
   ]
  }
 ],
 "metadata": {
  "kernelspec": {
   "display_name": ".venv",
   "language": "python",
   "name": "python3"
  },
  "language_info": {
   "codemirror_mode": {
    "name": "ipython",
    "version": 3
   },
   "file_extension": ".py",
   "mimetype": "text/x-python",
   "name": "python",
   "nbconvert_exporter": "python",
   "pygments_lexer": "ipython3",
   "version": "3.12.2"
  }
 },
 "nbformat": 4,
 "nbformat_minor": 2
}
