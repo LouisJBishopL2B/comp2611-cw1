{
 "cells": [
  {
   "cell_type": "code",
   "execution_count": 1,
   "metadata": {},
   "outputs": [
    {
     "name": "stdout",
     "output_type": "stream",
     "text": [
      "Installing bbSearch module from web ...\n",
      "creating bbmodcache subfolder\n"
     ]
    },
    {
     "name": "stderr",
     "output_type": "stream",
     "text": [
      "A subdirectory or file -p already exists.\n",
      "Error occurred while processing: -p.\n",
      "A subdirectory or file bbmodcache already exists.\n",
      "Error occurred while processing: bbmodcache.\n"
     ]
    },
    {
     "name": "stdout",
     "output_type": "stream",
     "text": [
      "downloading bbSearch module\n",
      "Loading bbSearch Version 2.1 (at 15:15, Sun 25 Feb)\n",
      "Last module source code edit 9am Thursday 24th Feb 2022\n"
     ]
    },
    {
     "name": "stderr",
     "output_type": "stream",
     "text": [
      "  % Total    % Received % Xferd  Average Speed   Time    Time     Time  Current\n",
      "                                 Dload  Upload   Total   Spent    Left  Speed\n",
      "\n",
      "  0     0    0     0    0     0      0      0 --:--:-- --:--:-- --:--:--     0\n",
      "100 18767  100 18767    0     0   192k      0 --:--:-- --:--:-- --:--:--  194k\n"
     ]
    }
   ],
   "source": [
    "!echo Installing bbSearch module from web ...\n",
    "!echo creating bbmodcache subfolder\n",
    "!mkdir -p bbmodcache\n",
    "!echo downloading bbSearch module\n",
    "!curl http://bb-ai.net.s3.amazonaws.com/bb-python-modules/bbSearch.py > bbmodcache/bbSearch.py\n",
    "\n",
    "from bbmodcache.bbSearch import SearchProblem, search"
   ]
  },
  {
   "cell_type": "code",
   "execution_count": 2,
   "metadata": {},
   "outputs": [],
   "source": [
    "import matplotlib.pyplot as plt\n",
    "import matplotlib.patches as patches\n",
    "from copy import deepcopy\n",
    "\n",
    "plt.ioff()  ## Turn off immediate display of plots\n",
    "\n",
    "COLORS = [\"lightgray\", \"red\", \"blue\", \"green\", \"yellow\",\n",
    "          \"orange\", \"purple\", \"pink\", \"brown\"]\n",
    "\n",
    "class BlockState:\n",
    "\n",
    "      # Specify mapping from directions to grid coordinate offsets:\n",
    "      neighbour_offset = {\"left\": (0,-1), \"right\": (0,+1), \"down\":(+1,0), \"up\":(-1,0)}\n",
    "\n",
    "      def __init__( self, blockstate, colors=COLORS ):\n",
    "        self.blockstate = blockstate\n",
    "        self.nrows = len(blockstate)\n",
    "        self.ncols = len(blockstate[0])\n",
    "        self.blocknums = set().union(*[set(row) for row in blockstate])\n",
    "        self.blocknums = self.blocknums - {0}\n",
    "        self.blocknumlist = list(self.blocknums)\n",
    "        self.colors = colors\n",
    "\n",
    "      def __repr__(self):\n",
    "        return( str( self.blockstate ))\n",
    "\n",
    "      # Find the cells occupied by a given number\n",
    "      def blockcells( self, blocknum ):\n",
    "          blockcells = []\n",
    "          for row in range(self.nrows):\n",
    "            for col in range(self.ncols):\n",
    "              if self.blockstate[row][col] == blocknum:\n",
    "                blockcells.append((row,col))\n",
    "          return blockcells\n",
    "\n",
    "      # Test if a cell is free (unblocked) in a given direction\n",
    "      # Free if not blocked by edge of grid or by a cell of different colour\n",
    "      def free_cell( self, direction, cell ):\n",
    "        row, col = cell\n",
    "        offrow, offcol = BlockState.neighbour_offset[direction]\n",
    "        neighrow, neighcol = (row + offrow, col + offcol)\n",
    "        if not (0 <= neighrow < self.nrows): return False #at top or bottom\n",
    "        if not (0 <= neighcol < self.ncols): return False #at left or right\n",
    "        neighval = self.blockstate[neighrow][neighcol]\n",
    "        # Neighboring cell must be empty or part of the same coloured block\n",
    "        return  (neighval==0 or neighval==self.blockstate[row][col])\n",
    "\n",
    "      def free_block( self, direction, blockn ):\n",
    "          blockcells = self.blockcells(blockn)\n",
    "          for cell in blockcells:\n",
    "            if not self.free_cell(direction, cell):\n",
    "              return False\n",
    "          return True\n",
    "\n",
    "      def possible_moves(self):\n",
    "        moves = []\n",
    "        for blocknum in self.blocknumlist:\n",
    "          for direction in [\"left\", \"right\", \"down\", \"up\"]:\n",
    "              if self.free_block(direction, blocknum):\n",
    "                  moves.append((blocknum, direction))\n",
    "        return moves\n",
    "\n",
    "      def next_state(self, move):\n",
    "          next_blockstate = deepcopy(self.blockstate)\n",
    "          blockno, direction = move\n",
    "          cells = self.blockcells(blockno)\n",
    "          ## first clear all cells of the block (set to 0)\n",
    "          for cell in cells:\n",
    "            row, col = cell\n",
    "            next_blockstate[row][col] = 0\n",
    "          rowoff, coloff = BlockState.neighbour_offset[direction]\n",
    "          ## now set all neighbour cells (in move direction) to be\n",
    "          ## cells with the blocknumber\n",
    "          for cell in cells:\n",
    "            row, col = cell\n",
    "            next_blockstate[row+rowoff][col+coloff] = blockno\n",
    "          return BlockState(next_blockstate)\n",
    "\n",
    "      def color_key(self):\n",
    "          return {b:self.colors[b] for b in self.blocknumlist}\n",
    "\n",
    "      def figure(self, scale=0.5):\n",
    "          nrows = self.nrows\n",
    "          ncols = self.ncols\n",
    "          fig, ax = plt.subplots(figsize=(ncols*scale+0.1,nrows*scale+0.1))\n",
    "          plt.close(fig)\n",
    "          ax.set_axis_off() # Don't show border lines and coordinate values\n",
    "\n",
    "          frame = patches.Rectangle((0,0),1,1, linewidth=5, edgecolor='k', facecolor='w')\n",
    "          ax.add_patch(frame)\n",
    "\n",
    "          for row in range(nrows):\n",
    "            for col in range(ncols):\n",
    "                greyrect = patches.Rectangle( (((col*0.9)/ncols)+0.05,\n",
    "                                               (((nrows-row-1)*0.9)/nrows)+0.05 ),\n",
    "                                            0.9/ncols, 0.9/nrows,\n",
    "                                            linewidth=1, edgecolor=\"gray\", facecolor=\"lightgray\")\n",
    "                ax.add_patch(greyrect)\n",
    "\n",
    "          for row in range(nrows):\n",
    "            for col in range(ncols):\n",
    "                cellval = self.blockstate[row][col]\n",
    "                if cellval > 0:\n",
    "                  cellcol = COLORS[cellval]\n",
    "                  rect = patches.Rectangle( (((col*0.9)/ncols)+0.05,\n",
    "                                             (((nrows-row-1)*0.9)/nrows)+0.05 ),\n",
    "                                            0.9/ncols, 0.9/nrows,\n",
    "                                            linewidth=0, edgecolor=cellcol, facecolor=cellcol)\n",
    "                  ax.add_patch(rect)\n",
    "          return fig\n",
    "\n",
    "      def display(self):\n",
    "          display(self.figure())"
   ]
  },
  {
   "cell_type": "code",
   "execution_count": 3,
   "metadata": {},
   "outputs": [],
   "source": [
    "state = [[1,3,0,0,0,0,6],\n",
    "         [1,3,4,4,0,0,0],\n",
    "         [3,3,4,0,0,0,0],\n",
    "         [0,4,4,2,0,0,0],\n",
    "         [0,0,2,2,5,5,5]]\n",
    "\n",
    "bs = BlockState(state)\n",
    "# bs.display()"
   ]
  },
  {
   "cell_type": "code",
   "execution_count": 4,
   "metadata": {},
   "outputs": [],
   "source": [
    "from copy import deepcopy\n",
    "class SlidingBlocksPuzzle( SearchProblem ):\n",
    "\n",
    "    def __init__( self, initial_state, goal, colors=COLORS ):\n",
    "        \"\"\"\n",
    "        The __init__ method must set the initial state for the search.\n",
    "        Arguments could be added to __init__ and used to configure the\n",
    "        initial state and/or other aspects of a problem instance.\n",
    "        \"\"\"\n",
    "        self.initial_state = BlockState(initial_state, colors=colors)\n",
    "        self.colors = colors\n",
    "        self.goal = BlockState(goal)\n",
    "\n",
    "    def info(self):\n",
    "        print(\"Solve the following sliding blocks problem.\")\n",
    "        print(\"Get from this initial state:\")\n",
    "        self.initial_state.display()\n",
    "        print(\"To a state incorporating the following block position(s):\")\n",
    "        self.goal.display()\n",
    "        #print(\"You need to slide the red block to cover the bottom right square.\")\n",
    "\n",
    "    def possible_actions(self, state):\n",
    "        return state.possible_moves()\n",
    "\n",
    "    def successor(self, state, action):\n",
    "        \"\"\"\n",
    "        This takes a state and an action and returns the new state resulting\n",
    "        from doing that action in that state. You can assume that the given\n",
    "        action is in the list of 'possible_actions' for that state.\n",
    "        \"\"\"\n",
    "        return state.next_state(action)\n",
    "\n",
    "    def goal_test(self, state):\n",
    "        \"\"\"\n",
    "        For the sliding blocks puzzles, the goal condition is reached when\n",
    "        all block possitions specified in the given goal state are satisfied by\n",
    "        the current state. But empty positions (ie 0s) in the goal are ignored,\n",
    "        so can be occupied by blocks in the current sate.\n",
    "        \"\"\"\n",
    "        for row in range(state.nrows):\n",
    "          for col in range(state.ncols):\n",
    "            goalnum = self.goal.blockstate[row][col]\n",
    "            if goalnum==0:\n",
    "              continue\n",
    "            if goalnum != state.blockstate[row][col]:\n",
    "              return False\n",
    "        return True\n",
    "\n",
    "\n",
    "    def cost(self, path, state):\n",
    "        \"\"\"\n",
    "        This is an optional method that you only need to define if you are using\n",
    "        a cost based algorithm such as \"uniform cost\" or \"A*\". It should return\n",
    "        the cost of reaching a given state via a given path.\n",
    "        If this is not re-defined, it will is assumed that each action costs one unit\n",
    "        of effort to perform, so it returns the length of the path.\n",
    "        \"\"\"\n",
    "        return len(path)\n",
    "\n",
    "    def display_action(self, action):\n",
    "        \"\"\"\n",
    "        You can set the way an action will be displayed in outputs.\n",
    "        \"\"\"\n",
    "        print((self.colors[action[0]], action[1]))\n",
    "\n",
    "    def display_state(self, state):\n",
    "        \"\"\"\n",
    "        You can set the way a state will be displayed in outputs.\n",
    "        \"\"\"\n",
    "        state.display()\n",
    "\n",
    "    def display_state_path( self, actions ):\n",
    "        \"\"\"\n",
    "        This defines output of a solution path when a list of actions\n",
    "        is applied to the initial state. It assumes it is a valid path\n",
    "        with all actions being possible in the preceeding state.\n",
    "        You probably don't need to override this.\n",
    "        \"\"\"\n",
    "        s = self.initial_state\n",
    "        self.display_state(s)\n",
    "        for a in actions:\n",
    "            self.display_action(a)\n",
    "            s = self.successor(s,a)\n",
    "            self.display_state(s)"
   ]
  },
  {
   "cell_type": "code",
   "execution_count": 5,
   "metadata": {},
   "outputs": [],
   "source": [
    "import numpy as np\n",
    "\n",
    "big_initial = [[0,0,4,4,0,0,2,2],\n",
    "               [0,0,0,0,0,0,0,2],\n",
    "               [3,3,3,0,0,0,0,2],\n",
    "               [3,0,0,1,0,0,0,0],\n",
    "               [0,0,0,1,0,5,5,5],\n",
    "               [6,6,0,1,0,0,5,5],\n",
    "               [0,6,0,0,0,0,0,0],\n",
    "               [0,6,0,0,7,7,7,0]]\n",
    "\n",
    "big_goal = [[0,0,0,0,0,0,0,1],\n",
    "            [0,0,0,0,0,0,0,1],\n",
    "            [0,0,0,0,0,0,0,1],\n",
    "            [0,0,0,0,0,0,0,0],\n",
    "            [0,0,0,0,0,0,0,0],\n",
    "            [0,0,0,0,0,0,0,0],\n",
    "            [0,0,0,0,0,0,0,0],\n",
    "            [0,0,0,0,0,0,0,0]]\n",
    "\n",
    "small_initial = [[0,0,1,1],\n",
    "                 [4,4,1,0],\n",
    "                 [0,2,6,0],\n",
    "                 [2,2,6,0]]\n",
    "\n",
    "small_goal    = [[0,0,0,0],\n",
    "                 [0,0,0,0],\n",
    "                 [0,0,1,1],\n",
    "                 [0,0,1,0]]\n",
    "\n",
    "complex_initial = [[0,1,2],\n",
    "                   [3,4,5],\n",
    "                   [6,7,8]]\n",
    "\n",
    "complex_goal = [[8,7,6],\n",
    "                [5,4,3],\n",
    "                [2,1,0]]\n",
    "\n",
    "random_initial = np.random.randint(0, 9, size=(100,100))\n",
    "\n",
    "random_goal = random_initial\n",
    "\n",
    "small_puzzle =  SlidingBlocksPuzzle( small_initial, small_goal )\n",
    "complex_puzzle = SlidingBlocksPuzzle( complex_initial, complex_goal )\n",
    "big_puzzle = SlidingBlocksPuzzle( big_initial, big_goal )"
   ]
  },
  {
   "cell_type": "code",
   "execution_count": 6,
   "metadata": {},
   "outputs": [],
   "source": [
    "# Heuristics\n",
    "def find_goal_position(goal, value):\n",
    "    for i in range(len(goal)):\n",
    "        for j in range(len(goal[i])):\n",
    "            if goal[i][j] == value:\n",
    "                return i, j\n",
    "    return -1, -1  # Value not found in goal\n",
    "\n",
    "def manhatten_heuristic(state):\n",
    "    # Determine the goal position\n",
    "    goal_i, goal_j = find_goal_position(big_goal, 1)\n",
    "\n",
    "    # Find the position of the red block\n",
    "    for i in range(len(state.blockstate)):\n",
    "        for j in range(len(state.blockstate[i])):\n",
    "            if state.blockstate[i][j] == 1:\n",
    "                # Return the Manhattan distance from the red block to the goal position\n",
    "                return abs(i - goal_i) + abs(j - goal_j)\n",
    "\n",
    "    # If the red block is not found, return a large distance\n",
    "    return float('inf')\n",
    "\n",
    "import math\n",
    "def euclidean_heuristic(state):\n",
    "    # Determine the goal position\n",
    "    goal_i, goal_j = find_goal_position(big_goal, 1)\n",
    "\n",
    "    # Find the position of the red block\n",
    "    for i in range(len(state.blockstate)):\n",
    "        for j in range(len(state.blockstate[i])):\n",
    "            if state.blockstate[i][j] == 1:\n",
    "                # Return the Euclidean distance from the red block to the goal position\n",
    "                return math.sqrt((i - goal_i)**2 + (j - goal_j)**2)\n",
    "\n",
    "    # If the red block is not found, return a large distance\n",
    "    return float('inf')\n",
    "\n",
    "def chebyshev_heuristic(state):\n",
    "    # Determine the goal position\n",
    "    goal_i, goal_j = find_goal_position(big_goal, 1)\n",
    "\n",
    "    # Find the position of the red block\n",
    "    for i in range(len(state.blockstate)):\n",
    "        for j in range(len(state.blockstate[i])):\n",
    "            if state.blockstate[i][j] == 1:\n",
    "                # Return the Chebyshev distance from the red block to the goal position\n",
    "                return max(abs(i - goal_i), abs(j - goal_j))\n",
    "\n",
    "    # If the red block is not found, return a large distance\n",
    "    return float('inf')"
   ]
  },
  {
   "cell_type": "code",
   "execution_count": 7,
   "metadata": {},
   "outputs": [],
   "source": [
    "# small_search_df = search( small_puzzle, 'DF', 100000, loop_check=True, randomise=True, show_state_path=False, \n",
    "#                         return_info=True, show_path=False, heuristic=None)\n",
    "\n",
    "# small_search_bf = search( small_puzzle, 'BF', 100000, loop_check=True, randomise=True, show_state_path=False, \n",
    "#                         return_info=True, show_path=False, heuristic=None)\n",
    "\n",
    "# small_search_best_m_heuristic = search( small_puzzle, 'DF', 100000, loop_check=True, randomise=True, show_state_path=False,\n",
    "#                         return_info=True, show_path=False, heuristic=manhatten_heuristic)\n",
    "\n",
    "# small_search_best_e_heuristic = search( small_puzzle, 'DF', 100000, loop_check=True, randomise=True, show_state_path=False,\n",
    "#                         return_info=True, show_path=False, heuristic=euclidean_heuristic)\n",
    "\n",
    "# small_search_best_c_heuristic = search( small_puzzle, 'DF', 100000, loop_check=True, randomise=True, show_state_path=False,\n",
    "#                         return_info=True, show_path=False, heuristic=chebyshev_heuristic)\n",
    "\n",
    "# small_search_astar_m_heuristic = search( small_puzzle, 'DF', 100000, loop_check=True, randomise=True, cost=small_puzzle.cost, show_state_path=False,\n",
    "#                         return_info=True, show_path=False, heuristic=manhatten_heuristic)\n",
    "\n",
    "# small_search_astar_e_heuristic = search( small_puzzle, 'DF', 100000, loop_check=True, randomise=True, cost=small_puzzle.cost, show_state_path=False,\n",
    "#                         return_info=True, show_path=False, heuristic=euclidean_heuristic)\n",
    "\n",
    "# small_search_astar_c_heuristic = search( small_puzzle, 'DF', 100000, loop_check=True, randomise=True, cost=small_puzzle.cost, show_state_path=False,\n",
    "#                         return_info=True, show_path=False, heuristic=chebyshev_heuristic)\n",
    "\n",
    "\n",
    "\n",
    "\n",
    "# TEST_RESULTS =[small_search_df, small_search_bf, small_search_best_m_heuristic, small_search_best_e_heuristic, small_search_best_c_heuristic, small_search_astar_m_heuristic, small_search_astar_e_heuristic, small_search_astar_c_heuristic]\n",
    "\n",
    "# # Specify symbols for termination conditions:\n",
    "# short_tc = {\"GOAL_STATE_FOUND\"     : \"Y\",\n",
    "#             \"NODE_LIMIT_EXCEEDED\"  : \"!\",\n",
    "#             \"SEARH-SPACE_EXHAUSTED\": \"x\"}\n",
    "\n",
    "# print(\"\\n                **TESTS SUMMARY**\\n\")\n",
    "\n",
    "# print(\"Test    #max   Result   #gen     #inQ    Time s\")\n",
    "# for i, test in enumerate(TEST_RESULTS):\n",
    "#     max  = test['args']['max_nodes']\n",
    "#     tc  = test['result']['termination_condition']\n",
    "#     stc = short_tc[tc]\n",
    "\n",
    "#     ng  = test['search_stats']['nodes_generated']\n",
    "#     nq  = test['search_stats']['nodes_left_in_queue']\n",
    "#     time = round( test['search_stats']['time_taken'], 2 )\n",
    "#     print( f\"{i:>3}: {max:>8}    {stc}  {ng:>8} {nq:>8}     {time} \")"
   ]
  },
  {
   "cell_type": "code",
   "execution_count": 8,
   "metadata": {},
   "outputs": [
    {
     "name": "stdout",
     "output_type": "stream",
     "text": [
      "Solve the following sliding blocks problem.\n",
      "Get from this initial state:\n"
     ]
    },
    {
     "data": {
      "image/png": "[encoded data removed]",
      "text/plain": [
       "<Figure size 410x410 with 1 Axes>"
      ]
     },
     "metadata": {},
     "output_type": "display_data"
    },
    {
     "name": "stdout",
     "output_type": "stream",
     "text": [
      "To a state incorporating the following block position(s):\n"
     ]
    },
    {
     "data": {
      "image/png": "[encoded data removed]",
      "text/plain": [
       "<Figure size 410x410 with 1 Axes>"
      ]
     },
     "metadata": {},
     "output_type": "display_data"
    },
    {
     "name": "stdout",
     "output_type": "stream",
     "text": [
      "\n",
      "** Running Brandon's Search Algorithm **\n",
      "Strategy: mode=DF, cost=None, heuristic=None\n",
      "Max search nodes: 100000  (max number added to queue)\n",
      "Searching (will output '.' each 1000 goal_tests)\n",
      "\n",
      ":-)) *SUCCESS* ((-:\n",
      "\n",
      "Path length = 328\n",
      "Goal state is:\n"
     ]
    },
    {
     "data": {
      "image/png": "[encoded data removed]",
      "text/plain": [
       "<Figure size 410x410 with 1 Axes>"
      ]
     },
     "metadata": {},
     "output_type": "display_data"
    },
    {
     "name": "stdout",
     "output_type": "stream",
     "text": [
      "\n",
      "SEARCH SPACE STATS:\n",
      "Total nodes generated          =     4251  (includes start)\n",
      "Nodes discarded by loop_check  =      667  (3584 distinct states added to queue)\n",
      "Nodes tested (by goal_test)    =      329  (328 expanded + 1 goal)\n",
      "Nodes left in queue            =     3255\n",
      "\n",
      "Time taken = 0.1815 seconds\n",
      "\n",
      "Solve the following sliding blocks problem.\n",
      "Get from this initial state:\n"
     ]
    },
    {
     "data": {
      "image/png": "[encoded data removed]",
      "text/plain": [
       "<Figure size 410x410 with 1 Axes>"
      ]
     },
     "metadata": {},
     "output_type": "display_data"
    },
    {
     "name": "stdout",
     "output_type": "stream",
     "text": [
      "To a state incorporating the following block position(s):\n"
     ]
    },
    {
     "data": {
      "image/png": "[encoded data removed]",
      "text/plain": [
       "<Figure size 410x410 with 1 Axes>"
      ]
     },
     "metadata": {},
     "output_type": "display_data"
    },
    {
     "name": "stdout",
     "output_type": "stream",
     "text": [
      "\n",
      "** Running Brandon's Search Algorithm **\n",
      "Strategy: mode=BF, cost=None, heuristic=None\n",
      "Max search nodes: 100000  (max number added to queue)\n",
      "Searching (will output '.' each 1000 goal_tests)\n",
      ".......................................\n",
      "!! Search node limit (100000) reached !!\n",
      "): No solution found :(\n",
      "\n",
      "\n",
      "SEARCH SPACE STATS:\n",
      "Total nodes generated          =   639050  (includes start)\n",
      "Nodes discarded by loop_check  =   539049  (100001 distinct states added to queue)\n",
      "Nodes tested (by goal_test)    =    39353  (all expanded)\n",
      "Nodes left in queue            =    60647\n",
      "\n",
      "Time taken = 19.2841 seconds\n",
      "\n",
      "Solve the following sliding blocks problem.\n",
      "Get from this initial state:\n"
     ]
    },
    {
     "data": {
      "image/png": "[encoded data removed]",
      "text/plain": [
       "<Figure size 410x410 with 1 Axes>"
      ]
     },
     "metadata": {},
     "output_type": "display_data"
    },
    {
     "name": "stdout",
     "output_type": "stream",
     "text": [
      "To a state incorporating the following block position(s):\n"
     ]
    },
    {
     "data": {
      "image/png": "[encoded data removed]",
      "text/plain": [
       "<Figure size 410x410 with 1 Axes>"
      ]
     },
     "metadata": {},
     "output_type": "display_data"
    },
    {
     "name": "stdout",
     "output_type": "stream",
     "text": [
      "\n",
      "** Running Brandon's Search Algorithm **\n",
      "Strategy: mode=DF, cost=None, heuristic=manhatten_heuristic\n",
      "Max search nodes: 100000  (max number added to queue)\n",
      "Searching (will output '.' each 1000 goal_tests)\n",
      "\n",
      ":-)) *SUCCESS* ((-:\n",
      "\n",
      "Path length = 282\n",
      "Goal state is:\n"
     ]
    },
    {
     "data": {
      "image/png": "[encoded data removed]",
      "text/plain": [
       "<Figure size 410x410 with 1 Axes>"
      ]
     },
     "metadata": {},
     "output_type": "display_data"
    },
    {
     "name": "stdout",
     "output_type": "stream",
     "text": [
      "\n",
      "SEARCH SPACE STATS:\n",
      "Total nodes generated          =     3793  (includes start)\n",
      "Nodes discarded by loop_check  =      590  (3203 distinct states added to queue)\n",
      "Nodes tested (by goal_test)    =      283  (282 expanded + 1 goal)\n",
      "Nodes left in queue            =     2920\n",
      "\n",
      "Time taken = 0.1679 seconds\n",
      "\n",
      "Solve the following sliding blocks problem.\n",
      "Get from this initial state:\n"
     ]
    },
    {
     "data": {
      "image/png": "[encoded data removed]",
      "text/plain": [
       "<Figure size 410x410 with 1 Axes>"
      ]
     },
     "metadata": {},
     "output_type": "display_data"
    },
    {
     "name": "stdout",
     "output_type": "stream",
     "text": [
      "To a state incorporating the following block position(s):\n"
     ]
    },
    {
     "data": {
      "image/png": "[encoded data removed]",
      "text/plain": [
       "<Figure size 410x410 with 1 Axes>"
      ]
     },
     "metadata": {},
     "output_type": "display_data"
    },
    {
     "name": "stdout",
     "output_type": "stream",
     "text": [
      "\n",
      "** Running Brandon's Search Algorithm **\n",
      "Strategy: mode=DF, cost=None, heuristic=euclidean_heuristic\n",
      "Max search nodes: 100000  (max number added to queue)\n",
      "Searching (will output '.' each 1000 goal_tests)\n",
      ".........\n",
      "!! Search node limit (100000) reached !!\n",
      "): No solution found :(\n",
      "\n",
      "\n",
      "SEARCH SPACE STATS:\n",
      "Total nodes generated          =   121209  (includes start)\n",
      "Nodes discarded by loop_check  =    21208  (100001 distinct states added to queue)\n",
      "Nodes tested (by goal_test)    =     9850  (all expanded)\n",
      "Nodes left in queue            =    90150\n",
      "\n",
      "Time taken = 20.0211 seconds\n",
      "\n",
      "Solve the following sliding blocks problem.\n",
      "Get from this initial state:\n"
     ]
    },
    {
     "data": {
      "image/png": "[encoded data removed]",
      "text/plain": [
       "<Figure size 410x410 with 1 Axes>"
      ]
     },
     "metadata": {},
     "output_type": "display_data"
    },
    {
     "name": "stdout",
     "output_type": "stream",
     "text": [
      "To a state incorporating the following block position(s):\n"
     ]
    },
    {
     "data": {
      "image/png": "[encoded data removed]",
      "text/plain": [
       "<Figure size 410x410 with 1 Axes>"
      ]
     },
     "metadata": {},
     "output_type": "display_data"
    },
    {
     "name": "stdout",
     "output_type": "stream",
     "text": [
      "\n",
      "** Running Brandon's Search Algorithm **\n",
      "Strategy: mode=DF, cost=None, heuristic=chebyshev_heuristic\n",
      "Max search nodes: 100000  (max number added to queue)\n",
      "Searching (will output '.' each 1000 goal_tests)\n",
      "\n",
      ":-)) *SUCCESS* ((-:\n",
      "\n",
      "Path length = 59\n",
      "Goal state is:\n"
     ]
    },
    {
     "data": {
      "image/png": "[encoded data removed]",
      "text/plain": [
       "<Figure size 410x410 with 1 Axes>"
      ]
     },
     "metadata": {},
     "output_type": "display_data"
    },
    {
     "name": "stdout",
     "output_type": "stream",
     "text": [
      "\n",
      "SEARCH SPACE STATS:\n",
      "Total nodes generated          =      855  (includes start)\n",
      "Nodes discarded by loop_check  =      118  (737 distinct states added to queue)\n",
      "Nodes tested (by goal_test)    =       60  (59 expanded + 1 goal)\n",
      "Nodes left in queue            =      677\n",
      "\n",
      "Time taken = 0.0746 seconds\n",
      "\n",
      "Solve the following sliding blocks problem.\n",
      "Get from this initial state:\n"
     ]
    },
    {
     "data": {
      "image/png": "[encoded data removed]",
      "text/plain": [
       "<Figure size 410x410 with 1 Axes>"
      ]
     },
     "metadata": {},
     "output_type": "display_data"
    },
    {
     "name": "stdout",
     "output_type": "stream",
     "text": [
      "To a state incorporating the following block position(s):\n"
     ]
    },
    {
     "data": {
      "image/png": "[encoded data removed]",
      "text/plain": [
       "<Figure size 410x410 with 1 Axes>"
      ]
     },
     "metadata": {},
     "output_type": "display_data"
    },
    {
     "name": "stdout",
     "output_type": "stream",
     "text": [
      "\n",
      "** Running Brandon's Search Algorithm **\n",
      "Strategy: mode=DF, cost=cost, heuristic=manhatten_heuristic\n",
      "Max search nodes: 100000  (max number added to queue)\n",
      "Searching (will output '.' each 1000 goal_tests)\n",
      "........\n",
      ":-)) *SUCCESS* ((-:\n",
      "\n",
      "Path length = 11\n",
      "Goal state is:\n"
     ]
    },
    {
     "data": {
      "image/png": "[encoded data removed]",
      "text/plain": [
       "<Figure size 410x410 with 1 Axes>"
      ]
     },
     "metadata": {},
     "output_type": "display_data"
    },
    {
     "name": "stdout",
     "output_type": "stream",
     "text": [
      "Cost of reaching goal: 11\n",
      "\n",
      "SEARCH SPACE STATS:\n",
      "Total nodes generated          =   132380  (includes start)\n",
      "Nodes discarded by loop_check  =   100628  (31752 distinct states added to queue)\n",
      "Nodes tested (by goal_test)    =     8078  (8077 expanded + 1 goal)\n",
      "Nodes left in queue            =    23674\n",
      "\n",
      "Time taken = 24.1626 seconds\n",
      "\n",
      "Solve the following sliding blocks problem.\n",
      "Get from this initial state:\n"
     ]
    },
    {
     "data": {
      "image/png": "[encoded data removed]",
      "text/plain": [
       "<Figure size 410x410 with 1 Axes>"
      ]
     },
     "metadata": {},
     "output_type": "display_data"
    },
    {
     "name": "stdout",
     "output_type": "stream",
     "text": [
      "To a state incorporating the following block position(s):\n"
     ]
    },
    {
     "data": {
      "image/png": "[encoded data removed]",
      "text/plain": [
       "<Figure size 410x410 with 1 Axes>"
      ]
     },
     "metadata": {},
     "output_type": "display_data"
    },
    {
     "name": "stdout",
     "output_type": "stream",
     "text": [
      "\n",
      "** Running Brandon's Search Algorithm **\n",
      "Strategy: mode=DF, cost=cost, heuristic=euclidean_heuristic\n",
      "Max search nodes: 100000  (max number added to queue)\n",
      "Searching (will output '.' each 1000 goal_tests)\n",
      "...................................\n",
      "!! Search node limit (100000) reached !!\n",
      "): No solution found :(\n",
      "\n",
      "\n",
      "SEARCH SPACE STATS:\n",
      "Total nodes generated          =   571426  (includes start)\n",
      "Nodes discarded by loop_check  =   471425  (100001 distinct states added to queue)\n",
      "Nodes tested (by goal_test)    =    35562  (all expanded)\n",
      "Nodes left in queue            =    64438\n",
      "\n",
      "Time taken = 18.1432 seconds\n",
      "\n",
      "Solve the following sliding blocks problem.\n",
      "Get from this initial state:\n"
     ]
    },
    {
     "data": {
      "image/png": "[encoded data removed]",
      "text/plain": [
       "<Figure size 410x410 with 1 Axes>"
      ]
     },
     "metadata": {},
     "output_type": "display_data"
    },
    {
     "name": "stdout",
     "output_type": "stream",
     "text": [
      "To a state incorporating the following block position(s):\n"
     ]
    },
    {
     "data": {
      "image/png": "[encoded data removed]",
      "text/plain": [
       "<Figure size 410x410 with 1 Axes>"
      ]
     },
     "metadata": {},
     "output_type": "display_data"
    },
    {
     "name": "stdout",
     "output_type": "stream",
     "text": [
      "\n",
      "** Running Brandon's Search Algorithm **\n",
      "Strategy: mode=DF, cost=cost, heuristic=chebyshev_heuristic\n",
      "Max search nodes: 100000  (max number added to queue)\n",
      "Searching (will output '.' each 1000 goal_tests)\n",
      "................................\n",
      "!! Search node limit (100000) reached !!\n",
      "): No solution found :(\n",
      "\n",
      "\n",
      "SEARCH SPACE STATS:\n",
      "Total nodes generated          =   524938  (includes start)\n",
      "Nodes discarded by loop_check  =   424937  (100001 distinct states added to queue)\n",
      "Nodes tested (by goal_test)    =    32085  (all expanded)\n",
      "Nodes left in queue            =    67915\n",
      "\n",
      "Time taken = 17.8288 seconds\n",
      "\n",
      "Solve the following sliding blocks problem.\n",
      "Get from this initial state:\n"
     ]
    },
    {
     "data": {
      "image/png": "[encoded data removed]",
      "text/plain": [
       "<Figure size 410x410 with 1 Axes>"
      ]
     },
     "metadata": {},
     "output_type": "display_data"
    },
    {
     "name": "stdout",
     "output_type": "stream",
     "text": [
      "To a state incorporating the following block position(s):\n"
     ]
    },
    {
     "data": {
      "image/png": "[encoded data removed]",
      "text/plain": [
       "<Figure size 410x410 with 1 Axes>"
      ]
     },
     "metadata": {},
     "output_type": "display_data"
    },
    {
     "name": "stdout",
     "output_type": "stream",
     "text": [
      "\n",
      "** Running Brandon's Search Algorithm **\n",
      "Strategy: mode=DF, cost=None, heuristic=None\n",
      "Max search nodes: 100000  (max number added to queue)\n",
      "Searching (will output '.' each 1000 goal_tests)\n",
      ".......\n",
      ":-)) *SUCCESS* ((-:\n",
      "\n",
      "Path length = 7295\n",
      "Goal state is:\n"
     ]
    },
    {
     "data": {
      "image/png": "[encoded data removed]",
      "text/plain": [
       "<Figure size 410x410 with 1 Axes>"
      ]
     },
     "metadata": {},
     "output_type": "display_data"
    },
    {
     "name": "stdout",
     "output_type": "stream",
     "text": [
      "\n",
      "SEARCH SPACE STATS:\n",
      "Total nodes generated          =   100259  (includes start)\n",
      "Nodes discarded by loop_check  =    14839  (85420 distinct states added to queue)\n",
      "Nodes tested (by goal_test)    =     7296  (7295 expanded + 1 goal)\n",
      "Nodes left in queue            =    78124\n",
      "\n",
      "Time taken = 12.2477 seconds\n",
      "\n",
      "Solve the following sliding blocks problem.\n",
      "Get from this initial state:\n"
     ]
    },
    {
     "data": {
      "image/png": "[encoded data removed]",
      "text/plain": [
       "<Figure size 410x410 with 1 Axes>"
      ]
     },
     "metadata": {},
     "output_type": "display_data"
    },
    {
     "name": "stdout",
     "output_type": "stream",
     "text": [
      "To a state incorporating the following block position(s):\n"
     ]
    },
    {
     "data": {
      "image/png": "[encoded data removed]",
      "text/plain": [
       "<Figure size 410x410 with 1 Axes>"
      ]
     },
     "metadata": {},
     "output_type": "display_data"
    },
    {
     "name": "stdout",
     "output_type": "stream",
     "text": [
      "\n",
      "** Running Brandon's Search Algorithm **\n",
      "Strategy: mode=BF, cost=None, heuristic=None\n",
      "Max search nodes: 100000  (max number added to queue)\n",
      "Searching (will output '.' each 1000 goal_tests)\n",
      ".......................................\n",
      "!! Search node limit (100000) reached !!\n",
      "): No solution found :(\n",
      "\n",
      "\n",
      "SEARCH SPACE STATS:\n",
      "Total nodes generated          =   639020  (includes start)\n",
      "Nodes discarded by loop_check  =   539019  (100001 distinct states added to queue)\n",
      "Nodes tested (by goal_test)    =    39497  (all expanded)\n",
      "Nodes left in queue            =    60503\n",
      "\n",
      "Time taken = 25.689 seconds\n",
      "\n",
      "Solve the following sliding blocks problem.\n",
      "Get from this initial state:\n"
     ]
    },
    {
     "data": {
      "image/png": "[encoded data removed]",
      "text/plain": [
       "<Figure size 410x410 with 1 Axes>"
      ]
     },
     "metadata": {},
     "output_type": "display_data"
    },
    {
     "name": "stdout",
     "output_type": "stream",
     "text": [
      "To a state incorporating the following block position(s):\n"
     ]
    },
    {
     "data": {
      "image/png": "[encoded data removed]",
      "text/plain": [
       "<Figure size 410x410 with 1 Axes>"
      ]
     },
     "metadata": {},
     "output_type": "display_data"
    },
    {
     "name": "stdout",
     "output_type": "stream",
     "text": [
      "\n",
      "** Running Brandon's Search Algorithm **\n",
      "Strategy: mode=DF, cost=None, heuristic=manhatten_heuristic\n",
      "Max search nodes: 100000  (max number added to queue)\n",
      "Searching (will output '.' each 1000 goal_tests)\n",
      "\n",
      ":-)) *SUCCESS* ((-:\n",
      "\n",
      "Path length = 95\n",
      "Goal state is:\n"
     ]
    },
    {
     "data": {
      "image/png": "[encoded data removed]",
      "text/plain": [
       "<Figure size 410x410 with 1 Axes>"
      ]
     },
     "metadata": {},
     "output_type": "display_data"
    },
    {
     "name": "stdout",
     "output_type": "stream",
     "text": [
      "\n",
      "SEARCH SPACE STATS:\n",
      "Total nodes generated          =     1347  (includes start)\n",
      "Nodes discarded by loop_check  =      202  (1145 distinct states added to queue)\n",
      "Nodes tested (by goal_test)    =       96  (95 expanded + 1 goal)\n",
      "Nodes left in queue            =     1049\n",
      "\n",
      "Time taken = 0.0832 seconds\n",
      "\n",
      "Solve the following sliding blocks problem.\n",
      "Get from this initial state:\n"
     ]
    },
    {
     "data": {
      "image/png": "[encoded data removed]",
      "text/plain": [
       "<Figure size 410x410 with 1 Axes>"
      ]
     },
     "metadata": {},
     "output_type": "display_data"
    },
    {
     "name": "stdout",
     "output_type": "stream",
     "text": [
      "To a state incorporating the following block position(s):\n"
     ]
    },
    {
     "data": {
      "image/png": "[encoded data removed]",
      "text/plain": [
       "<Figure size 410x410 with 1 Axes>"
      ]
     },
     "metadata": {},
     "output_type": "display_data"
    },
    {
     "name": "stdout",
     "output_type": "stream",
     "text": [
      "\n",
      "** Running Brandon's Search Algorithm **\n",
      "Strategy: mode=DF, cost=None, heuristic=euclidean_heuristic\n",
      "Max search nodes: 100000  (max number added to queue)\n",
      "Searching (will output '.' each 1000 goal_tests)\n",
      ".........\n",
      "!! Search node limit (100000) reached !!\n",
      "): No solution found :(\n",
      "\n",
      "\n",
      "SEARCH SPACE STATS:\n",
      "Total nodes generated          =   121047  (includes start)\n",
      "Nodes discarded by loop_check  =    21046  (100001 distinct states added to queue)\n",
      "Nodes tested (by goal_test)    =     9882  (all expanded)\n",
      "Nodes left in queue            =    90118\n",
      "\n",
      "Time taken = 19.9481 seconds\n",
      "\n",
      "Solve the following sliding blocks problem.\n",
      "Get from this initial state:\n"
     ]
    },
    {
     "data": {
      "image/png": "[encoded data removed]",
      "text/plain": [
       "<Figure size 410x410 with 1 Axes>"
      ]
     },
     "metadata": {},
     "output_type": "display_data"
    },
    {
     "name": "stdout",
     "output_type": "stream",
     "text": [
      "To a state incorporating the following block position(s):\n"
     ]
    },
    {
     "data": {
      "image/png": "[encoded data removed]",
      "text/plain": [
       "<Figure size 410x410 with 1 Axes>"
      ]
     },
     "metadata": {},
     "output_type": "display_data"
    },
    {
     "name": "stdout",
     "output_type": "stream",
     "text": [
      "\n",
      "** Running Brandon's Search Algorithm **\n",
      "Strategy: mode=DF, cost=None, heuristic=chebyshev_heuristic\n",
      "Max search nodes: 100000  (max number added to queue)\n",
      "Searching (will output '.' each 1000 goal_tests)\n",
      ".........\n",
      "!! Search node limit (100000) reached !!\n",
      "): No solution found :(\n",
      "\n",
      "\n",
      "SEARCH SPACE STATS:\n",
      "Total nodes generated          =   120667  (includes start)\n",
      "Nodes discarded by loop_check  =    20666  (100001 distinct states added to queue)\n",
      "Nodes tested (by goal_test)    =     9850  (all expanded)\n",
      "Nodes left in queue            =    90150\n",
      "\n",
      "Time taken = 38.0932 seconds\n",
      "\n",
      "Solve the following sliding blocks problem.\n",
      "Get from this initial state:\n"
     ]
    },
    {
     "data": {
      "image/png": "[encoded data removed]",
      "text/plain": [
       "<Figure size 410x410 with 1 Axes>"
      ]
     },
     "metadata": {},
     "output_type": "display_data"
    },
    {
     "name": "stdout",
     "output_type": "stream",
     "text": [
      "To a state incorporating the following block position(s):\n"
     ]
    },
    {
     "data": {
      "image/png": "[encoded data removed]",
      "text/plain": [
       "<Figure size 410x410 with 1 Axes>"
      ]
     },
     "metadata": {},
     "output_type": "display_data"
    },
    {
     "name": "stdout",
     "output_type": "stream",
     "text": [
      "\n",
      "** Running Brandon's Search Algorithm **\n",
      "Strategy: mode=DF, cost=cost, heuristic=manhatten_heuristic\n",
      "Max search nodes: 100000  (max number added to queue)\n",
      "Searching (will output '.' each 1000 goal_tests)\n",
      "........\n",
      ":-)) *SUCCESS* ((-:\n",
      "\n",
      "Path length = 11\n",
      "Goal state is:\n"
     ]
    },
    {
     "data": {
      "image/png": "[encoded data removed]",
      "text/plain": [
       "<Figure size 410x410 with 1 Axes>"
      ]
     },
     "metadata": {},
     "output_type": "display_data"
    },
    {
     "name": "stdout",
     "output_type": "stream",
     "text": [
      "Cost of reaching goal: 11\n",
      "\n",
      "SEARCH SPACE STATS:\n",
      "Total nodes generated          =   143218  (includes start)\n",
      "Nodes discarded by loop_check  =   109623  (33595 distinct states added to queue)\n",
      "Nodes tested (by goal_test)    =     8752  (8751 expanded + 1 goal)\n",
      "Nodes left in queue            =    24843\n",
      "\n",
      "Time taken = 21.9764 seconds\n",
      "\n",
      "Solve the following sliding blocks problem.\n",
      "Get from this initial state:\n"
     ]
    },
    {
     "data": {
      "image/png": "[encoded data removed]",
      "text/plain": [
       "<Figure size 410x410 with 1 Axes>"
      ]
     },
     "metadata": {},
     "output_type": "display_data"
    },
    {
     "name": "stdout",
     "output_type": "stream",
     "text": [
      "To a state incorporating the following block position(s):\n"
     ]
    },
    {
     "data": {
      "image/png": "[encoded data removed]",
      "text/plain": [
       "<Figure size 410x410 with 1 Axes>"
      ]
     },
     "metadata": {},
     "output_type": "display_data"
    },
    {
     "name": "stdout",
     "output_type": "stream",
     "text": [
      "\n",
      "** Running Brandon's Search Algorithm **\n",
      "Strategy: mode=DF, cost=cost, heuristic=euclidean_heuristic\n",
      "Max search nodes: 100000  (max number added to queue)\n",
      "Searching (will output '.' each 1000 goal_tests)\n",
      "...................................\n",
      "!! Search node limit (100000) reached !!\n",
      "): No solution found :(\n",
      "\n",
      "\n",
      "SEARCH SPACE STATS:\n",
      "Total nodes generated          =   570391  (includes start)\n",
      "Nodes discarded by loop_check  =   470390  (100001 distinct states added to queue)\n",
      "Nodes tested (by goal_test)    =    35495  (all expanded)\n",
      "Nodes left in queue            =    64505\n",
      "\n",
      "Time taken = 18.5155 seconds\n",
      "\n",
      "Solve the following sliding blocks problem.\n",
      "Get from this initial state:\n"
     ]
    },
    {
     "data": {
      "image/png": "[encoded data removed]",
      "text/plain": [
       "<Figure size 410x410 with 1 Axes>"
      ]
     },
     "metadata": {},
     "output_type": "display_data"
    },
    {
     "name": "stdout",
     "output_type": "stream",
     "text": [
      "To a state incorporating the following block position(s):\n"
     ]
    },
    {
     "data": {
      "image/png": "[encoded data removed]",
      "text/plain": [
       "<Figure size 410x410 with 1 Axes>"
      ]
     },
     "metadata": {},
     "output_type": "display_data"
    },
    {
     "name": "stdout",
     "output_type": "stream",
     "text": [
      "\n",
      "** Running Brandon's Search Algorithm **\n",
      "Strategy: mode=DF, cost=cost, heuristic=chebyshev_heuristic\n",
      "Max search nodes: 100000  (max number added to queue)\n",
      "Searching (will output '.' each 1000 goal_tests)\n",
      "...............................\n",
      "!! Search node limit (100000) reached !!\n",
      "): No solution found :(\n",
      "\n",
      "\n",
      "SEARCH SPACE STATS:\n",
      "Total nodes generated          =   521674  (includes start)\n",
      "Nodes discarded by loop_check  =   421673  (100001 distinct states added to queue)\n",
      "Nodes tested (by goal_test)    =    31935  (all expanded)\n",
      "Nodes left in queue            =    68065\n",
      "\n",
      "Time taken = 18.074 seconds\n",
      "\n",
      "Solve the following sliding blocks problem.\n",
      "Get from this initial state:\n"
     ]
    },
    {
     "data": {
      "image/png": "[encoded data removed]",
      "text/plain": [
       "<Figure size 410x410 with 1 Axes>"
      ]
     },
     "metadata": {},
     "output_type": "display_data"
    },
    {
     "name": "stdout",
     "output_type": "stream",
     "text": [
      "To a state incorporating the following block position(s):\n"
     ]
    },
    {
     "data": {
      "image/png": "[encoded data removed]",
      "text/plain": [
       "<Figure size 410x410 with 1 Axes>"
      ]
     },
     "metadata": {},
     "output_type": "display_data"
    },
    {
     "name": "stdout",
     "output_type": "stream",
     "text": [
      "\n",
      "** Running Brandon's Search Algorithm **\n",
      "Strategy: mode=DF, cost=None, heuristic=None\n",
      "Max search nodes: 100000  (max number added to queue)\n",
      "Searching (will output '.' each 1000 goal_tests)\n",
      "......\n",
      ":-)) *SUCCESS* ((-:\n",
      "\n",
      "Path length = 6355\n",
      "Goal state is:\n"
     ]
    },
    {
     "data": {
      "image/png": "[encoded data removed]",
      "text/plain": [
       "<Figure size 410x410 with 1 Axes>"
      ]
     },
     "metadata": {},
     "output_type": "display_data"
    },
    {
     "name": "stdout",
     "output_type": "stream",
     "text": [
      "\n",
      "SEARCH SPACE STATS:\n",
      "Total nodes generated          =    86850  (includes start)\n",
      "Nodes discarded by loop_check  =    12994  (73856 distinct states added to queue)\n",
      "Nodes tested (by goal_test)    =     6356  (6355 expanded + 1 goal)\n",
      "Nodes left in queue            =    67500\n",
      "\n",
      "Time taken = 9.71 seconds\n",
      "\n",
      "Solve the following sliding blocks problem.\n",
      "Get from this initial state:\n"
     ]
    },
    {
     "data": {
      "image/png": "[encoded data removed]",
      "text/plain": [
       "<Figure size 410x410 with 1 Axes>"
      ]
     },
     "metadata": {},
     "output_type": "display_data"
    },
    {
     "name": "stdout",
     "output_type": "stream",
     "text": [
      "To a state incorporating the following block position(s):\n"
     ]
    },
    {
     "data": {
      "image/png": "[encoded data removed]",
      "text/plain": [
       "<Figure size 410x410 with 1 Axes>"
      ]
     },
     "metadata": {},
     "output_type": "display_data"
    },
    {
     "name": "stdout",
     "output_type": "stream",
     "text": [
      "\n",
      "** Running Brandon's Search Algorithm **\n",
      "Strategy: mode=BF, cost=None, heuristic=None\n",
      "Max search nodes: 100000  (max number added to queue)\n",
      "Searching (will output '.' each 1000 goal_tests)\n",
      ".......................................\n",
      "!! Search node limit (100000) reached !!\n",
      "): No solution found :(\n",
      "\n",
      "\n",
      "SEARCH SPACE STATS:\n",
      "Total nodes generated          =   643991  (includes start)\n",
      "Nodes discarded by loop_check  =   543990  (100001 distinct states added to queue)\n",
      "Nodes tested (by goal_test)    =    39684  (all expanded)\n",
      "Nodes left in queue            =    60316\n",
      "\n",
      "Time taken = 23.8731 seconds\n",
      "\n",
      "Solve the following sliding blocks problem.\n",
      "Get from this initial state:\n"
     ]
    },
    {
     "data": {
      "image/png": "[encoded data removed]",
      "text/plain": [
       "<Figure size 410x410 with 1 Axes>"
      ]
     },
     "metadata": {},
     "output_type": "display_data"
    },
    {
     "name": "stdout",
     "output_type": "stream",
     "text": [
      "To a state incorporating the following block position(s):\n"
     ]
    },
    {
     "data": {
      "image/png": "[encoded data removed]",
      "text/plain": [
       "<Figure size 410x410 with 1 Axes>"
      ]
     },
     "metadata": {},
     "output_type": "display_data"
    },
    {
     "name": "stdout",
     "output_type": "stream",
     "text": [
      "\n",
      "** Running Brandon's Search Algorithm **\n",
      "Strategy: mode=DF, cost=None, heuristic=manhatten_heuristic\n",
      "Max search nodes: 100000  (max number added to queue)\n",
      "Searching (will output '.' each 1000 goal_tests)\n",
      "\n",
      ":-)) *SUCCESS* ((-:\n",
      "\n",
      "Path length = 79\n",
      "Goal state is:\n"
     ]
    },
    {
     "data": {
      "image/png": "[encoded data removed]",
      "text/plain": [
       "<Figure size 410x410 with 1 Axes>"
      ]
     },
     "metadata": {},
     "output_type": "display_data"
    },
    {
     "name": "stdout",
     "output_type": "stream",
     "text": [
      "\n",
      "SEARCH SPACE STATS:\n",
      "Total nodes generated          =     1223  (includes start)\n",
      "Nodes discarded by loop_check  =      169  (1054 distinct states added to queue)\n",
      "Nodes tested (by goal_test)    =       80  (79 expanded + 1 goal)\n",
      "Nodes left in queue            =      974\n",
      "\n",
      "Time taken = 0.0766 seconds\n",
      "\n",
      "Solve the following sliding blocks problem.\n",
      "Get from this initial state:\n"
     ]
    },
    {
     "data": {
      "image/png": "[encoded data removed]",
      "text/plain": [
       "<Figure size 410x410 with 1 Axes>"
      ]
     },
     "metadata": {},
     "output_type": "display_data"
    },
    {
     "name": "stdout",
     "output_type": "stream",
     "text": [
      "To a state incorporating the following block position(s):\n"
     ]
    },
    {
     "data": {
      "image/png": "[encoded data removed]",
      "text/plain": [
       "<Figure size 410x410 with 1 Axes>"
      ]
     },
     "metadata": {},
     "output_type": "display_data"
    },
    {
     "name": "stdout",
     "output_type": "stream",
     "text": [
      "\n",
      "** Running Brandon's Search Algorithm **\n",
      "Strategy: mode=DF, cost=None, heuristic=euclidean_heuristic\n",
      "Max search nodes: 100000  (max number added to queue)\n",
      "Searching (will output '.' each 1000 goal_tests)\n",
      ".........\n",
      "!! Search node limit (100000) reached !!\n",
      "): No solution found :(\n",
      "\n",
      "\n",
      "SEARCH SPACE STATS:\n",
      "Total nodes generated          =   121086  (includes start)\n",
      "Nodes discarded by loop_check  =    21085  (100001 distinct states added to queue)\n",
      "Nodes tested (by goal_test)    =     9828  (all expanded)\n",
      "Nodes left in queue            =    90172\n",
      "\n",
      "Time taken = 21.4145 seconds\n",
      "\n",
      "Solve the following sliding blocks problem.\n",
      "Get from this initial state:\n"
     ]
    },
    {
     "data": {
      "image/png": "[encoded data removed]",
      "text/plain": [
       "<Figure size 410x410 with 1 Axes>"
      ]
     },
     "metadata": {},
     "output_type": "display_data"
    },
    {
     "name": "stdout",
     "output_type": "stream",
     "text": [
      "To a state incorporating the following block position(s):\n"
     ]
    },
    {
     "data": {
      "image/png": "[encoded data removed]",
      "text/plain": [
       "<Figure size 410x410 with 1 Axes>"
      ]
     },
     "metadata": {},
     "output_type": "display_data"
    },
    {
     "name": "stdout",
     "output_type": "stream",
     "text": [
      "\n",
      "** Running Brandon's Search Algorithm **\n",
      "Strategy: mode=DF, cost=None, heuristic=chebyshev_heuristic\n",
      "Max search nodes: 100000  (max number added to queue)\n",
      "Searching (will output '.' each 1000 goal_tests)\n",
      ".........\n",
      "!! Search node limit (100000) reached !!\n",
      "): No solution found :(\n",
      "\n",
      "\n",
      "SEARCH SPACE STATS:\n",
      "Total nodes generated          =   121071  (includes start)\n",
      "Nodes discarded by loop_check  =    21070  (100001 distinct states added to queue)\n",
      "Nodes tested (by goal_test)    =     9866  (all expanded)\n",
      "Nodes left in queue            =    90134\n",
      "\n",
      "Time taken = 43.9879 seconds\n",
      "\n",
      "Solve the following sliding blocks problem.\n",
      "Get from this initial state:\n"
     ]
    },
    {
     "data": {
      "image/png": "[encoded data removed]",
      "text/plain": [
       "<Figure size 410x410 with 1 Axes>"
      ]
     },
     "metadata": {},
     "output_type": "display_data"
    },
    {
     "name": "stdout",
     "output_type": "stream",
     "text": [
      "To a state incorporating the following block position(s):\n"
     ]
    },
    {
     "data": {
      "image/png": "[encoded data removed]",
      "text/plain": [
       "<Figure size 410x410 with 1 Axes>"
      ]
     },
     "metadata": {},
     "output_type": "display_data"
    },
    {
     "name": "stdout",
     "output_type": "stream",
     "text": [
      "\n",
      "** Running Brandon's Search Algorithm **\n",
      "Strategy: mode=DF, cost=cost, heuristic=manhatten_heuristic\n",
      "Max search nodes: 100000  (max number added to queue)\n",
      "Searching (will output '.' each 1000 goal_tests)\n",
      "...............\n",
      ":-)) *SUCCESS* ((-:\n",
      "\n",
      "Path length = 11\n",
      "Goal state is:\n"
     ]
    },
    {
     "data": {
      "image/png": "[encoded data removed]",
      "text/plain": [
       "<Figure size 410x410 with 1 Axes>"
      ]
     },
     "metadata": {},
     "output_type": "display_data"
    },
    {
     "name": "stdout",
     "output_type": "stream",
     "text": [
      "Cost of reaching goal: 11\n",
      "\n",
      "SEARCH SPACE STATS:\n",
      "Total nodes generated          =   242563  (includes start)\n",
      "Nodes discarded by loop_check  =   193683  (48880 distinct states added to queue)\n",
      "Nodes tested (by goal_test)    =    15030  (15029 expanded + 1 goal)\n",
      "Nodes left in queue            =    33850\n",
      "\n",
      "Time taken = 25.8224 seconds\n",
      "\n",
      "Solve the following sliding blocks problem.\n",
      "Get from this initial state:\n"
     ]
    },
    {
     "data": {
      "image/png": "[encoded data removed]",
      "text/plain": [
       "<Figure size 410x410 with 1 Axes>"
      ]
     },
     "metadata": {},
     "output_type": "display_data"
    },
    {
     "name": "stdout",
     "output_type": "stream",
     "text": [
      "To a state incorporating the following block position(s):\n"
     ]
    },
    {
     "data": {
      "image/png": "[encoded data removed]",
      "text/plain": [
       "<Figure size 410x410 with 1 Axes>"
      ]
     },
     "metadata": {},
     "output_type": "display_data"
    },
    {
     "name": "stdout",
     "output_type": "stream",
     "text": [
      "\n",
      "** Running Brandon's Search Algorithm **\n",
      "Strategy: mode=DF, cost=cost, heuristic=euclidean_heuristic\n",
      "Max search nodes: 100000  (max number added to queue)\n",
      "Searching (will output '.' each 1000 goal_tests)\n",
      "...................................\n",
      "!! Search node limit (100000) reached !!\n",
      "): No solution found :(\n",
      "\n",
      "\n",
      "SEARCH SPACE STATS:\n",
      "Total nodes generated          =   570589  (includes start)\n",
      "Nodes discarded by loop_check  =   470588  (100001 distinct states added to queue)\n",
      "Nodes tested (by goal_test)    =    35515  (all expanded)\n",
      "Nodes left in queue            =    64485\n",
      "\n",
      "Time taken = 18.7073 seconds\n",
      "\n",
      "Solve the following sliding blocks problem.\n",
      "Get from this initial state:\n"
     ]
    },
    {
     "data": {
      "image/png": "[encoded data removed]",
      "text/plain": [
       "<Figure size 410x410 with 1 Axes>"
      ]
     },
     "metadata": {},
     "output_type": "display_data"
    },
    {
     "name": "stdout",
     "output_type": "stream",
     "text": [
      "To a state incorporating the following block position(s):\n"
     ]
    },
    {
     "data": {
      "image/png": "[encoded data removed]",
      "text/plain": [
       "<Figure size 410x410 with 1 Axes>"
      ]
     },
     "metadata": {},
     "output_type": "display_data"
    },
    {
     "name": "stdout",
     "output_type": "stream",
     "text": [
      "\n",
      "** Running Brandon's Search Algorithm **\n",
      "Strategy: mode=DF, cost=cost, heuristic=chebyshev_heuristic\n",
      "Max search nodes: 100000  (max number added to queue)\n",
      "Searching (will output '.' each 1000 goal_tests)\n",
      "................................\n",
      "!! Search node limit (100000) reached !!\n",
      "): No solution found :(\n",
      "\n",
      "\n",
      "SEARCH SPACE STATS:\n",
      "Total nodes generated          =   524781  (includes start)\n",
      "Nodes discarded by loop_check  =   424780  (100001 distinct states added to queue)\n",
      "Nodes tested (by goal_test)    =    32314  (all expanded)\n",
      "Nodes left in queue            =    67686\n",
      "\n",
      "Time taken = 18.5687 seconds\n",
      "\n",
      "Solve the following sliding blocks problem.\n",
      "Get from this initial state:\n"
     ]
    },
    {
     "data": {
      "image/png": "[encoded data removed]",
      "text/plain": [
       "<Figure size 410x410 with 1 Axes>"
      ]
     },
     "metadata": {},
     "output_type": "display_data"
    },
    {
     "name": "stdout",
     "output_type": "stream",
     "text": [
      "To a state incorporating the following block position(s):\n"
     ]
    },
    {
     "data": {
      "image/png": "[encoded data removed]",
      "text/plain": [
       "<Figure size 410x410 with 1 Axes>"
      ]
     },
     "metadata": {},
     "output_type": "display_data"
    },
    {
     "name": "stdout",
     "output_type": "stream",
     "text": [
      "\n",
      "** Running Brandon's Search Algorithm **\n",
      "Strategy: mode=DF, cost=None, heuristic=None\n",
      "Max search nodes: 100000  (max number added to queue)\n",
      "Searching (will output '.' each 1000 goal_tests)\n",
      ".\n",
      ":-)) *SUCCESS* ((-:\n",
      "\n",
      "Path length = 1243\n",
      "Goal state is:\n"
     ]
    },
    {
     "data": {
      "image/png": "[encoded data removed]",
      "text/plain": [
       "<Figure size 410x410 with 1 Axes>"
      ]
     },
     "metadata": {},
     "output_type": "display_data"
    },
    {
     "name": "stdout",
     "output_type": "stream",
     "text": [
      "\n",
      "SEARCH SPACE STATS:\n",
      "Total nodes generated          =    17015  (includes start)\n",
      "Nodes discarded by loop_check  =     2567  (14448 distinct states added to queue)\n",
      "Nodes tested (by goal_test)    =     1244  (1243 expanded + 1 goal)\n",
      "Nodes left in queue            =    13204\n",
      "\n",
      "Time taken = 0.6662 seconds\n",
      "\n",
      "Solve the following sliding blocks problem.\n",
      "Get from this initial state:\n"
     ]
    },
    {
     "data": {
      "image/png": "[encoded data removed]",
      "text/plain": [
       "<Figure size 410x410 with 1 Axes>"
      ]
     },
     "metadata": {},
     "output_type": "display_data"
    },
    {
     "name": "stdout",
     "output_type": "stream",
     "text": [
      "To a state incorporating the following block position(s):\n"
     ]
    },
    {
     "data": {
      "image/png": "[encoded data removed]",
      "text/plain": [
       "<Figure size 410x410 with 1 Axes>"
      ]
     },
     "metadata": {},
     "output_type": "display_data"
    },
    {
     "name": "stdout",
     "output_type": "stream",
     "text": [
      "\n",
      "** Running Brandon's Search Algorithm **\n",
      "Strategy: mode=BF, cost=None, heuristic=None\n",
      "Max search nodes: 100000  (max number added to queue)\n",
      "Searching (will output '.' each 1000 goal_tests)\n",
      ".......................................\n",
      "!! Search node limit (100000) reached !!\n",
      "): No solution found :(\n",
      "\n",
      "\n",
      "SEARCH SPACE STATS:\n",
      "Total nodes generated          =   639082  (includes start)\n",
      "Nodes discarded by loop_check  =   539081  (100001 distinct states added to queue)\n",
      "Nodes tested (by goal_test)    =    39297  (all expanded)\n",
      "Nodes left in queue            =    60703\n",
      "\n",
      "Time taken = 20.7547 seconds\n",
      "\n",
      "Solve the following sliding blocks problem.\n",
      "Get from this initial state:\n"
     ]
    },
    {
     "data": {
      "image/png": "[encoded data removed]",
      "text/plain": [
       "<Figure size 410x410 with 1 Axes>"
      ]
     },
     "metadata": {},
     "output_type": "display_data"
    },
    {
     "name": "stdout",
     "output_type": "stream",
     "text": [
      "To a state incorporating the following block position(s):\n"
     ]
    },
    {
     "data": {
      "image/png": "[encoded data removed]",
      "text/plain": [
       "<Figure size 410x410 with 1 Axes>"
      ]
     },
     "metadata": {},
     "output_type": "display_data"
    },
    {
     "name": "stdout",
     "output_type": "stream",
     "text": [
      "\n",
      "** Running Brandon's Search Algorithm **\n",
      "Strategy: mode=DF, cost=None, heuristic=manhatten_heuristic\n",
      "Max search nodes: 100000  (max number added to queue)\n",
      "Searching (will output '.' each 1000 goal_tests)\n",
      "\n",
      ":-)) *SUCCESS* ((-:\n",
      "\n",
      "Path length = 131\n",
      "Goal state is:\n"
     ]
    },
    {
     "data": {
      "image/png": "[encoded data removed]",
      "text/plain": [
       "<Figure size 410x410 with 1 Axes>"
      ]
     },
     "metadata": {},
     "output_type": "display_data"
    },
    {
     "name": "stdout",
     "output_type": "stream",
     "text": [
      "\n",
      "SEARCH SPACE STATS:\n",
      "Total nodes generated          =     1822  (includes start)\n",
      "Nodes discarded by loop_check  =      264  (1558 distinct states added to queue)\n",
      "Nodes tested (by goal_test)    =      132  (131 expanded + 1 goal)\n",
      "Nodes left in queue            =     1426\n",
      "\n",
      "Time taken = 0.1031 seconds\n",
      "\n",
      "Solve the following sliding blocks problem.\n",
      "Get from this initial state:\n"
     ]
    },
    {
     "data": {
      "image/png": "[encoded data removed]",
      "text/plain": [
       "<Figure size 410x410 with 1 Axes>"
      ]
     },
     "metadata": {},
     "output_type": "display_data"
    },
    {
     "name": "stdout",
     "output_type": "stream",
     "text": [
      "To a state incorporating the following block position(s):\n"
     ]
    },
    {
     "data": {
      "image/png": "[encoded data removed]",
      "text/plain": [
       "<Figure size 410x410 with 1 Axes>"
      ]
     },
     "metadata": {},
     "output_type": "display_data"
    },
    {
     "name": "stdout",
     "output_type": "stream",
     "text": [
      "\n",
      "** Running Brandon's Search Algorithm **\n",
      "Strategy: mode=DF, cost=None, heuristic=euclidean_heuristic\n",
      "Max search nodes: 100000  (max number added to queue)\n",
      "Searching (will output '.' each 1000 goal_tests)\n",
      ".........\n",
      "!! Search node limit (100000) reached !!\n",
      "): No solution found :(\n",
      "\n",
      "\n",
      "SEARCH SPACE STATS:\n",
      "Total nodes generated          =   121225  (includes start)\n",
      "Nodes discarded by loop_check  =    21224  (100001 distinct states added to queue)\n",
      "Nodes tested (by goal_test)    =     9809  (all expanded)\n",
      "Nodes left in queue            =    90191\n",
      "\n",
      "Time taken = 21.8303 seconds\n",
      "\n",
      "Solve the following sliding blocks problem.\n",
      "Get from this initial state:\n"
     ]
    },
    {
     "data": {
      "image/png": "[encoded data removed]",
      "text/plain": [
       "<Figure size 410x410 with 1 Axes>"
      ]
     },
     "metadata": {},
     "output_type": "display_data"
    },
    {
     "name": "stdout",
     "output_type": "stream",
     "text": [
      "To a state incorporating the following block position(s):\n"
     ]
    },
    {
     "data": {
      "image/png": "[encoded data removed]",
      "text/plain": [
       "<Figure size 410x410 with 1 Axes>"
      ]
     },
     "metadata": {},
     "output_type": "display_data"
    },
    {
     "name": "stdout",
     "output_type": "stream",
     "text": [
      "\n",
      "** Running Brandon's Search Algorithm **\n",
      "Strategy: mode=DF, cost=None, heuristic=chebyshev_heuristic\n",
      "Max search nodes: 100000  (max number added to queue)\n",
      "Searching (will output '.' each 1000 goal_tests)\n",
      ".........\n",
      "!! Search node limit (100000) reached !!\n",
      "): No solution found :(\n",
      "\n",
      "\n",
      "SEARCH SPACE STATS:\n",
      "Total nodes generated          =   120803  (includes start)\n",
      "Nodes discarded by loop_check  =    20802  (100001 distinct states added to queue)\n",
      "Nodes tested (by goal_test)    =     9756  (all expanded)\n",
      "Nodes left in queue            =    90244\n",
      "\n",
      "Time taken = 44.4375 seconds\n",
      "\n",
      "Solve the following sliding blocks problem.\n",
      "Get from this initial state:\n"
     ]
    },
    {
     "data": {
      "image/png": "[encoded data removed]",
      "text/plain": [
       "<Figure size 410x410 with 1 Axes>"
      ]
     },
     "metadata": {},
     "output_type": "display_data"
    },
    {
     "name": "stdout",
     "output_type": "stream",
     "text": [
      "To a state incorporating the following block position(s):\n"
     ]
    },
    {
     "data": {
      "image/png": "[encoded data removed]",
      "text/plain": [
       "<Figure size 410x410 with 1 Axes>"
      ]
     },
     "metadata": {},
     "output_type": "display_data"
    },
    {
     "name": "stdout",
     "output_type": "stream",
     "text": [
      "\n",
      "** Running Brandon's Search Algorithm **\n",
      "Strategy: mode=DF, cost=cost, heuristic=manhatten_heuristic\n",
      "Max search nodes: 100000  (max number added to queue)\n",
      "Searching (will output '.' each 1000 goal_tests)\n",
      "........\n",
      ":-)) *SUCCESS* ((-:\n",
      "\n",
      "Path length = 11\n",
      "Goal state is:\n"
     ]
    },
    {
     "data": {
      "image/png": "[encoded data removed]",
      "text/plain": [
       "<Figure size 410x410 with 1 Axes>"
      ]
     },
     "metadata": {},
     "output_type": "display_data"
    },
    {
     "name": "stdout",
     "output_type": "stream",
     "text": [
      "Cost of reaching goal: 11\n",
      "\n",
      "SEARCH SPACE STATS:\n",
      "Total nodes generated          =   142596  (includes start)\n",
      "Nodes discarded by loop_check  =   109065  (33531 distinct states added to queue)\n",
      "Nodes tested (by goal_test)    =     8718  (8717 expanded + 1 goal)\n",
      "Nodes left in queue            =    24813\n",
      "\n",
      "Time taken = 23.7308 seconds\n",
      "\n",
      "Solve the following sliding blocks problem.\n",
      "Get from this initial state:\n"
     ]
    },
    {
     "data": {
      "image/png": "[encoded data removed]",
      "text/plain": [
       "<Figure size 410x410 with 1 Axes>"
      ]
     },
     "metadata": {},
     "output_type": "display_data"
    },
    {
     "name": "stdout",
     "output_type": "stream",
     "text": [
      "To a state incorporating the following block position(s):\n"
     ]
    },
    {
     "data": {
      "image/png": "[encoded data removed]",
      "text/plain": [
       "<Figure size 410x410 with 1 Axes>"
      ]
     },
     "metadata": {},
     "output_type": "display_data"
    },
    {
     "name": "stdout",
     "output_type": "stream",
     "text": [
      "\n",
      "** Running Brandon's Search Algorithm **\n",
      "Strategy: mode=DF, cost=cost, heuristic=euclidean_heuristic\n",
      "Max search nodes: 100000  (max number added to queue)\n",
      "Searching (will output '.' each 1000 goal_tests)\n",
      "...................................\n",
      "!! Search node limit (100000) reached !!\n",
      "): No solution found :(\n",
      "\n",
      "\n",
      "SEARCH SPACE STATS:\n",
      "Total nodes generated          =   570734  (includes start)\n",
      "Nodes discarded by loop_check  =   470733  (100001 distinct states added to queue)\n",
      "Nodes tested (by goal_test)    =    35513  (all expanded)\n",
      "Nodes left in queue            =    64487\n",
      "\n",
      "Time taken = 18.7546 seconds\n",
      "\n",
      "Solve the following sliding blocks problem.\n",
      "Get from this initial state:\n"
     ]
    },
    {
     "data": {
      "image/png": "[encoded data removed]",
      "text/plain": [
       "<Figure size 410x410 with 1 Axes>"
      ]
     },
     "metadata": {},
     "output_type": "display_data"
    },
    {
     "name": "stdout",
     "output_type": "stream",
     "text": [
      "To a state incorporating the following block position(s):\n"
     ]
    },
    {
     "data": {
      "image/png": "[encoded data removed]",
      "text/plain": [
       "<Figure size 410x410 with 1 Axes>"
      ]
     },
     "metadata": {},
     "output_type": "display_data"
    },
    {
     "name": "stdout",
     "output_type": "stream",
     "text": [
      "\n",
      "** Running Brandon's Search Algorithm **\n",
      "Strategy: mode=DF, cost=cost, heuristic=chebyshev_heuristic\n",
      "Max search nodes: 100000  (max number added to queue)\n",
      "Searching (will output '.' each 1000 goal_tests)\n",
      "...............................\n",
      "!! Search node limit (100000) reached !!\n",
      "): No solution found :(\n",
      "\n",
      "\n",
      "SEARCH SPACE STATS:\n",
      "Total nodes generated          =   516506  (includes start)\n",
      "Nodes discarded by loop_check  =   416505  (100001 distinct states added to queue)\n",
      "Nodes tested (by goal_test)    =    31717  (all expanded)\n",
      "Nodes left in queue            =    68283\n",
      "\n",
      "Time taken = 18.1965 seconds\n",
      "\n",
      "Solve the following sliding blocks problem.\n",
      "Get from this initial state:\n"
     ]
    },
    {
     "data": {
      "image/png": "[encoded data removed]",
      "text/plain": [
       "<Figure size 410x410 with 1 Axes>"
      ]
     },
     "metadata": {},
     "output_type": "display_data"
    },
    {
     "name": "stdout",
     "output_type": "stream",
     "text": [
      "To a state incorporating the following block position(s):\n"
     ]
    },
    {
     "data": {
      "image/png": "[encoded data removed]",
      "text/plain": [
       "<Figure size 410x410 with 1 Axes>"
      ]
     },
     "metadata": {},
     "output_type": "display_data"
    },
    {
     "name": "stdout",
     "output_type": "stream",
     "text": [
      "\n",
      "** Running Brandon's Search Algorithm **\n",
      "Strategy: mode=DF, cost=None, heuristic=None\n",
      "Max search nodes: 100000  (max number added to queue)\n",
      "Searching (will output '.' each 1000 goal_tests)\n",
      "..\n",
      ":-)) *SUCCESS* ((-:\n",
      "\n",
      "Path length = 2671\n",
      "Goal state is:\n"
     ]
    },
    {
     "data": {
      "image/png": "[encoded data removed]",
      "text/plain": [
       "<Figure size 410x410 with 1 Axes>"
      ]
     },
     "metadata": {},
     "output_type": "display_data"
    },
    {
     "name": "stdout",
     "output_type": "stream",
     "text": [
      "\n",
      "SEARCH SPACE STATS:\n",
      "Total nodes generated          =    37100  (includes start)\n",
      "Nodes discarded by loop_check  =     5421  (31679 distinct states added to queue)\n",
      "Nodes tested (by goal_test)    =     2672  (2671 expanded + 1 goal)\n",
      "Nodes left in queue            =    29007\n",
      "\n",
      "Time taken = 2.8432 seconds\n",
      "\n",
      "Solve the following sliding blocks problem.\n",
      "Get from this initial state:\n"
     ]
    },
    {
     "data": {
      "image/png": "[encoded data removed]",
      "text/plain": [
       "<Figure size 410x410 with 1 Axes>"
      ]
     },
     "metadata": {},
     "output_type": "display_data"
    },
    {
     "name": "stdout",
     "output_type": "stream",
     "text": [
      "To a state incorporating the following block position(s):\n"
     ]
    },
    {
     "data": {
      "image/png": "[encoded data removed]",
      "text/plain": [
       "<Figure size 410x410 with 1 Axes>"
      ]
     },
     "metadata": {},
     "output_type": "display_data"
    },
    {
     "name": "stdout",
     "output_type": "stream",
     "text": [
      "\n",
      "** Running Brandon's Search Algorithm **\n",
      "Strategy: mode=BF, cost=None, heuristic=None\n",
      "Max search nodes: 100000  (max number added to queue)\n",
      "Searching (will output '.' each 1000 goal_tests)\n",
      ".......................................\n",
      "!! Search node limit (100000) reached !!\n",
      "): No solution found :(\n",
      "\n",
      "\n",
      "SEARCH SPACE STATS:\n",
      "Total nodes generated          =   641391  (includes start)\n",
      "Nodes discarded by loop_check  =   541390  (100001 distinct states added to queue)\n",
      "Nodes tested (by goal_test)    =    39646  (all expanded)\n",
      "Nodes left in queue            =    60354\n",
      "\n",
      "Time taken = 20.4665 seconds\n",
      "\n",
      "Solve the following sliding blocks problem.\n",
      "Get from this initial state:\n"
     ]
    },
    {
     "data": {
      "image/png": "[encoded data removed]",
      "text/plain": [
       "<Figure size 410x410 with 1 Axes>"
      ]
     },
     "metadata": {},
     "output_type": "display_data"
    },
    {
     "name": "stdout",
     "output_type": "stream",
     "text": [
      "To a state incorporating the following block position(s):\n"
     ]
    },
    {
     "data": {
      "image/png": "[encoded data removed]",
      "text/plain": [
       "<Figure size 410x410 with 1 Axes>"
      ]
     },
     "metadata": {},
     "output_type": "display_data"
    },
    {
     "name": "stdout",
     "output_type": "stream",
     "text": [
      "\n",
      "** Running Brandon's Search Algorithm **\n",
      "Strategy: mode=DF, cost=None, heuristic=manhatten_heuristic\n",
      "Max search nodes: 100000  (max number added to queue)\n",
      "Searching (will output '.' each 1000 goal_tests)\n",
      "\n",
      ":-)) *SUCCESS* ((-:\n",
      "\n",
      "Path length = 46\n",
      "Goal state is:\n"
     ]
    },
    {
     "data": {
      "image/png": "[encoded data removed]",
      "text/plain": [
       "<Figure size 410x410 with 1 Axes>"
      ]
     },
     "metadata": {},
     "output_type": "display_data"
    },
    {
     "name": "stdout",
     "output_type": "stream",
     "text": [
      "\n",
      "SEARCH SPACE STATS:\n",
      "Total nodes generated          =      614  (includes start)\n",
      "Nodes discarded by loop_check  =       92  (522 distinct states added to queue)\n",
      "Nodes tested (by goal_test)    =       47  (46 expanded + 1 goal)\n",
      "Nodes left in queue            =      475\n",
      "\n",
      "Time taken = 0.0591 seconds\n",
      "\n",
      "Solve the following sliding blocks problem.\n",
      "Get from this initial state:\n"
     ]
    },
    {
     "data": {
      "image/png": "[encoded data removed]",
      "text/plain": [
       "<Figure size 410x410 with 1 Axes>"
      ]
     },
     "metadata": {},
     "output_type": "display_data"
    },
    {
     "name": "stdout",
     "output_type": "stream",
     "text": [
      "To a state incorporating the following block position(s):\n"
     ]
    },
    {
     "data": {
      "image/png": "[encoded data removed]",
      "text/plain": [
       "<Figure size 410x410 with 1 Axes>"
      ]
     },
     "metadata": {},
     "output_type": "display_data"
    },
    {
     "name": "stdout",
     "output_type": "stream",
     "text": [
      "\n",
      "** Running Brandon's Search Algorithm **\n",
      "Strategy: mode=DF, cost=None, heuristic=euclidean_heuristic\n",
      "Max search nodes: 100000  (max number added to queue)\n",
      "Searching (will output '.' each 1000 goal_tests)\n",
      ".........\n",
      "!! Search node limit (100000) reached !!\n",
      "): No solution found :(\n",
      "\n",
      "\n",
      "SEARCH SPACE STATS:\n",
      "Total nodes generated          =   121179  (includes start)\n",
      "Nodes discarded by loop_check  =    21178  (100001 distinct states added to queue)\n",
      "Nodes tested (by goal_test)    =     9779  (all expanded)\n",
      "Nodes left in queue            =    90221\n",
      "\n",
      "Time taken = 21.899 seconds\n",
      "\n",
      "Solve the following sliding blocks problem.\n",
      "Get from this initial state:\n"
     ]
    },
    {
     "data": {
      "image/png": "[encoded data removed]",
      "text/plain": [
       "<Figure size 410x410 with 1 Axes>"
      ]
     },
     "metadata": {},
     "output_type": "display_data"
    },
    {
     "name": "stdout",
     "output_type": "stream",
     "text": [
      "To a state incorporating the following block position(s):\n"
     ]
    },
    {
     "data": {
      "image/png": "[encoded data removed]",
      "text/plain": [
       "<Figure size 410x410 with 1 Axes>"
      ]
     },
     "metadata": {},
     "output_type": "display_data"
    },
    {
     "name": "stdout",
     "output_type": "stream",
     "text": [
      "\n",
      "** Running Brandon's Search Algorithm **\n",
      "Strategy: mode=DF, cost=None, heuristic=chebyshev_heuristic\n",
      "Max search nodes: 100000  (max number added to queue)\n",
      "Searching (will output '.' each 1000 goal_tests)\n",
      ".........\n",
      "!! Search node limit (100000) reached !!\n",
      "): No solution found :(\n",
      "\n",
      "\n",
      "SEARCH SPACE STATS:\n",
      "Total nodes generated          =   121228  (includes start)\n",
      "Nodes discarded by loop_check  =    21227  (100001 distinct states added to queue)\n",
      "Nodes tested (by goal_test)    =     9894  (all expanded)\n",
      "Nodes left in queue            =    90106\n",
      "\n",
      "Time taken = 54.1982 seconds\n",
      "\n",
      "Solve the following sliding blocks problem.\n",
      "Get from this initial state:\n"
     ]
    },
    {
     "data": {
      "image/png": "[encoded data removed]",
      "text/plain": [
       "<Figure size 410x410 with 1 Axes>"
      ]
     },
     "metadata": {},
     "output_type": "display_data"
    },
    {
     "name": "stdout",
     "output_type": "stream",
     "text": [
      "To a state incorporating the following block position(s):\n"
     ]
    },
    {
     "data": {
      "image/png": "[encoded data removed]",
      "text/plain": [
       "<Figure size 410x410 with 1 Axes>"
      ]
     },
     "metadata": {},
     "output_type": "display_data"
    },
    {
     "name": "stdout",
     "output_type": "stream",
     "text": [
      "\n",
      "** Running Brandon's Search Algorithm **\n",
      "Strategy: mode=DF, cost=cost, heuristic=manhatten_heuristic\n",
      "Max search nodes: 100000  (max number added to queue)\n",
      "Searching (will output '.' each 1000 goal_tests)\n",
      "........\n",
      ":-)) *SUCCESS* ((-:\n",
      "\n",
      "Path length = 11\n",
      "Goal state is:\n"
     ]
    },
    {
     "data": {
      "image/png": "[encoded data removed]",
      "text/plain": [
       "<Figure size 410x410 with 1 Axes>"
      ]
     },
     "metadata": {},
     "output_type": "display_data"
    },
    {
     "name": "stdout",
     "output_type": "stream",
     "text": [
      "Cost of reaching goal: 11\n",
      "\n",
      "SEARCH SPACE STATS:\n",
      "Total nodes generated          =   135673  (includes start)\n",
      "Nodes discarded by loop_check  =   103223  (32450 distinct states added to queue)\n",
      "Nodes tested (by goal_test)    =     8309  (8308 expanded + 1 goal)\n",
      "Nodes left in queue            =    24141\n",
      "\n",
      "Time taken = 25.1462 seconds\n",
      "\n",
      "Solve the following sliding blocks problem.\n",
      "Get from this initial state:\n"
     ]
    },
    {
     "data": {
      "image/png": "[encoded data removed]",
      "text/plain": [
       "<Figure size 410x410 with 1 Axes>"
      ]
     },
     "metadata": {},
     "output_type": "display_data"
    },
    {
     "name": "stdout",
     "output_type": "stream",
     "text": [
      "To a state incorporating the following block position(s):\n"
     ]
    },
    {
     "data": {
      "image/png": "[encoded data removed]",
      "text/plain": [
       "<Figure size 410x410 with 1 Axes>"
      ]
     },
     "metadata": {},
     "output_type": "display_data"
    },
    {
     "name": "stdout",
     "output_type": "stream",
     "text": [
      "\n",
      "** Running Brandon's Search Algorithm **\n",
      "Strategy: mode=DF, cost=cost, heuristic=euclidean_heuristic\n",
      "Max search nodes: 100000  (max number added to queue)\n",
      "Searching (will output '.' each 1000 goal_tests)\n",
      "...................................\n",
      "!! Search node limit (100000) reached !!\n",
      "): No solution found :(\n",
      "\n",
      "\n",
      "SEARCH SPACE STATS:\n",
      "Total nodes generated          =   571308  (includes start)\n",
      "Nodes discarded by loop_check  =   471307  (100001 distinct states added to queue)\n",
      "Nodes tested (by goal_test)    =    35560  (all expanded)\n",
      "Nodes left in queue            =    64440\n",
      "\n",
      "Time taken = 19.0506 seconds\n",
      "\n",
      "Solve the following sliding blocks problem.\n",
      "Get from this initial state:\n"
     ]
    },
    {
     "data": {
      "image/png": "[encoded data removed]",
      "text/plain": [
       "<Figure size 410x410 with 1 Axes>"
      ]
     },
     "metadata": {},
     "output_type": "display_data"
    },
    {
     "name": "stdout",
     "output_type": "stream",
     "text": [
      "To a state incorporating the following block position(s):\n"
     ]
    },
    {
     "data": {
      "image/png": "[encoded data removed]",
      "text/plain": [
       "<Figure size 410x410 with 1 Axes>"
      ]
     },
     "metadata": {},
     "output_type": "display_data"
    },
    {
     "name": "stdout",
     "output_type": "stream",
     "text": [
      "\n",
      "** Running Brandon's Search Algorithm **\n",
      "Strategy: mode=DF, cost=cost, heuristic=chebyshev_heuristic\n",
      "Max search nodes: 100000  (max number added to queue)\n",
      "Searching (will output '.' each 1000 goal_tests)\n",
      "................................\n",
      "!! Search node limit (100000) reached !!\n",
      "): No solution found :(\n",
      "\n",
      "\n",
      "SEARCH SPACE STATS:\n",
      "Total nodes generated          =   527884  (includes start)\n",
      "Nodes discarded by loop_check  =   427883  (100001 distinct states added to queue)\n",
      "Nodes tested (by goal_test)    =    32469  (all expanded)\n",
      "Nodes left in queue            =    67531\n",
      "\n",
      "Time taken = 18.1964 seconds\n",
      "\n",
      "Solve the following sliding blocks problem.\n",
      "Get from this initial state:\n"
     ]
    },
    {
     "data": {
      "image/png": "[encoded data removed]",
      "text/plain": [
       "<Figure size 410x410 with 1 Axes>"
      ]
     },
     "metadata": {},
     "output_type": "display_data"
    },
    {
     "name": "stdout",
     "output_type": "stream",
     "text": [
      "To a state incorporating the following block position(s):\n"
     ]
    },
    {
     "data": {
      "image/png": "[encoded data removed]",
      "text/plain": [
       "<Figure size 410x410 with 1 Axes>"
      ]
     },
     "metadata": {},
     "output_type": "display_data"
    },
    {
     "name": "stdout",
     "output_type": "stream",
     "text": [
      "\n",
      "** Running Brandon's Search Algorithm **\n",
      "Strategy: mode=DF, cost=None, heuristic=None\n",
      "Max search nodes: 100000  (max number added to queue)\n",
      "Searching (will output '.' each 1000 goal_tests)\n",
      "\n",
      ":-)) *SUCCESS* ((-:\n",
      "\n",
      "Path length = 440\n",
      "Goal state is:\n"
     ]
    },
    {
     "data": {
      "image/png": "[encoded data removed]",
      "text/plain": [
       "<Figure size 410x410 with 1 Axes>"
      ]
     },
     "metadata": {},
     "output_type": "display_data"
    },
    {
     "name": "stdout",
     "output_type": "stream",
     "text": [
      "\n",
      "SEARCH SPACE STATS:\n",
      "Total nodes generated          =     6278  (includes start)\n",
      "Nodes discarded by loop_check  =      913  (5365 distinct states added to queue)\n",
      "Nodes tested (by goal_test)    =      441  (440 expanded + 1 goal)\n",
      "Nodes left in queue            =     4924\n",
      "\n",
      "Time taken = 0.2552 seconds\n",
      "\n",
      "Solve the following sliding blocks problem.\n",
      "Get from this initial state:\n"
     ]
    },
    {
     "data": {
      "image/png": "[encoded data removed]",
      "text/plain": [
       "<Figure size 410x410 with 1 Axes>"
      ]
     },
     "metadata": {},
     "output_type": "display_data"
    },
    {
     "name": "stdout",
     "output_type": "stream",
     "text": [
      "To a state incorporating the following block position(s):\n"
     ]
    },
    {
     "data": {
      "image/png": "[encoded data removed]",
      "text/plain": [
       "<Figure size 410x410 with 1 Axes>"
      ]
     },
     "metadata": {},
     "output_type": "display_data"
    },
    {
     "name": "stdout",
     "output_type": "stream",
     "text": [
      "\n",
      "** Running Brandon's Search Algorithm **\n",
      "Strategy: mode=BF, cost=None, heuristic=None\n",
      "Max search nodes: 100000  (max number added to queue)\n",
      "Searching (will output '.' each 1000 goal_tests)\n",
      ".......................................\n",
      "!! Search node limit (100000) reached !!\n",
      "): No solution found :(\n",
      "\n",
      "\n",
      "SEARCH SPACE STATS:\n",
      "Total nodes generated          =   642536  (includes start)\n",
      "Nodes discarded by loop_check  =   542535  (100001 distinct states added to queue)\n",
      "Nodes tested (by goal_test)    =    39648  (all expanded)\n",
      "Nodes left in queue            =    60352\n",
      "\n",
      "Time taken = 20.6822 seconds\n",
      "\n",
      "Solve the following sliding blocks problem.\n",
      "Get from this initial state:\n"
     ]
    },
    {
     "data": {
      "image/png": "[encoded data removed]",
      "text/plain": [
       "<Figure size 410x410 with 1 Axes>"
      ]
     },
     "metadata": {},
     "output_type": "display_data"
    },
    {
     "name": "stdout",
     "output_type": "stream",
     "text": [
      "To a state incorporating the following block position(s):\n"
     ]
    },
    {
     "data": {
      "image/png": "[encoded data removed]",
      "text/plain": [
       "<Figure size 410x410 with 1 Axes>"
      ]
     },
     "metadata": {},
     "output_type": "display_data"
    },
    {
     "name": "stdout",
     "output_type": "stream",
     "text": [
      "\n",
      "** Running Brandon's Search Algorithm **\n",
      "Strategy: mode=DF, cost=None, heuristic=manhatten_heuristic\n",
      "Max search nodes: 100000  (max number added to queue)\n",
      "Searching (will output '.' each 1000 goal_tests)\n",
      "\n",
      ":-)) *SUCCESS* ((-:\n",
      "\n",
      "Path length = 276\n",
      "Goal state is:\n"
     ]
    },
    {
     "data": {
      "image/png": "[encoded data removed]",
      "text/plain": [
       "<Figure size 410x410 with 1 Axes>"
      ]
     },
     "metadata": {},
     "output_type": "display_data"
    },
    {
     "name": "stdout",
     "output_type": "stream",
     "text": [
      "\n",
      "SEARCH SPACE STATS:\n",
      "Total nodes generated          =     3756  (includes start)\n",
      "Nodes discarded by loop_check  =      573  (3183 distinct states added to queue)\n",
      "Nodes tested (by goal_test)    =      277  (276 expanded + 1 goal)\n",
      "Nodes left in queue            =     2906\n",
      "\n",
      "Time taken = 0.1673 seconds\n",
      "\n",
      "Solve the following sliding blocks problem.\n",
      "Get from this initial state:\n"
     ]
    },
    {
     "data": {
      "image/png": "[encoded data removed]",
      "text/plain": [
       "<Figure size 410x410 with 1 Axes>"
      ]
     },
     "metadata": {},
     "output_type": "display_data"
    },
    {
     "name": "stdout",
     "output_type": "stream",
     "text": [
      "To a state incorporating the following block position(s):\n"
     ]
    },
    {
     "data": {
      "image/png": "[encoded data removed]",
      "text/plain": [
       "<Figure size 410x410 with 1 Axes>"
      ]
     },
     "metadata": {},
     "output_type": "display_data"
    },
    {
     "name": "stdout",
     "output_type": "stream",
     "text": [
      "\n",
      "** Running Brandon's Search Algorithm **\n",
      "Strategy: mode=DF, cost=None, heuristic=euclidean_heuristic\n",
      "Max search nodes: 100000  (max number added to queue)\n",
      "Searching (will output '.' each 1000 goal_tests)\n",
      ".........\n",
      "!! Search node limit (100000) reached !!\n",
      "): No solution found :(\n",
      "\n",
      "\n",
      "SEARCH SPACE STATS:\n",
      "Total nodes generated          =   121156  (includes start)\n",
      "Nodes discarded by loop_check  =    21155  (100001 distinct states added to queue)\n",
      "Nodes tested (by goal_test)    =     9898  (all expanded)\n",
      "Nodes left in queue            =    90102\n",
      "\n",
      "Time taken = 20.4172 seconds\n",
      "\n",
      "Solve the following sliding blocks problem.\n",
      "Get from this initial state:\n"
     ]
    },
    {
     "data": {
      "image/png": "[encoded data removed]",
      "text/plain": [
       "<Figure size 410x410 with 1 Axes>"
      ]
     },
     "metadata": {},
     "output_type": "display_data"
    },
    {
     "name": "stdout",
     "output_type": "stream",
     "text": [
      "To a state incorporating the following block position(s):\n"
     ]
    },
    {
     "data": {
      "image/png": "[encoded data removed]",
      "text/plain": [
       "<Figure size 410x410 with 1 Axes>"
      ]
     },
     "metadata": {},
     "output_type": "display_data"
    },
    {
     "name": "stdout",
     "output_type": "stream",
     "text": [
      "\n",
      "** Running Brandon's Search Algorithm **\n",
      "Strategy: mode=DF, cost=None, heuristic=chebyshev_heuristic\n",
      "Max search nodes: 100000  (max number added to queue)\n",
      "Searching (will output '.' each 1000 goal_tests)\n",
      ".........\n",
      "!! Search node limit (100000) reached !!\n",
      "): No solution found :(\n",
      "\n",
      "\n",
      "SEARCH SPACE STATS:\n",
      "Total nodes generated          =   120940  (includes start)\n",
      "Nodes discarded by loop_check  =    20939  (100001 distinct states added to queue)\n",
      "Nodes tested (by goal_test)    =     9853  (all expanded)\n",
      "Nodes left in queue            =    90147\n",
      "\n",
      "Time taken = 40.1979 seconds\n",
      "\n",
      "Solve the following sliding blocks problem.\n",
      "Get from this initial state:\n"
     ]
    },
    {
     "data": {
      "image/png": "[encoded data removed]",
      "text/plain": [
       "<Figure size 410x410 with 1 Axes>"
      ]
     },
     "metadata": {},
     "output_type": "display_data"
    },
    {
     "name": "stdout",
     "output_type": "stream",
     "text": [
      "To a state incorporating the following block position(s):\n"
     ]
    },
    {
     "data": {
      "image/png": "[encoded data removed]",
      "text/plain": [
       "<Figure size 410x410 with 1 Axes>"
      ]
     },
     "metadata": {},
     "output_type": "display_data"
    },
    {
     "name": "stdout",
     "output_type": "stream",
     "text": [
      "\n",
      "** Running Brandon's Search Algorithm **\n",
      "Strategy: mode=DF, cost=cost, heuristic=manhatten_heuristic\n",
      "Max search nodes: 100000  (max number added to queue)\n",
      "Searching (will output '.' each 1000 goal_tests)\n",
      "..............\n",
      ":-)) *SUCCESS* ((-:\n",
      "\n",
      "Path length = 11\n",
      "Goal state is:\n"
     ]
    },
    {
     "data": {
      "image/png": "[encoded data removed]",
      "text/plain": [
       "<Figure size 410x410 with 1 Axes>"
      ]
     },
     "metadata": {},
     "output_type": "display_data"
    },
    {
     "name": "stdout",
     "output_type": "stream",
     "text": [
      "Cost of reaching goal: 11\n",
      "\n",
      "SEARCH SPACE STATS:\n",
      "Total nodes generated          =   241400  (includes start)\n",
      "Nodes discarded by loop_check  =   192637  (48763 distinct states added to queue)\n",
      "Nodes tested (by goal_test)    =    14969  (14968 expanded + 1 goal)\n",
      "Nodes left in queue            =    33794\n",
      "\n",
      "Time taken = 26.3414 seconds\n",
      "\n",
      "Solve the following sliding blocks problem.\n",
      "Get from this initial state:\n"
     ]
    },
    {
     "data": {
      "image/png": "[encoded data removed]",
      "text/plain": [
       "<Figure size 410x410 with 1 Axes>"
      ]
     },
     "metadata": {},
     "output_type": "display_data"
    },
    {
     "name": "stdout",
     "output_type": "stream",
     "text": [
      "To a state incorporating the following block position(s):\n"
     ]
    },
    {
     "data": {
      "image/png": "[encoded data removed]",
      "text/plain": [
       "<Figure size 410x410 with 1 Axes>"
      ]
     },
     "metadata": {},
     "output_type": "display_data"
    },
    {
     "name": "stdout",
     "output_type": "stream",
     "text": [
      "\n",
      "** Running Brandon's Search Algorithm **\n",
      "Strategy: mode=DF, cost=cost, heuristic=euclidean_heuristic\n",
      "Max search nodes: 100000  (max number added to queue)\n",
      "Searching (will output '.' each 1000 goal_tests)\n",
      "...................................\n",
      "!! Search node limit (100000) reached !!\n",
      "): No solution found :(\n",
      "\n",
      "\n",
      "SEARCH SPACE STATS:\n",
      "Total nodes generated          =   570396  (includes start)\n",
      "Nodes discarded by loop_check  =   470395  (100001 distinct states added to queue)\n",
      "Nodes tested (by goal_test)    =    35504  (all expanded)\n",
      "Nodes left in queue            =    64496\n",
      "\n",
      "Time taken = 18.5124 seconds\n",
      "\n",
      "Solve the following sliding blocks problem.\n",
      "Get from this initial state:\n"
     ]
    },
    {
     "data": {
      "image/png": "[encoded data removed]",
      "text/plain": [
       "<Figure size 410x410 with 1 Axes>"
      ]
     },
     "metadata": {},
     "output_type": "display_data"
    },
    {
     "name": "stdout",
     "output_type": "stream",
     "text": [
      "To a state incorporating the following block position(s):\n"
     ]
    },
    {
     "data": {
      "image/png": "[encoded data removed]",
      "text/plain": [
       "<Figure size 410x410 with 1 Axes>"
      ]
     },
     "metadata": {},
     "output_type": "display_data"
    },
    {
     "name": "stdout",
     "output_type": "stream",
     "text": [
      "\n",
      "** Running Brandon's Search Algorithm **\n",
      "Strategy: mode=DF, cost=cost, heuristic=chebyshev_heuristic\n",
      "Max search nodes: 100000  (max number added to queue)\n",
      "Searching (will output '.' each 1000 goal_tests)\n",
      "................................\n",
      "!! Search node limit (100000) reached !!\n",
      "): No solution found :(\n",
      "\n",
      "\n",
      "SEARCH SPACE STATS:\n",
      "Total nodes generated          =   530161  (includes start)\n",
      "Nodes discarded by loop_check  =   430160  (100001 distinct states added to queue)\n",
      "Nodes tested (by goal_test)    =    32420  (all expanded)\n",
      "Nodes left in queue            =    67580\n",
      "\n",
      "Time taken = 17.8684 seconds\n",
      "\n",
      "Solve the following sliding blocks problem.\n",
      "Get from this initial state:\n"
     ]
    },
    {
     "data": {
      "image/png": "[encoded data removed]",
      "text/plain": [
       "<Figure size 410x410 with 1 Axes>"
      ]
     },
     "metadata": {},
     "output_type": "display_data"
    },
    {
     "name": "stdout",
     "output_type": "stream",
     "text": [
      "To a state incorporating the following block position(s):\n"
     ]
    },
    {
     "data": {
      "image/png": "[encoded data removed]",
      "text/plain": [
       "<Figure size 410x410 with 1 Axes>"
      ]
     },
     "metadata": {},
     "output_type": "display_data"
    },
    {
     "name": "stdout",
     "output_type": "stream",
     "text": [
      "\n",
      "** Running Brandon's Search Algorithm **\n",
      "Strategy: mode=DF, cost=None, heuristic=None\n",
      "Max search nodes: 100000  (max number added to queue)\n",
      "Searching (will output '.' each 1000 goal_tests)\n",
      "..\n",
      ":-)) *SUCCESS* ((-:\n",
      "\n",
      "Path length = 2131\n",
      "Goal state is:\n"
     ]
    },
    {
     "data": {
      "image/png": "[encoded data removed]",
      "text/plain": [
       "<Figure size 410x410 with 1 Axes>"
      ]
     },
     "metadata": {},
     "output_type": "display_data"
    },
    {
     "name": "stdout",
     "output_type": "stream",
     "text": [
      "\n",
      "SEARCH SPACE STATS:\n",
      "Total nodes generated          =    29587  (includes start)\n",
      "Nodes discarded by loop_check  =     4336  (25251 distinct states added to queue)\n",
      "Nodes tested (by goal_test)    =     2132  (2131 expanded + 1 goal)\n",
      "Nodes left in queue            =    23119\n",
      "\n",
      "Time taken = 2.4762 seconds\n",
      "\n",
      "Solve the following sliding blocks problem.\n",
      "Get from this initial state:\n"
     ]
    },
    {
     "data": {
      "image/png": "[encoded data removed]",
      "text/plain": [
       "<Figure size 410x410 with 1 Axes>"
      ]
     },
     "metadata": {},
     "output_type": "display_data"
    },
    {
     "name": "stdout",
     "output_type": "stream",
     "text": [
      "To a state incorporating the following block position(s):\n"
     ]
    },
    {
     "data": {
      "image/png": "[encoded data removed]",
      "text/plain": [
       "<Figure size 410x410 with 1 Axes>"
      ]
     },
     "metadata": {},
     "output_type": "display_data"
    },
    {
     "name": "stdout",
     "output_type": "stream",
     "text": [
      "\n",
      "** Running Brandon's Search Algorithm **\n",
      "Strategy: mode=BF, cost=None, heuristic=None\n",
      "Max search nodes: 100000  (max number added to queue)\n",
      "Searching (will output '.' each 1000 goal_tests)\n",
      ".......................................\n",
      "!! Search node limit (100000) reached !!\n",
      "): No solution found :(\n",
      "\n",
      "\n",
      "SEARCH SPACE STATS:\n",
      "Total nodes generated          =   641952  (includes start)\n",
      "Nodes discarded by loop_check  =   541951  (100001 distinct states added to queue)\n",
      "Nodes tested (by goal_test)    =    39670  (all expanded)\n",
      "Nodes left in queue            =    60330\n",
      "\n",
      "Time taken = 20.5097 seconds\n",
      "\n",
      "Solve the following sliding blocks problem.\n",
      "Get from this initial state:\n"
     ]
    },
    {
     "data": {
      "image/png": "[encoded data removed]",
      "text/plain": [
       "<Figure size 410x410 with 1 Axes>"
      ]
     },
     "metadata": {},
     "output_type": "display_data"
    },
    {
     "name": "stdout",
     "output_type": "stream",
     "text": [
      "To a state incorporating the following block position(s):\n"
     ]
    },
    {
     "data": {
      "image/png": "[encoded data removed]",
      "text/plain": [
       "<Figure size 410x410 with 1 Axes>"
      ]
     },
     "metadata": {},
     "output_type": "display_data"
    },
    {
     "name": "stdout",
     "output_type": "stream",
     "text": [
      "\n",
      "** Running Brandon's Search Algorithm **\n",
      "Strategy: mode=DF, cost=None, heuristic=manhatten_heuristic\n",
      "Max search nodes: 100000  (max number added to queue)\n",
      "Searching (will output '.' each 1000 goal_tests)\n",
      ".........\n",
      "!! Search node limit (100000) reached !!\n",
      "): No solution found :(\n",
      "\n",
      "\n",
      "SEARCH SPACE STATS:\n",
      "Total nodes generated          =   120943  (includes start)\n",
      "Nodes discarded by loop_check  =    20942  (100001 distinct states added to queue)\n",
      "Nodes tested (by goal_test)    =     9739  (all expanded)\n",
      "Nodes left in queue            =    90261\n",
      "\n",
      "Time taken = 20.0697 seconds\n",
      "\n",
      "Solve the following sliding blocks problem.\n",
      "Get from this initial state:\n"
     ]
    },
    {
     "data": {
      "image/png": "[encoded data removed]",
      "text/plain": [
       "<Figure size 410x410 with 1 Axes>"
      ]
     },
     "metadata": {},
     "output_type": "display_data"
    },
    {
     "name": "stdout",
     "output_type": "stream",
     "text": [
      "To a state incorporating the following block position(s):\n"
     ]
    },
    {
     "data": {
      "image/png": "[encoded data removed]",
      "text/plain": [
       "<Figure size 410x410 with 1 Axes>"
      ]
     },
     "metadata": {},
     "output_type": "display_data"
    },
    {
     "name": "stdout",
     "output_type": "stream",
     "text": [
      "\n",
      "** Running Brandon's Search Algorithm **\n",
      "Strategy: mode=DF, cost=None, heuristic=euclidean_heuristic\n",
      "Max search nodes: 100000  (max number added to queue)\n",
      "Searching (will output '.' each 1000 goal_tests)\n",
      ".........\n",
      "!! Search node limit (100000) reached !!\n",
      "): No solution found :(\n",
      "\n",
      "\n",
      "SEARCH SPACE STATS:\n",
      "Total nodes generated          =   120981  (includes start)\n",
      "Nodes discarded by loop_check  =    20980  (100001 distinct states added to queue)\n",
      "Nodes tested (by goal_test)    =     9789  (all expanded)\n",
      "Nodes left in queue            =    90211\n",
      "\n",
      "Time taken = 38.2263 seconds\n",
      "\n",
      "Solve the following sliding blocks problem.\n",
      "Get from this initial state:\n"
     ]
    },
    {
     "data": {
      "image/png": "[encoded data removed]",
      "text/plain": [
       "<Figure size 410x410 with 1 Axes>"
      ]
     },
     "metadata": {},
     "output_type": "display_data"
    },
    {
     "name": "stdout",
     "output_type": "stream",
     "text": [
      "To a state incorporating the following block position(s):\n"
     ]
    },
    {
     "data": {
      "image/png": "[encoded data removed]",
      "text/plain": [
       "<Figure size 410x410 with 1 Axes>"
      ]
     },
     "metadata": {},
     "output_type": "display_data"
    },
    {
     "name": "stdout",
     "output_type": "stream",
     "text": [
      "\n",
      "** Running Brandon's Search Algorithm **\n",
      "Strategy: mode=DF, cost=None, heuristic=chebyshev_heuristic\n",
      "Max search nodes: 100000  (max number added to queue)\n",
      "Searching (will output '.' each 1000 goal_tests)\n",
      ".........\n",
      "!! Search node limit (100000) reached !!\n",
      "): No solution found :(\n",
      "\n",
      "\n",
      "SEARCH SPACE STATS:\n",
      "Total nodes generated          =   120747  (includes start)\n",
      "Nodes discarded by loop_check  =    20746  (100001 distinct states added to queue)\n",
      "Nodes tested (by goal_test)    =     9734  (all expanded)\n",
      "Nodes left in queue            =    90266\n",
      "\n",
      "Time taken = 39.0672 seconds\n",
      "\n",
      "Solve the following sliding blocks problem.\n",
      "Get from this initial state:\n"
     ]
    },
    {
     "data": {
      "image/png": "[encoded data removed]",
      "text/plain": [
       "<Figure size 410x410 with 1 Axes>"
      ]
     },
     "metadata": {},
     "output_type": "display_data"
    },
    {
     "name": "stdout",
     "output_type": "stream",
     "text": [
      "To a state incorporating the following block position(s):\n"
     ]
    },
    {
     "data": {
      "image/png": "[encoded data removed]",
      "text/plain": [
       "<Figure size 410x410 with 1 Axes>"
      ]
     },
     "metadata": {},
     "output_type": "display_data"
    },
    {
     "name": "stdout",
     "output_type": "stream",
     "text": [
      "\n",
      "** Running Brandon's Search Algorithm **\n",
      "Strategy: mode=DF, cost=cost, heuristic=manhatten_heuristic\n",
      "Max search nodes: 100000  (max number added to queue)\n",
      "Searching (will output '.' each 1000 goal_tests)\n",
      "................\n",
      ":-)) *SUCCESS* ((-:\n",
      "\n",
      "Path length = 11\n",
      "Goal state is:\n"
     ]
    },
    {
     "data": {
      "image/png": "[encoded data removed]",
      "text/plain": [
       "<Figure size 410x410 with 1 Axes>"
      ]
     },
     "metadata": {},
     "output_type": "display_data"
    },
    {
     "name": "stdout",
     "output_type": "stream",
     "text": [
      "Cost of reaching goal: 11\n",
      "\n",
      "SEARCH SPACE STATS:\n",
      "Total nodes generated          =   260291  (includes start)\n",
      "Nodes discarded by loop_check  =   208488  (51803 distinct states added to queue)\n",
      "Nodes tested (by goal_test)    =    16216  (16215 expanded + 1 goal)\n",
      "Nodes left in queue            =    35587\n",
      "\n",
      "Time taken = 27.1327 seconds\n",
      "\n",
      "Solve the following sliding blocks problem.\n",
      "Get from this initial state:\n"
     ]
    },
    {
     "data": {
      "image/png": "[encoded data removed]",
      "text/plain": [
       "<Figure size 410x410 with 1 Axes>"
      ]
     },
     "metadata": {},
     "output_type": "display_data"
    },
    {
     "name": "stdout",
     "output_type": "stream",
     "text": [
      "To a state incorporating the following block position(s):\n"
     ]
    },
    {
     "data": {
      "image/png": "[encoded data removed]",
      "text/plain": [
       "<Figure size 410x410 with 1 Axes>"
      ]
     },
     "metadata": {},
     "output_type": "display_data"
    },
    {
     "name": "stdout",
     "output_type": "stream",
     "text": [
      "\n",
      "** Running Brandon's Search Algorithm **\n",
      "Strategy: mode=DF, cost=cost, heuristic=euclidean_heuristic\n",
      "Max search nodes: 100000  (max number added to queue)\n",
      "Searching (will output '.' each 1000 goal_tests)\n",
      "...................................\n",
      "!! Search node limit (100000) reached !!\n",
      "): No solution found :(\n",
      "\n",
      "\n",
      "SEARCH SPACE STATS:\n",
      "Total nodes generated          =   570152  (includes start)\n",
      "Nodes discarded by loop_check  =   470151  (100001 distinct states added to queue)\n",
      "Nodes tested (by goal_test)    =    35486  (all expanded)\n",
      "Nodes left in queue            =    64514\n",
      "\n",
      "Time taken = 19.0942 seconds\n",
      "\n",
      "Solve the following sliding blocks problem.\n",
      "Get from this initial state:\n"
     ]
    },
    {
     "data": {
      "image/png": "[encoded data removed]",
      "text/plain": [
       "<Figure size 410x410 with 1 Axes>"
      ]
     },
     "metadata": {},
     "output_type": "display_data"
    },
    {
     "name": "stdout",
     "output_type": "stream",
     "text": [
      "To a state incorporating the following block position(s):\n"
     ]
    },
    {
     "data": {
      "image/png": "[encoded data removed]",
      "text/plain": [
       "<Figure size 410x410 with 1 Axes>"
      ]
     },
     "metadata": {},
     "output_type": "display_data"
    },
    {
     "name": "stdout",
     "output_type": "stream",
     "text": [
      "\n",
      "** Running Brandon's Search Algorithm **\n",
      "Strategy: mode=DF, cost=cost, heuristic=chebyshev_heuristic\n",
      "Max search nodes: 100000  (max number added to queue)\n",
      "Searching (will output '.' each 1000 goal_tests)\n",
      "...............................\n",
      "!! Search node limit (100000) reached !!\n",
      "): No solution found :(\n",
      "\n",
      "\n",
      "SEARCH SPACE STATS:\n",
      "Total nodes generated          =   519764  (includes start)\n",
      "Nodes discarded by loop_check  =   419763  (100001 distinct states added to queue)\n",
      "Nodes tested (by goal_test)    =    31957  (all expanded)\n",
      "Nodes left in queue            =    68043\n",
      "\n",
      "Time taken = 18.6386 seconds\n",
      "\n",
      "Solve the following sliding blocks problem.\n",
      "Get from this initial state:\n"
     ]
    },
    {
     "data": {
      "image/png": "[encoded data removed]",
      "text/plain": [
       "<Figure size 410x410 with 1 Axes>"
      ]
     },
     "metadata": {},
     "output_type": "display_data"
    },
    {
     "name": "stdout",
     "output_type": "stream",
     "text": [
      "To a state incorporating the following block position(s):\n"
     ]
    },
    {
     "data": {
      "image/png": "[encoded data removed]",
      "text/plain": [
       "<Figure size 410x410 with 1 Axes>"
      ]
     },
     "metadata": {},
     "output_type": "display_data"
    },
    {
     "name": "stdout",
     "output_type": "stream",
     "text": [
      "\n",
      "** Running Brandon's Search Algorithm **\n",
      "Strategy: mode=DF, cost=None, heuristic=None\n",
      "Max search nodes: 100000  (max number added to queue)\n",
      "Searching (will output '.' each 1000 goal_tests)\n",
      ".\n",
      ":-)) *SUCCESS* ((-:\n",
      "\n",
      "Path length = 1177\n",
      "Goal state is:\n"
     ]
    },
    {
     "data": {
      "image/png": "[encoded data removed]",
      "text/plain": [
       "<Figure size 410x410 with 1 Axes>"
      ]
     },
     "metadata": {},
     "output_type": "display_data"
    },
    {
     "name": "stdout",
     "output_type": "stream",
     "text": [
      "\n",
      "SEARCH SPACE STATS:\n",
      "Total nodes generated          =    16651  (includes start)\n",
      "Nodes discarded by loop_check  =     2375  (14276 distinct states added to queue)\n",
      "Nodes tested (by goal_test)    =     1178  (1177 expanded + 1 goal)\n",
      "Nodes left in queue            =    13098\n",
      "\n",
      "Time taken = 0.649 seconds\n",
      "\n",
      "Solve the following sliding blocks problem.\n",
      "Get from this initial state:\n"
     ]
    },
    {
     "data": {
      "image/png": "[encoded data removed]",
      "text/plain": [
       "<Figure size 410x410 with 1 Axes>"
      ]
     },
     "metadata": {},
     "output_type": "display_data"
    },
    {
     "name": "stdout",
     "output_type": "stream",
     "text": [
      "To a state incorporating the following block position(s):\n"
     ]
    },
    {
     "data": {
      "image/png": "[encoded data removed]",
      "text/plain": [
       "<Figure size 410x410 with 1 Axes>"
      ]
     },
     "metadata": {},
     "output_type": "display_data"
    },
    {
     "name": "stdout",
     "output_type": "stream",
     "text": [
      "\n",
      "** Running Brandon's Search Algorithm **\n",
      "Strategy: mode=BF, cost=None, heuristic=None\n",
      "Max search nodes: 100000  (max number added to queue)\n",
      "Searching (will output '.' each 1000 goal_tests)\n",
      ".......................................\n",
      "!! Search node limit (100000) reached !!\n",
      "): No solution found :(\n",
      "\n",
      "\n",
      "SEARCH SPACE STATS:\n",
      "Total nodes generated          =   642671  (includes start)\n",
      "Nodes discarded by loop_check  =   542670  (100001 distinct states added to queue)\n",
      "Nodes tested (by goal_test)    =    39677  (all expanded)\n",
      "Nodes left in queue            =    60323\n",
      "\n",
      "Time taken = 20.7786 seconds\n",
      "\n",
      "Solve the following sliding blocks problem.\n",
      "Get from this initial state:\n"
     ]
    },
    {
     "data": {
      "image/png": "[encoded data removed]",
      "text/plain": [
       "<Figure size 410x410 with 1 Axes>"
      ]
     },
     "metadata": {},
     "output_type": "display_data"
    },
    {
     "name": "stdout",
     "output_type": "stream",
     "text": [
      "To a state incorporating the following block position(s):\n"
     ]
    },
    {
     "data": {
      "image/png": "[encoded data removed]",
      "text/plain": [
       "<Figure size 410x410 with 1 Axes>"
      ]
     },
     "metadata": {},
     "output_type": "display_data"
    },
    {
     "name": "stdout",
     "output_type": "stream",
     "text": [
      "\n",
      "** Running Brandon's Search Algorithm **\n",
      "Strategy: mode=DF, cost=None, heuristic=manhatten_heuristic\n",
      "Max search nodes: 100000  (max number added to queue)\n",
      "Searching (will output '.' each 1000 goal_tests)\n",
      "\n",
      ":-)) *SUCCESS* ((-:\n",
      "\n",
      "Path length = 35\n",
      "Goal state is:\n"
     ]
    },
    {
     "data": {
      "image/png": "[encoded data removed]",
      "text/plain": [
       "<Figure size 410x410 with 1 Axes>"
      ]
     },
     "metadata": {},
     "output_type": "display_data"
    },
    {
     "name": "stdout",
     "output_type": "stream",
     "text": [
      "\n",
      "SEARCH SPACE STATS:\n",
      "Total nodes generated          =      551  (includes start)\n",
      "Nodes discarded by loop_check  =       69  (482 distinct states added to queue)\n",
      "Nodes tested (by goal_test)    =       36  (35 expanded + 1 goal)\n",
      "Nodes left in queue            =      446\n",
      "\n",
      "Time taken = 0.0623 seconds\n",
      "\n",
      "Solve the following sliding blocks problem.\n",
      "Get from this initial state:\n"
     ]
    },
    {
     "data": {
      "image/png": "[encoded data removed]",
      "text/plain": [
       "<Figure size 410x410 with 1 Axes>"
      ]
     },
     "metadata": {},
     "output_type": "display_data"
    },
    {
     "name": "stdout",
     "output_type": "stream",
     "text": [
      "To a state incorporating the following block position(s):\n"
     ]
    },
    {
     "data": {
      "image/png": "[encoded data removed]",
      "text/plain": [
       "<Figure size 410x410 with 1 Axes>"
      ]
     },
     "metadata": {},
     "output_type": "display_data"
    },
    {
     "name": "stdout",
     "output_type": "stream",
     "text": [
      "\n",
      "** Running Brandon's Search Algorithm **\n",
      "Strategy: mode=DF, cost=None, heuristic=euclidean_heuristic\n",
      "Max search nodes: 100000  (max number added to queue)\n",
      "Searching (will output '.' each 1000 goal_tests)\n",
      ".........\n",
      "!! Search node limit (100000) reached !!\n",
      "): No solution found :(\n",
      "\n",
      "\n",
      "SEARCH SPACE STATS:\n",
      "Total nodes generated          =   120855  (includes start)\n",
      "Nodes discarded by loop_check  =    20854  (100001 distinct states added to queue)\n",
      "Nodes tested (by goal_test)    =     9775  (all expanded)\n",
      "Nodes left in queue            =    90225\n",
      "\n",
      "Time taken = 21.3849 seconds\n",
      "\n",
      "Solve the following sliding blocks problem.\n",
      "Get from this initial state:\n"
     ]
    },
    {
     "data": {
      "image/png": "[encoded data removed]",
      "text/plain": [
       "<Figure size 410x410 with 1 Axes>"
      ]
     },
     "metadata": {},
     "output_type": "display_data"
    },
    {
     "name": "stdout",
     "output_type": "stream",
     "text": [
      "To a state incorporating the following block position(s):\n"
     ]
    },
    {
     "data": {
      "image/png": "[encoded data removed]",
      "text/plain": [
       "<Figure size 410x410 with 1 Axes>"
      ]
     },
     "metadata": {},
     "output_type": "display_data"
    },
    {
     "name": "stdout",
     "output_type": "stream",
     "text": [
      "\n",
      "** Running Brandon's Search Algorithm **\n",
      "Strategy: mode=DF, cost=None, heuristic=chebyshev_heuristic\n",
      "Max search nodes: 100000  (max number added to queue)\n",
      "Searching (will output '.' each 1000 goal_tests)\n",
      ".........\n",
      "!! Search node limit (100000) reached !!\n",
      "): No solution found :(\n",
      "\n",
      "\n",
      "SEARCH SPACE STATS:\n",
      "Total nodes generated          =   120816  (includes start)\n",
      "Nodes discarded by loop_check  =    20815  (100001 distinct states added to queue)\n",
      "Nodes tested (by goal_test)    =     9804  (all expanded)\n",
      "Nodes left in queue            =    90196\n",
      "\n",
      "Time taken = 39.1369 seconds\n",
      "\n",
      "Solve the following sliding blocks problem.\n",
      "Get from this initial state:\n"
     ]
    },
    {
     "data": {
      "image/png": "[encoded data removed]",
      "text/plain": [
       "<Figure size 410x410 with 1 Axes>"
      ]
     },
     "metadata": {},
     "output_type": "display_data"
    },
    {
     "name": "stdout",
     "output_type": "stream",
     "text": [
      "To a state incorporating the following block position(s):\n"
     ]
    },
    {
     "data": {
      "image/png": "[encoded data removed]",
      "text/plain": [
       "<Figure size 410x410 with 1 Axes>"
      ]
     },
     "metadata": {},
     "output_type": "display_data"
    },
    {
     "name": "stdout",
     "output_type": "stream",
     "text": [
      "\n",
      "** Running Brandon's Search Algorithm **\n",
      "Strategy: mode=DF, cost=cost, heuristic=manhatten_heuristic\n",
      "Max search nodes: 100000  (max number added to queue)\n",
      "Searching (will output '.' each 1000 goal_tests)\n",
      "........\n",
      ":-)) *SUCCESS* ((-:\n",
      "\n",
      "Path length = 11\n",
      "Goal state is:\n"
     ]
    },
    {
     "data": {
      "image/png": "[encoded data removed]",
      "text/plain": [
       "<Figure size 410x410 with 1 Axes>"
      ]
     },
     "metadata": {},
     "output_type": "display_data"
    },
    {
     "name": "stdout",
     "output_type": "stream",
     "text": [
      "Cost of reaching goal: 11\n",
      "\n",
      "SEARCH SPACE STATS:\n",
      "Total nodes generated          =   143840  (includes start)\n",
      "Nodes discarded by loop_check  =   110145  (33695 distinct states added to queue)\n",
      "Nodes tested (by goal_test)    =     8799  (8798 expanded + 1 goal)\n",
      "Nodes left in queue            =    24896\n",
      "\n",
      "Time taken = 23.0295 seconds\n",
      "\n",
      "Solve the following sliding blocks problem.\n",
      "Get from this initial state:\n"
     ]
    },
    {
     "data": {
      "image/png": "[encoded data removed]",
      "text/plain": [
       "<Figure size 410x410 with 1 Axes>"
      ]
     },
     "metadata": {},
     "output_type": "display_data"
    },
    {
     "name": "stdout",
     "output_type": "stream",
     "text": [
      "To a state incorporating the following block position(s):\n"
     ]
    },
    {
     "data": {
      "image/png": "[encoded data removed]",
      "text/plain": [
       "<Figure size 410x410 with 1 Axes>"
      ]
     },
     "metadata": {},
     "output_type": "display_data"
    },
    {
     "name": "stdout",
     "output_type": "stream",
     "text": [
      "\n",
      "** Running Brandon's Search Algorithm **\n",
      "Strategy: mode=DF, cost=cost, heuristic=euclidean_heuristic\n",
      "Max search nodes: 100000  (max number added to queue)\n",
      "Searching (will output '.' each 1000 goal_tests)\n",
      "...................................\n",
      "!! Search node limit (100000) reached !!\n",
      "): No solution found :(\n",
      "\n",
      "\n",
      "SEARCH SPACE STATS:\n",
      "Total nodes generated          =   570531  (includes start)\n",
      "Nodes discarded by loop_check  =   470530  (100001 distinct states added to queue)\n",
      "Nodes tested (by goal_test)    =    35510  (all expanded)\n",
      "Nodes left in queue            =    64490\n",
      "\n",
      "Time taken = 19.6632 seconds\n",
      "\n",
      "Solve the following sliding blocks problem.\n",
      "Get from this initial state:\n"
     ]
    },
    {
     "data": {
      "image/png": "[encoded data removed]",
      "text/plain": [
       "<Figure size 410x410 with 1 Axes>"
      ]
     },
     "metadata": {},
     "output_type": "display_data"
    },
    {
     "name": "stdout",
     "output_type": "stream",
     "text": [
      "To a state incorporating the following block position(s):\n"
     ]
    },
    {
     "data": {
      "image/png": "[encoded data removed]",
      "text/plain": [
       "<Figure size 410x410 with 1 Axes>"
      ]
     },
     "metadata": {},
     "output_type": "display_data"
    },
    {
     "name": "stdout",
     "output_type": "stream",
     "text": [
      "\n",
      "** Running Brandon's Search Algorithm **\n",
      "Strategy: mode=DF, cost=cost, heuristic=chebyshev_heuristic\n",
      "Max search nodes: 100000  (max number added to queue)\n",
      "Searching (will output '.' each 1000 goal_tests)\n",
      "................................\n",
      "!! Search node limit (100000) reached !!\n",
      "): No solution found :(\n",
      "\n",
      "\n",
      "SEARCH SPACE STATS:\n",
      "Total nodes generated          =   526086  (includes start)\n",
      "Nodes discarded by loop_check  =   426085  (100001 distinct states added to queue)\n",
      "Nodes tested (by goal_test)    =    32541  (all expanded)\n",
      "Nodes left in queue            =    67459\n",
      "\n",
      "Time taken = 18.4781 seconds\n",
      "\n",
      "Solve the following sliding blocks problem.\n",
      "Get from this initial state:\n"
     ]
    },
    {
     "data": {
      "image/png": "[encoded data removed]",
      "text/plain": [
       "<Figure size 410x410 with 1 Axes>"
      ]
     },
     "metadata": {},
     "output_type": "display_data"
    },
    {
     "name": "stdout",
     "output_type": "stream",
     "text": [
      "To a state incorporating the following block position(s):\n"
     ]
    },
    {
     "data": {
      "image/png": "[encoded data removed]",
      "text/plain": [
       "<Figure size 410x410 with 1 Axes>"
      ]
     },
     "metadata": {},
     "output_type": "display_data"
    },
    {
     "name": "stdout",
     "output_type": "stream",
     "text": [
      "\n",
      "** Running Brandon's Search Algorithm **\n",
      "Strategy: mode=DF, cost=None, heuristic=None\n",
      "Max search nodes: 100000  (max number added to queue)\n",
      "Searching (will output '.' each 1000 goal_tests)\n",
      "..\n",
      ":-)) *SUCCESS* ((-:\n",
      "\n",
      "Path length = 2065\n",
      "Goal state is:\n"
     ]
    },
    {
     "data": {
      "image/png": "[encoded data removed]",
      "text/plain": [
       "<Figure size 410x410 with 1 Axes>"
      ]
     },
     "metadata": {},
     "output_type": "display_data"
    },
    {
     "name": "stdout",
     "output_type": "stream",
     "text": [
      "\n",
      "SEARCH SPACE STATS:\n",
      "Total nodes generated          =    28463  (includes start)\n",
      "Nodes discarded by loop_check  =     4205  (24258 distinct states added to queue)\n",
      "Nodes tested (by goal_test)    =     2066  (2065 expanded + 1 goal)\n",
      "Nodes left in queue            =    22192\n",
      "\n",
      "Time taken = 2.3492 seconds\n",
      "\n",
      "Solve the following sliding blocks problem.\n",
      "Get from this initial state:\n"
     ]
    },
    {
     "data": {
      "image/png": "[encoded data removed]",
      "text/plain": [
       "<Figure size 410x410 with 1 Axes>"
      ]
     },
     "metadata": {},
     "output_type": "display_data"
    },
    {
     "name": "stdout",
     "output_type": "stream",
     "text": [
      "To a state incorporating the following block position(s):\n"
     ]
    },
    {
     "data": {
      "image/png": "[encoded data removed]",
      "text/plain": [
       "<Figure size 410x410 with 1 Axes>"
      ]
     },
     "metadata": {},
     "output_type": "display_data"
    },
    {
     "name": "stdout",
     "output_type": "stream",
     "text": [
      "\n",
      "** Running Brandon's Search Algorithm **\n",
      "Strategy: mode=BF, cost=None, heuristic=None\n",
      "Max search nodes: 100000  (max number added to queue)\n",
      "Searching (will output '.' each 1000 goal_tests)\n",
      ".......................................\n",
      "!! Search node limit (100000) reached !!\n",
      "): No solution found :(\n",
      "\n",
      "\n",
      "SEARCH SPACE STATS:\n",
      "Total nodes generated          =   636742  (includes start)\n",
      "Nodes discarded by loop_check  =   536741  (100001 distinct states added to queue)\n",
      "Nodes tested (by goal_test)    =    39159  (all expanded)\n",
      "Nodes left in queue            =    60841\n",
      "\n",
      "Time taken = 20.3728 seconds\n",
      "\n",
      "Solve the following sliding blocks problem.\n",
      "Get from this initial state:\n"
     ]
    },
    {
     "data": {
      "image/png": "[encoded data removed]",
      "text/plain": [
       "<Figure size 410x410 with 1 Axes>"
      ]
     },
     "metadata": {},
     "output_type": "display_data"
    },
    {
     "name": "stdout",
     "output_type": "stream",
     "text": [
      "To a state incorporating the following block position(s):\n"
     ]
    },
    {
     "data": {
      "image/png": "[encoded data removed]",
      "text/plain": [
       "<Figure size 410x410 with 1 Axes>"
      ]
     },
     "metadata": {},
     "output_type": "display_data"
    },
    {
     "name": "stdout",
     "output_type": "stream",
     "text": [
      "\n",
      "** Running Brandon's Search Algorithm **\n",
      "Strategy: mode=DF, cost=None, heuristic=manhatten_heuristic\n",
      "Max search nodes: 100000  (max number added to queue)\n",
      "Searching (will output '.' each 1000 goal_tests)\n",
      "\n",
      ":-)) *SUCCESS* ((-:\n",
      "\n",
      "Path length = 85\n",
      "Goal state is:\n"
     ]
    },
    {
     "data": {
      "image/png": "[encoded data removed]",
      "text/plain": [
       "<Figure size 410x410 with 1 Axes>"
      ]
     },
     "metadata": {},
     "output_type": "display_data"
    },
    {
     "name": "stdout",
     "output_type": "stream",
     "text": [
      "\n",
      "SEARCH SPACE STATS:\n",
      "Total nodes generated          =     1187  (includes start)\n",
      "Nodes discarded by loop_check  =      174  (1013 distinct states added to queue)\n",
      "Nodes tested (by goal_test)    =       86  (85 expanded + 1 goal)\n",
      "Nodes left in queue            =      927\n",
      "\n",
      "Time taken = 0.0864 seconds\n",
      "\n",
      "Solve the following sliding blocks problem.\n",
      "Get from this initial state:\n"
     ]
    },
    {
     "data": {
      "image/png": "[encoded data removed]",
      "text/plain": [
       "<Figure size 410x410 with 1 Axes>"
      ]
     },
     "metadata": {},
     "output_type": "display_data"
    },
    {
     "name": "stdout",
     "output_type": "stream",
     "text": [
      "To a state incorporating the following block position(s):\n"
     ]
    },
    {
     "data": {
      "image/png": "[encoded data removed]",
      "text/plain": [
       "<Figure size 410x410 with 1 Axes>"
      ]
     },
     "metadata": {},
     "output_type": "display_data"
    },
    {
     "name": "stdout",
     "output_type": "stream",
     "text": [
      "\n",
      "** Running Brandon's Search Algorithm **\n",
      "Strategy: mode=DF, cost=None, heuristic=euclidean_heuristic\n",
      "Max search nodes: 100000  (max number added to queue)\n",
      "Searching (will output '.' each 1000 goal_tests)\n",
      ".........\n",
      "!! Search node limit (100000) reached !!\n",
      "): No solution found :(\n",
      "\n",
      "\n",
      "SEARCH SPACE STATS:\n",
      "Total nodes generated          =   121188  (includes start)\n",
      "Nodes discarded by loop_check  =    21187  (100001 distinct states added to queue)\n",
      "Nodes tested (by goal_test)    =     9801  (all expanded)\n",
      "Nodes left in queue            =    90199\n",
      "\n",
      "Time taken = 21.1822 seconds\n",
      "\n",
      "Solve the following sliding blocks problem.\n",
      "Get from this initial state:\n"
     ]
    },
    {
     "data": {
      "image/png": "[encoded data removed]",
      "text/plain": [
       "<Figure size 410x410 with 1 Axes>"
      ]
     },
     "metadata": {},
     "output_type": "display_data"
    },
    {
     "name": "stdout",
     "output_type": "stream",
     "text": [
      "To a state incorporating the following block position(s):\n"
     ]
    },
    {
     "data": {
      "image/png": "[encoded data removed]",
      "text/plain": [
       "<Figure size 410x410 with 1 Axes>"
      ]
     },
     "metadata": {},
     "output_type": "display_data"
    },
    {
     "name": "stdout",
     "output_type": "stream",
     "text": [
      "\n",
      "** Running Brandon's Search Algorithm **\n",
      "Strategy: mode=DF, cost=None, heuristic=chebyshev_heuristic\n",
      "Max search nodes: 100000  (max number added to queue)\n",
      "Searching (will output '.' each 1000 goal_tests)\n",
      "\n",
      ":-)) *SUCCESS* ((-:\n",
      "\n",
      "Path length = 266\n",
      "Goal state is:\n"
     ]
    },
    {
     "data": {
      "image/png": "[encoded data removed]",
      "text/plain": [
       "<Figure size 410x410 with 1 Axes>"
      ]
     },
     "metadata": {},
     "output_type": "display_data"
    },
    {
     "name": "stdout",
     "output_type": "stream",
     "text": [
      "\n",
      "SEARCH SPACE STATS:\n",
      "Total nodes generated          =     3531  (includes start)\n",
      "Nodes discarded by loop_check  =      539  (2992 distinct states added to queue)\n",
      "Nodes tested (by goal_test)    =      267  (266 expanded + 1 goal)\n",
      "Nodes left in queue            =     2725\n",
      "\n",
      "Time taken = 0.1809 seconds\n",
      "\n",
      "Solve the following sliding blocks problem.\n",
      "Get from this initial state:\n"
     ]
    },
    {
     "data": {
      "image/png": "[encoded data removed]",
      "text/plain": [
       "<Figure size 410x410 with 1 Axes>"
      ]
     },
     "metadata": {},
     "output_type": "display_data"
    },
    {
     "name": "stdout",
     "output_type": "stream",
     "text": [
      "To a state incorporating the following block position(s):\n"
     ]
    },
    {
     "data": {
      "image/png": "[encoded data removed]",
      "text/plain": [
       "<Figure size 410x410 with 1 Axes>"
      ]
     },
     "metadata": {},
     "output_type": "display_data"
    },
    {
     "name": "stdout",
     "output_type": "stream",
     "text": [
      "\n",
      "** Running Brandon's Search Algorithm **\n",
      "Strategy: mode=DF, cost=cost, heuristic=manhatten_heuristic\n",
      "Max search nodes: 100000  (max number added to queue)\n",
      "Searching (will output '.' each 1000 goal_tests)\n",
      "........\n",
      ":-)) *SUCCESS* ((-:\n",
      "\n",
      "Path length = 11\n",
      "Goal state is:\n"
     ]
    },
    {
     "data": {
      "image/png": "[encoded data removed]",
      "text/plain": [
       "<Figure size 410x410 with 1 Axes>"
      ]
     },
     "metadata": {},
     "output_type": "display_data"
    },
    {
     "name": "stdout",
     "output_type": "stream",
     "text": [
      "Cost of reaching goal: 11\n",
      "\n",
      "SEARCH SPACE STATS:\n",
      "Total nodes generated          =   142163  (includes start)\n",
      "Nodes discarded by loop_check  =   108693  (33470 distinct states added to queue)\n",
      "Nodes tested (by goal_test)    =     8697  (8696 expanded + 1 goal)\n",
      "Nodes left in queue            =    24773\n",
      "\n",
      "Time taken = 23.1035 seconds\n",
      "\n",
      "Solve the following sliding blocks problem.\n",
      "Get from this initial state:\n"
     ]
    },
    {
     "data": {
      "image/png": "[encoded data removed]",
      "text/plain": [
       "<Figure size 410x410 with 1 Axes>"
      ]
     },
     "metadata": {},
     "output_type": "display_data"
    },
    {
     "name": "stdout",
     "output_type": "stream",
     "text": [
      "To a state incorporating the following block position(s):\n"
     ]
    },
    {
     "data": {
      "image/png": "[encoded data removed]",
      "text/plain": [
       "<Figure size 410x410 with 1 Axes>"
      ]
     },
     "metadata": {},
     "output_type": "display_data"
    },
    {
     "name": "stdout",
     "output_type": "stream",
     "text": [
      "\n",
      "** Running Brandon's Search Algorithm **\n",
      "Strategy: mode=DF, cost=cost, heuristic=euclidean_heuristic\n",
      "Max search nodes: 100000  (max number added to queue)\n",
      "Searching (will output '.' each 1000 goal_tests)\n",
      "...................................\n",
      "!! Search node limit (100000) reached !!\n",
      "): No solution found :(\n",
      "\n",
      "\n",
      "SEARCH SPACE STATS:\n",
      "Total nodes generated          =   569917  (includes start)\n",
      "Nodes discarded by loop_check  =   469916  (100001 distinct states added to queue)\n",
      "Nodes tested (by goal_test)    =    35471  (all expanded)\n",
      "Nodes left in queue            =    64529\n",
      "\n",
      "Time taken = 19.2624 seconds\n",
      "\n",
      "Solve the following sliding blocks problem.\n",
      "Get from this initial state:\n"
     ]
    },
    {
     "data": {
      "image/png": "[encoded data removed]",
      "text/plain": [
       "<Figure size 410x410 with 1 Axes>"
      ]
     },
     "metadata": {},
     "output_type": "display_data"
    },
    {
     "name": "stdout",
     "output_type": "stream",
     "text": [
      "To a state incorporating the following block position(s):\n"
     ]
    },
    {
     "data": {
      "image/png": "[encoded data removed]",
      "text/plain": [
       "<Figure size 410x410 with 1 Axes>"
      ]
     },
     "metadata": {},
     "output_type": "display_data"
    },
    {
     "name": "stdout",
     "output_type": "stream",
     "text": [
      "\n",
      "** Running Brandon's Search Algorithm **\n",
      "Strategy: mode=DF, cost=cost, heuristic=chebyshev_heuristic\n",
      "Max search nodes: 100000  (max number added to queue)\n",
      "Searching (will output '.' each 1000 goal_tests)\n",
      "...............................\n",
      "!! Search node limit (100000) reached !!\n",
      "): No solution found :(\n",
      "\n",
      "\n",
      "SEARCH SPACE STATS:\n",
      "Total nodes generated          =   514128  (includes start)\n",
      "Nodes discarded by loop_check  =   414127  (100001 distinct states added to queue)\n",
      "Nodes tested (by goal_test)    =    31559  (all expanded)\n",
      "Nodes left in queue            =    68441\n",
      "\n",
      "Time taken = 18.4005 seconds\n",
      "\n",
      "Solve the following sliding blocks problem.\n",
      "Get from this initial state:\n"
     ]
    },
    {
     "data": {
      "image/png": "[encoded data removed]",
      "text/plain": [
       "<Figure size 410x410 with 1 Axes>"
      ]
     },
     "metadata": {},
     "output_type": "display_data"
    },
    {
     "name": "stdout",
     "output_type": "stream",
     "text": [
      "To a state incorporating the following block position(s):\n"
     ]
    },
    {
     "data": {
      "image/png": "[encoded data removed]",
      "text/plain": [
       "<Figure size 410x410 with 1 Axes>"
      ]
     },
     "metadata": {},
     "output_type": "display_data"
    },
    {
     "name": "stdout",
     "output_type": "stream",
     "text": [
      "\n",
      "** Running Brandon's Search Algorithm **\n",
      "Strategy: mode=DF, cost=None, heuristic=None\n",
      "Max search nodes: 100000  (max number added to queue)\n",
      "Searching (will output '.' each 1000 goal_tests)\n",
      ".\n",
      ":-)) *SUCCESS* ((-:\n",
      "\n",
      "Path length = 1855\n",
      "Goal state is:\n"
     ]
    },
    {
     "data": {
      "image/png": "[encoded data removed]",
      "text/plain": [
       "<Figure size 410x410 with 1 Axes>"
      ]
     },
     "metadata": {},
     "output_type": "display_data"
    },
    {
     "name": "stdout",
     "output_type": "stream",
     "text": [
      "\n",
      "SEARCH SPACE STATS:\n",
      "Total nodes generated          =    26061  (includes start)\n",
      "Nodes discarded by loop_check  =     3799  (22262 distinct states added to queue)\n",
      "Nodes tested (by goal_test)    =     1856  (1855 expanded + 1 goal)\n",
      "Nodes left in queue            =    20406\n",
      "\n",
      "Time taken = 2.2157 seconds\n",
      "\n",
      "Solve the following sliding blocks problem.\n",
      "Get from this initial state:\n"
     ]
    },
    {
     "data": {
      "image/png": "[encoded data removed]",
      "text/plain": [
       "<Figure size 410x410 with 1 Axes>"
      ]
     },
     "metadata": {},
     "output_type": "display_data"
    },
    {
     "name": "stdout",
     "output_type": "stream",
     "text": [
      "To a state incorporating the following block position(s):\n"
     ]
    },
    {
     "data": {
      "image/png": "[encoded data removed]",
      "text/plain": [
       "<Figure size 410x410 with 1 Axes>"
      ]
     },
     "metadata": {},
     "output_type": "display_data"
    },
    {
     "name": "stdout",
     "output_type": "stream",
     "text": [
      "\n",
      "** Running Brandon's Search Algorithm **\n",
      "Strategy: mode=BF, cost=None, heuristic=None\n",
      "Max search nodes: 100000  (max number added to queue)\n",
      "Searching (will output '.' each 1000 goal_tests)\n",
      ".......................................\n",
      "!! Search node limit (100000) reached !!\n",
      "): No solution found :(\n",
      "\n",
      "\n",
      "SEARCH SPACE STATS:\n",
      "Total nodes generated          =   639065  (includes start)\n",
      "Nodes discarded by loop_check  =   539064  (100001 distinct states added to queue)\n",
      "Nodes tested (by goal_test)    =    39695  (all expanded)\n",
      "Nodes left in queue            =    60305\n",
      "\n",
      "Time taken = 20.4967 seconds\n",
      "\n",
      "Solve the following sliding blocks problem.\n",
      "Get from this initial state:\n"
     ]
    },
    {
     "data": {
      "image/png": "[encoded data removed]",
      "text/plain": [
       "<Figure size 410x410 with 1 Axes>"
      ]
     },
     "metadata": {},
     "output_type": "display_data"
    },
    {
     "name": "stdout",
     "output_type": "stream",
     "text": [
      "To a state incorporating the following block position(s):\n"
     ]
    },
    {
     "data": {
      "image/png": "[encoded data removed]",
      "text/plain": [
       "<Figure size 410x410 with 1 Axes>"
      ]
     },
     "metadata": {},
     "output_type": "display_data"
    },
    {
     "name": "stdout",
     "output_type": "stream",
     "text": [
      "\n",
      "** Running Brandon's Search Algorithm **\n",
      "Strategy: mode=DF, cost=None, heuristic=manhatten_heuristic\n",
      "Max search nodes: 100000  (max number added to queue)\n",
      "Searching (will output '.' each 1000 goal_tests)\n",
      "\n",
      ":-)) *SUCCESS* ((-:\n",
      "\n",
      "Path length = 173\n",
      "Goal state is:\n"
     ]
    },
    {
     "data": {
      "image/png": "[encoded data removed]",
      "text/plain": [
       "<Figure size 410x410 with 1 Axes>"
      ]
     },
     "metadata": {},
     "output_type": "display_data"
    },
    {
     "name": "stdout",
     "output_type": "stream",
     "text": [
      "\n",
      "SEARCH SPACE STATS:\n",
      "Total nodes generated          =     2383  (includes start)\n",
      "Nodes discarded by loop_check  =      363  (2020 distinct states added to queue)\n",
      "Nodes tested (by goal_test)    =      174  (173 expanded + 1 goal)\n",
      "Nodes left in queue            =     1846\n",
      "\n",
      "Time taken = 0.1291 seconds\n",
      "\n",
      "Solve the following sliding blocks problem.\n",
      "Get from this initial state:\n"
     ]
    },
    {
     "data": {
      "image/png": "[encoded data removed]",
      "text/plain": [
       "<Figure size 410x410 with 1 Axes>"
      ]
     },
     "metadata": {},
     "output_type": "display_data"
    },
    {
     "name": "stdout",
     "output_type": "stream",
     "text": [
      "To a state incorporating the following block position(s):\n"
     ]
    },
    {
     "data": {
      "image/png": "[encoded data removed]",
      "text/plain": [
       "<Figure size 410x410 with 1 Axes>"
      ]
     },
     "metadata": {},
     "output_type": "display_data"
    },
    {
     "name": "stdout",
     "output_type": "stream",
     "text": [
      "\n",
      "** Running Brandon's Search Algorithm **\n",
      "Strategy: mode=DF, cost=None, heuristic=euclidean_heuristic\n",
      "Max search nodes: 100000  (max number added to queue)\n",
      "Searching (will output '.' each 1000 goal_tests)\n",
      ".........\n",
      "!! Search node limit (100000) reached !!\n",
      "): No solution found :(\n",
      "\n",
      "\n",
      "SEARCH SPACE STATS:\n",
      "Total nodes generated          =   121112  (includes start)\n",
      "Nodes discarded by loop_check  =    21111  (100001 distinct states added to queue)\n",
      "Nodes tested (by goal_test)    =     9857  (all expanded)\n",
      "Nodes left in queue            =    90143\n",
      "\n",
      "Time taken = 21.3642 seconds\n",
      "\n",
      "Solve the following sliding blocks problem.\n",
      "Get from this initial state:\n"
     ]
    },
    {
     "data": {
      "image/png": "[encoded data removed]",
      "text/plain": [
       "<Figure size 410x410 with 1 Axes>"
      ]
     },
     "metadata": {},
     "output_type": "display_data"
    },
    {
     "name": "stdout",
     "output_type": "stream",
     "text": [
      "To a state incorporating the following block position(s):\n"
     ]
    },
    {
     "data": {
      "image/png": "[encoded data removed]",
      "text/plain": [
       "<Figure size 410x410 with 1 Axes>"
      ]
     },
     "metadata": {},
     "output_type": "display_data"
    },
    {
     "name": "stdout",
     "output_type": "stream",
     "text": [
      "\n",
      "** Running Brandon's Search Algorithm **\n",
      "Strategy: mode=DF, cost=None, heuristic=chebyshev_heuristic\n",
      "Max search nodes: 100000  (max number added to queue)\n",
      "Searching (will output '.' each 1000 goal_tests)\n",
      ".........\n",
      "!! Search node limit (100000) reached !!\n",
      "): No solution found :(\n",
      "\n",
      "\n",
      "SEARCH SPACE STATS:\n",
      "Total nodes generated          =   120706  (includes start)\n",
      "Nodes discarded by loop_check  =    20705  (100001 distinct states added to queue)\n",
      "Nodes tested (by goal_test)    =     9678  (all expanded)\n",
      "Nodes left in queue            =    90322\n",
      "\n",
      "Time taken = 40.6861 seconds\n",
      "\n",
      "Solve the following sliding blocks problem.\n",
      "Get from this initial state:\n"
     ]
    },
    {
     "data": {
      "image/png": "[encoded data removed]",
      "text/plain": [
       "<Figure size 410x410 with 1 Axes>"
      ]
     },
     "metadata": {},
     "output_type": "display_data"
    },
    {
     "name": "stdout",
     "output_type": "stream",
     "text": [
      "To a state incorporating the following block position(s):\n"
     ]
    },
    {
     "data": {
      "image/png": "[encoded data removed]",
      "text/plain": [
       "<Figure size 410x410 with 1 Axes>"
      ]
     },
     "metadata": {},
     "output_type": "display_data"
    },
    {
     "name": "stdout",
     "output_type": "stream",
     "text": [
      "\n",
      "** Running Brandon's Search Algorithm **\n",
      "Strategy: mode=DF, cost=cost, heuristic=manhatten_heuristic\n",
      "Max search nodes: 100000  (max number added to queue)\n",
      "Searching (will output '.' each 1000 goal_tests)\n",
      "..............\n",
      ":-)) *SUCCESS* ((-:\n",
      "\n",
      "Path length = 11\n",
      "Goal state is:\n"
     ]
    },
    {
     "data": {
      "image/png": "[encoded data removed]",
      "text/plain": [
       "<Figure size 410x410 with 1 Axes>"
      ]
     },
     "metadata": {},
     "output_type": "display_data"
    },
    {
     "name": "stdout",
     "output_type": "stream",
     "text": [
      "Cost of reaching goal: 11\n",
      "\n",
      "SEARCH SPACE STATS:\n",
      "Total nodes generated          =   240451  (includes start)\n",
      "Nodes discarded by loop_check  =   191936  (48515 distinct states added to queue)\n",
      "Nodes tested (by goal_test)    =    14952  (14951 expanded + 1 goal)\n",
      "Nodes left in queue            =    33563\n",
      "\n",
      "Time taken = 26.3417 seconds\n",
      "\n",
      "Solve the following sliding blocks problem.\n",
      "Get from this initial state:\n"
     ]
    },
    {
     "data": {
      "image/png": "[encoded data removed]",
      "text/plain": [
       "<Figure size 410x410 with 1 Axes>"
      ]
     },
     "metadata": {},
     "output_type": "display_data"
    },
    {
     "name": "stdout",
     "output_type": "stream",
     "text": [
      "To a state incorporating the following block position(s):\n"
     ]
    },
    {
     "data": {
      "image/png": "[encoded data removed]",
      "text/plain": [
       "<Figure size 410x410 with 1 Axes>"
      ]
     },
     "metadata": {},
     "output_type": "display_data"
    },
    {
     "name": "stdout",
     "output_type": "stream",
     "text": [
      "\n",
      "** Running Brandon's Search Algorithm **\n",
      "Strategy: mode=DF, cost=cost, heuristic=euclidean_heuristic\n",
      "Max search nodes: 100000  (max number added to queue)\n",
      "Searching (will output '.' each 1000 goal_tests)\n",
      "...................................\n",
      "!! Search node limit (100000) reached !!\n",
      "): No solution found :(\n",
      "\n",
      "\n",
      "SEARCH SPACE STATS:\n",
      "Total nodes generated          =   570327  (includes start)\n",
      "Nodes discarded by loop_check  =   470326  (100001 distinct states added to queue)\n",
      "Nodes tested (by goal_test)    =    35506  (all expanded)\n",
      "Nodes left in queue            =    64494\n",
      "\n",
      "Time taken = 19.5077 seconds\n",
      "\n",
      "Solve the following sliding blocks problem.\n",
      "Get from this initial state:\n"
     ]
    },
    {
     "data": {
      "image/png": "[encoded data removed]",
      "text/plain": [
       "<Figure size 410x410 with 1 Axes>"
      ]
     },
     "metadata": {},
     "output_type": "display_data"
    },
    {
     "name": "stdout",
     "output_type": "stream",
     "text": [
      "To a state incorporating the following block position(s):\n"
     ]
    },
    {
     "data": {
      "image/png": "[encoded data removed]",
      "text/plain": [
       "<Figure size 410x410 with 1 Axes>"
      ]
     },
     "metadata": {},
     "output_type": "display_data"
    },
    {
     "name": "stdout",
     "output_type": "stream",
     "text": [
      "\n",
      "** Running Brandon's Search Algorithm **\n",
      "Strategy: mode=DF, cost=cost, heuristic=chebyshev_heuristic\n",
      "Max search nodes: 100000  (max number added to queue)\n",
      "Searching (will output '.' each 1000 goal_tests)\n",
      "................................\n",
      "!! Search node limit (100000) reached !!\n",
      "): No solution found :(\n",
      "\n",
      "\n",
      "SEARCH SPACE STATS:\n",
      "Total nodes generated          =   521213  (includes start)\n",
      "Nodes discarded by loop_check  =   421212  (100001 distinct states added to queue)\n",
      "Nodes tested (by goal_test)    =    32110  (all expanded)\n",
      "Nodes left in queue            =    67890\n",
      "\n",
      "Time taken = 18.692 seconds\n",
      "\n"
     ]
    }
   ],
   "source": [
    "iterations = 10\n",
    "puzzle = big_puzzle\n",
    "\n",
    "# Specify symbols for termination conditions:\n",
    "short_tc = {\"GOAL_STATE_FOUND\"     : \"Y\",\n",
    "            \"NODE_LIMIT_EXCEEDED\"  : \"!\",\n",
    "            \"SEARH-SPACE_EXHAUSTED\": \"x\"}\n",
    "\n",
    "# Define the search types and their corresponding parameters\n",
    "search_types = {\n",
    "    'DF': {'search_type': 'DF', 'heuristic': None, 'cost': None},\n",
    "    'BF': {'search_type': 'BF', 'heuristic': None, 'cost': None},\n",
    "    'Best_M': {'search_type': 'DF', 'heuristic': manhatten_heuristic, 'cost': None},\n",
    "    'Best_E': {'search_type': 'DF', 'heuristic': euclidean_heuristic, 'cost': None},\n",
    "    'Best_C': {'search_type': 'DF', 'heuristic': chebyshev_heuristic, 'cost': None},\n",
    "    'A*_M': {'search_type': 'DF', 'heuristic': manhatten_heuristic, 'cost': puzzle.cost},\n",
    "    'A*_E': {'search_type': 'DF', 'heuristic': euclidean_heuristic, 'cost': puzzle.cost},\n",
    "    'A*_C': {'search_type': 'DF', 'heuristic': chebyshev_heuristic, 'cost': puzzle.cost}\n",
    "}\n",
    "\n",
    "# Initialize accumulators for each search\n",
    "search_stats = {search_type: {'max_nodes': 0, 'ng': 0, 'nq': 0, 'time': 0, 'termination_condition': 'SEARH-SPACE_EXHAUSTED'} for search_type in search_types}\n",
    "\n",
    "for _ in range(iterations):\n",
    "    for search_type, params in search_types.items():\n",
    "        # Perform the search\n",
    "        search_result = search(puzzle, params['search_type'], 100000, loop_check=True, randomise=True, show_state_path=False, return_info=True, show_path=False, heuristic=params['heuristic'], cost=params['cost'])\n",
    "\n",
    "        # Update the stats\n",
    "        search_stats[search_type]['max_nodes'] += search_result['args']['max_nodes']\n",
    "        search_stats[search_type]['ng'] += search_result['search_stats']['nodes_generated']\n",
    "        search_stats[search_type]['nq'] += search_result['search_stats']['nodes_left_in_queue']\n",
    "        search_stats[search_type]['time'] += round(search_result['search_stats']['time_taken'], 8)\n",
    "\n",
    "        # Update termination condition\n",
    "        if search_result['result']['termination_condition'] == 'GOAL_STATE_FOUND':\n",
    "            search_stats[search_type]['termination_condition'] = 'GOAL_STATE_FOUND'\n",
    "        elif search_result['result']['termination_condition'] == 'NODE_LIMIT_EXCEEDED' and search_stats[search_type]['termination_condition'] != 'GOAL_STATE_FOUND':\n",
    "            search_stats[search_type]['termination_condition'] = 'NODE_LIMIT_EXCEEDED'\n",
    "\n",
    "# Calculate averages\n",
    "for search_type in search_types:\n",
    "    search_stats[search_type]['max_nodes'] /= iterations\n",
    "    search_stats[search_type]['ng'] /= iterations\n",
    "    search_stats[search_type]['nq'] /= iterations\n",
    "    search_stats[search_type]['time'] /= iterations\n",
    "\n",
    "\n",
    "# Calculate averages\n",
    "for search_type in search_types:\n",
    "    search_stats[search_type]['max_nodes'] /= iterations\n",
    "    search_stats[search_type]['ng'] /= iterations\n",
    "    search_stats[search_type]['nq'] /= iterations\n",
    "    search_stats[search_type]['time'] /= iterations"
   ]
  },
  {
   "cell_type": "code",
   "execution_count": 9,
   "metadata": {},
   "outputs": [
    {
     "name": "stdout",
     "output_type": "stream",
     "text": [
      "\n",
      "                **AVERAGES**\n",
      "\n",
      "Test       #max       Result     #gen       #inQ       Time s          Termination    \n",
      "DF         10000.00   Y          3525.15    2748.29    0.33593955      GOAL_STATE_FOUND\n",
      "BF         10000.00   !          64055.00   6046.74    2.12907546      NODE_LIMIT_EXCEEDED\n",
      "Best_M     10000.00   Y          1376.19    1032.30    0.21004550      GOAL_STATE_FOUND\n",
      "Best_E     10000.00   !          12110.38   9017.32    2.27687766      NODE_LIMIT_EXCEEDED\n",
      "Best_C     10000.00   Y          9713.64    7249.67    3.40060413      GOAL_STATE_FOUND\n",
      "A*_M       10000.00   Y          18245.75   2839.34    2.46787132      GOAL_STATE_FOUND\n",
      "A*_E       10000.00   !          57057.71   6448.78    1.89211232      NODE_LIMIT_EXCEEDED\n",
      "A*_C       10000.00   !          52271.35   6788.93    1.82942189      NODE_LIMIT_EXCEEDED\n"
     ]
    }
   ],
   "source": [
    "# Print the results\n",
    "print(\"\\n                **AVERAGES**\\n\")\n",
    "print(f\"{'Test':<10} {'#max':<10} {'Result':<10} {'#gen':<10} {'#inQ':<10} {'Time s':<15} {'Termination':<15}\")\n",
    "for search_type, stats in search_stats.items():\n",
    "    print(f\"{search_type:<10} {stats['max_nodes']:<10.2f} {short_tc[stats['termination_condition']]:<10} {stats['ng']:<10.2f} {stats['nq']:<10.2f} {stats['time']:<15.8f} {stats['termination_condition']:<15}\")"
   ]
  },
  {
   "cell_type": "code",
   "execution_count": 10,
   "metadata": {},
   "outputs": [
    {
     "data": {
      "text/plain": [
       "'heuristicNoneTime = 0\\nheuristicTime = 0\\nheuristicNonePathLength = 0\\nheuristicPathLength = 0\\n\\nfor _ in range(1):\\n    small_search = search( big_puzzle, \\'DF\\', 100000, loop_check=True, randomise=True, show_state_path=False, \\n                        return_info=True, show_path=False, heuristic=None)\\n    heuristicNoneTime += small_search[\"search_stats\"][\"time_taken\"]\\n\\n    if type(small_search[\"result\"][\"path_length\"]) is int:\\n        heuristicNonePathLength += small_search[\"result\"][\"path_length\"]\\n\\n    small_search_heuristic = search( big_puzzle, \\'DF\\', 100000, loop_check=True, randomise=True, show_state_path=False,\\n                        return_info=True, show_path=False, heuristic=euclidean_heuristic)\\n    heuristicTime += small_search_heuristic[\"search_stats\"][\"time_taken\"]\\n    \\n    if type(small_search_heuristic[\"result\"][\"path_length\"]) is int:\\n        heuristicPathLength += small_search_heuristic[\"result\"][\"path_length\"]\\n\\nprint(\"No Heuristic: \", heuristicNoneTime/1)\\nprint(\"Heuristic: \", heuristicTime/1)\\nprint(\"Path length: \", heuristicNonePathLength/1)\\nprint(\"Path length: \", heuristicPathLength/1)'"
      ]
     },
     "execution_count": 10,
     "metadata": {},
     "output_type": "execute_result"
    }
   ],
   "source": [
    "'''heuristicNoneTime = 0\n",
    "heuristicTime = 0\n",
    "heuristicNonePathLength = 0\n",
    "heuristicPathLength = 0\n",
    "\n",
    "for _ in range(1):\n",
    "    small_search = search( big_puzzle, 'DF', 100000, loop_check=True, randomise=True, show_state_path=False, \n",
    "                        return_info=True, show_path=False, heuristic=None)\n",
    "    heuristicNoneTime += small_search[\"search_stats\"][\"time_taken\"]\n",
    "\n",
    "    if type(small_search[\"result\"][\"path_length\"]) is int:\n",
    "        heuristicNonePathLength += small_search[\"result\"][\"path_length\"]\n",
    "\n",
    "    small_search_heuristic = search( big_puzzle, 'DF', 100000, loop_check=True, randomise=True, show_state_path=False,\n",
    "                        return_info=True, show_path=False, heuristic=euclidean_heuristic)\n",
    "    heuristicTime += small_search_heuristic[\"search_stats\"][\"time_taken\"]\n",
    "    \n",
    "    if type(small_search_heuristic[\"result\"][\"path_length\"]) is int:\n",
    "        heuristicPathLength += small_search_heuristic[\"result\"][\"path_length\"]\n",
    "\n",
    "print(\"No Heuristic: \", heuristicNoneTime/1)\n",
    "print(\"Heuristic: \", heuristicTime/1)\n",
    "print(\"Path length: \", heuristicNonePathLength/1)\n",
    "print(\"Path length: \", heuristicPathLength/1)'''"
   ]
  }
 ],
 "metadata": {
  "kernelspec": {
   "display_name": ".venv",
   "language": "python",
   "name": "python3"
  },
  "language_info": {
   "codemirror_mode": {
    "name": "ipython",
    "version": 3
   },
   "file_extension": ".py",
   "mimetype": "text/x-python",
   "name": "python",
   "nbconvert_exporter": "python",
   "pygments_lexer": "ipython3",
   "version": "3.12.2"
  }
 },
 "nbformat": 4,
 "nbformat_minor": 2
}
